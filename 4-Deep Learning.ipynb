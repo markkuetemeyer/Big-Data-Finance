{
 "cells": [
  {
   "cell_type": "markdown",
   "metadata": {},
   "source": [
    "# Deep learning model and correction of bias"
   ]
  },
  {
   "cell_type": "markdown",
   "metadata": {},
   "source": [
    "Hypothesis: removing variables ZIP, rent, job_stability and occupation reduces bias against minority in model. "
   ]
  },
  {
   "cell_type": "markdown",
   "metadata": {},
   "source": [
    "Removing variables rent, ZIP, occupation and job_stability removes bias from model according to demographic parity, equal opportunity and equalised odds measurements."
   ]
  },
  {
   "cell_type": "code",
   "execution_count": 1,
   "metadata": {},
   "outputs": [
    {
     "name": "stderr",
     "output_type": "stream",
     "text": [
      "/Users/Rolf/anaconda3/lib/python3.7/site-packages/statsmodels/tools/_testing.py:19: FutureWarning: pandas.util.testing is deprecated. Use the functions in the public API at pandas.testing instead.\n",
      "  import pandas.util.testing as tm\n"
     ]
    }
   ],
   "source": [
    "import numpy as np\n",
    "import pandas as pd\n",
    "import seaborn as sns"
   ]
  },
  {
   "cell_type": "code",
   "execution_count": 2,
   "metadata": {},
   "outputs": [],
   "source": [
    "seed = 123\n",
    "np.random.seed(seed)"
   ]
  },
  {
   "cell_type": "code",
   "execution_count": 60,
   "metadata": {},
   "outputs": [
    {
     "name": "stdout",
     "output_type": "stream",
     "text": [
      "train shape: (471136, 13)\n"
     ]
    },
    {
     "data": {
      "text/html": [
       "<div>\n",
       "<style scoped>\n",
       "    .dataframe tbody tr th:only-of-type {\n",
       "        vertical-align: middle;\n",
       "    }\n",
       "\n",
       "    .dataframe tbody tr th {\n",
       "        vertical-align: top;\n",
       "    }\n",
       "\n",
       "    .dataframe thead th {\n",
       "        text-align: right;\n",
       "    }\n",
       "</style>\n",
       "<table border=\"1\" class=\"dataframe\">\n",
       "  <thead>\n",
       "    <tr style=\"text-align: right;\">\n",
       "      <th></th>\n",
       "      <th>minority</th>\n",
       "      <th>sex</th>\n",
       "      <th>ZIP</th>\n",
       "      <th>rent</th>\n",
       "      <th>education</th>\n",
       "      <th>age</th>\n",
       "      <th>income</th>\n",
       "      <th>loan_size</th>\n",
       "      <th>payment_timing</th>\n",
       "      <th>year</th>\n",
       "      <th>job_stability</th>\n",
       "      <th>occupation</th>\n",
       "      <th>default</th>\n",
       "    </tr>\n",
       "  </thead>\n",
       "  <tbody>\n",
       "    <tr>\n",
       "      <th>0</th>\n",
       "      <td>1</td>\n",
       "      <td>0</td>\n",
       "      <td>1</td>\n",
       "      <td>1</td>\n",
       "      <td>57.230650</td>\n",
       "      <td>36.050927</td>\n",
       "      <td>205168.022244</td>\n",
       "      <td>7600.292199</td>\n",
       "      <td>3.302193</td>\n",
       "      <td>0</td>\n",
       "      <td>3.015554</td>\n",
       "      <td>1</td>\n",
       "      <td>1</td>\n",
       "    </tr>\n",
       "    <tr>\n",
       "      <th>1</th>\n",
       "      <td>1</td>\n",
       "      <td>0</td>\n",
       "      <td>1</td>\n",
       "      <td>1</td>\n",
       "      <td>45.891343</td>\n",
       "      <td>59.525251</td>\n",
       "      <td>187530.409981</td>\n",
       "      <td>5534.271289</td>\n",
       "      <td>3.843058</td>\n",
       "      <td>0</td>\n",
       "      <td>5.938132</td>\n",
       "      <td>1</td>\n",
       "      <td>1</td>\n",
       "    </tr>\n",
       "    <tr>\n",
       "      <th>2</th>\n",
       "      <td>1</td>\n",
       "      <td>0</td>\n",
       "      <td>1</td>\n",
       "      <td>1</td>\n",
       "      <td>46.775489</td>\n",
       "      <td>67.338108</td>\n",
       "      <td>196912.006690</td>\n",
       "      <td>2009.903438</td>\n",
       "      <td>2.059034</td>\n",
       "      <td>0</td>\n",
       "      <td>2.190777</td>\n",
       "      <td>1</td>\n",
       "      <td>1</td>\n",
       "    </tr>\n",
       "    <tr>\n",
       "      <th>3</th>\n",
       "      <td>1</td>\n",
       "      <td>0</td>\n",
       "      <td>1</td>\n",
       "      <td>1</td>\n",
       "      <td>41.784839</td>\n",
       "      <td>24.067401</td>\n",
       "      <td>132911.650615</td>\n",
       "      <td>3112.280893</td>\n",
       "      <td>3.936169</td>\n",
       "      <td>0</td>\n",
       "      <td>1.725860</td>\n",
       "      <td>1</td>\n",
       "      <td>1</td>\n",
       "    </tr>\n",
       "    <tr>\n",
       "      <th>4</th>\n",
       "      <td>1</td>\n",
       "      <td>0</td>\n",
       "      <td>1</td>\n",
       "      <td>1</td>\n",
       "      <td>41.744838</td>\n",
       "      <td>47.496605</td>\n",
       "      <td>161162.551205</td>\n",
       "      <td>1372.077093</td>\n",
       "      <td>3.709910</td>\n",
       "      <td>0</td>\n",
       "      <td>0.883104</td>\n",
       "      <td>1</td>\n",
       "      <td>1</td>\n",
       "    </tr>\n",
       "  </tbody>\n",
       "</table>\n",
       "</div>"
      ],
      "text/plain": [
       "   minority  sex  ZIP  rent  education        age         income    loan_size  \\\n",
       "0         1    0    1     1  57.230650  36.050927  205168.022244  7600.292199   \n",
       "1         1    0    1     1  45.891343  59.525251  187530.409981  5534.271289   \n",
       "2         1    0    1     1  46.775489  67.338108  196912.006690  2009.903438   \n",
       "3         1    0    1     1  41.784839  24.067401  132911.650615  3112.280893   \n",
       "4         1    0    1     1  41.744838  47.496605  161162.551205  1372.077093   \n",
       "\n",
       "   payment_timing  year  job_stability  occupation  default  \n",
       "0        3.302193     0       3.015554           1        1  \n",
       "1        3.843058     0       5.938132           1        1  \n",
       "2        2.059034     0       2.190777           1        1  \n",
       "3        3.936169     0       1.725860           1        1  \n",
       "4        3.709910     0       0.883104           1        1  "
      ]
     },
     "execution_count": 60,
     "metadata": {},
     "output_type": "execute_result"
    }
   ],
   "source": [
    "#import pre_processed train dataset\n",
    "train = pd.read_csv('train_preprocessed.csv', index_col=0)\n",
    "print('train shape: ' + str(train.shape))\n",
    "train.head()"
   ]
  },
  {
   "cell_type": "code",
   "execution_count": 4,
   "metadata": {},
   "outputs": [
    {
     "name": "stdout",
     "output_type": "stream",
     "text": [
      "test shape: (160000, 13)\n"
     ]
    },
    {
     "data": {
      "text/html": [
       "<div>\n",
       "<style scoped>\n",
       "    .dataframe tbody tr th:only-of-type {\n",
       "        vertical-align: middle;\n",
       "    }\n",
       "\n",
       "    .dataframe tbody tr th {\n",
       "        vertical-align: top;\n",
       "    }\n",
       "\n",
       "    .dataframe thead th {\n",
       "        text-align: right;\n",
       "    }\n",
       "</style>\n",
       "<table border=\"1\" class=\"dataframe\">\n",
       "  <thead>\n",
       "    <tr style=\"text-align: right;\">\n",
       "      <th></th>\n",
       "      <th>minority</th>\n",
       "      <th>sex</th>\n",
       "      <th>ZIP</th>\n",
       "      <th>rent</th>\n",
       "      <th>education</th>\n",
       "      <th>age</th>\n",
       "      <th>income</th>\n",
       "      <th>loan_size</th>\n",
       "      <th>payment_timing</th>\n",
       "      <th>job_stability</th>\n",
       "      <th>year</th>\n",
       "      <th>occupation</th>\n",
       "      <th>default</th>\n",
       "    </tr>\n",
       "  </thead>\n",
       "  <tbody>\n",
       "    <tr>\n",
       "      <th>0</th>\n",
       "      <td>1</td>\n",
       "      <td>0</td>\n",
       "      <td>1</td>\n",
       "      <td>1</td>\n",
       "      <td>51.265723</td>\n",
       "      <td>25.710781</td>\n",
       "      <td>166455.209729</td>\n",
       "      <td>8064.951996</td>\n",
       "      <td>3.874735</td>\n",
       "      <td>43.764963</td>\n",
       "      <td>30</td>\n",
       "      <td>1</td>\n",
       "      <td>1</td>\n",
       "    </tr>\n",
       "    <tr>\n",
       "      <th>1</th>\n",
       "      <td>0</td>\n",
       "      <td>0</td>\n",
       "      <td>1</td>\n",
       "      <td>0</td>\n",
       "      <td>58.882849</td>\n",
       "      <td>39.689510</td>\n",
       "      <td>216752.885725</td>\n",
       "      <td>7166.701945</td>\n",
       "      <td>3.809001</td>\n",
       "      <td>46.903977</td>\n",
       "      <td>30</td>\n",
       "      <td>0</td>\n",
       "      <td>0</td>\n",
       "    </tr>\n",
       "    <tr>\n",
       "      <th>2</th>\n",
       "      <td>0</td>\n",
       "      <td>0</td>\n",
       "      <td>1</td>\n",
       "      <td>0</td>\n",
       "      <td>56.504545</td>\n",
       "      <td>25.847324</td>\n",
       "      <td>183764.480788</td>\n",
       "      <td>3322.045258</td>\n",
       "      <td>3.497214</td>\n",
       "      <td>63.453467</td>\n",
       "      <td>30</td>\n",
       "      <td>0</td>\n",
       "      <td>0</td>\n",
       "    </tr>\n",
       "    <tr>\n",
       "      <th>3</th>\n",
       "      <td>1</td>\n",
       "      <td>0</td>\n",
       "      <td>1</td>\n",
       "      <td>1</td>\n",
       "      <td>47.074111</td>\n",
       "      <td>26.381109</td>\n",
       "      <td>154057.004978</td>\n",
       "      <td>15.223904</td>\n",
       "      <td>3.535370</td>\n",
       "      <td>56.243840</td>\n",
       "      <td>30</td>\n",
       "      <td>1</td>\n",
       "      <td>0</td>\n",
       "    </tr>\n",
       "    <tr>\n",
       "      <th>4</th>\n",
       "      <td>1</td>\n",
       "      <td>0</td>\n",
       "      <td>1</td>\n",
       "      <td>1</td>\n",
       "      <td>48.916960</td>\n",
       "      <td>18.779902</td>\n",
       "      <td>143463.038107</td>\n",
       "      <td>7860.534547</td>\n",
       "      <td>3.663330</td>\n",
       "      <td>49.884194</td>\n",
       "      <td>30</td>\n",
       "      <td>1</td>\n",
       "      <td>0</td>\n",
       "    </tr>\n",
       "  </tbody>\n",
       "</table>\n",
       "</div>"
      ],
      "text/plain": [
       "   minority  sex  ZIP  rent  education        age         income    loan_size  \\\n",
       "0         1    0    1     1  51.265723  25.710781  166455.209729  8064.951996   \n",
       "1         0    0    1     0  58.882849  39.689510  216752.885725  7166.701945   \n",
       "2         0    0    1     0  56.504545  25.847324  183764.480788  3322.045258   \n",
       "3         1    0    1     1  47.074111  26.381109  154057.004978    15.223904   \n",
       "4         1    0    1     1  48.916960  18.779902  143463.038107  7860.534547   \n",
       "\n",
       "   payment_timing  job_stability  year  occupation  default  \n",
       "0        3.874735      43.764963    30           1        1  \n",
       "1        3.809001      46.903977    30           0        0  \n",
       "2        3.497214      63.453467    30           0        0  \n",
       "3        3.535370      56.243840    30           1        0  \n",
       "4        3.663330      49.884194    30           1        0  "
      ]
     },
     "execution_count": 4,
     "metadata": {},
     "output_type": "execute_result"
    }
   ],
   "source": [
    "#import pre_processed test dataset\n",
    "test = pd.read_csv('test_preprocessed.csv', index_col=0)\n",
    "print('test shape: ' + str(test.shape))\n",
    "test.head()"
   ]
  },
  {
   "cell_type": "code",
   "execution_count": 5,
   "metadata": {},
   "outputs": [],
   "source": [
    "#train dataset\n",
    "X_tr_nob = train.drop(['default', 'minority', 'rent', 'job_stability', 'occupation', 'sex', 'ZIP'], axis=1)\n",
    "X_tr_bias = train.drop(['default', 'minority', 'sex'], axis=1)\n",
    "y_train= train['default']\n",
    "\n",
    "#test dataset\n",
    "X_te_nob = test.drop(['default', 'minority', 'rent', 'job_stability', 'occupation', 'sex', 'ZIP'], axis=1)\n",
    "X_te_bias = test.drop(['default', 'minority', 'sex'], axis=1)\n",
    "y_test = test['default']"
   ]
  },
  {
   "cell_type": "code",
   "execution_count": 6,
   "metadata": {},
   "outputs": [],
   "source": [
    "from sklearn.preprocessing import StandardScaler\n",
    "\n",
    "#Scale X train/test bias\n",
    "scaler = StandardScaler()\n",
    "X_fit_bias = scaler.fit(X_tr_bias)\n",
    "\n",
    "X_train_bias = X_fit_bias.transform(X_tr_bias)\n",
    "X_test_bias = X_fit_bias.transform(X_te_bias)\n",
    "\n",
    "#Scale X train/test no bias\n",
    "scaler = StandardScaler()\n",
    "X_fit_nob = scaler.fit(X_tr_nob)\n",
    "\n",
    "X_train_nob = X_fit_nob.transform(X_tr_nob)\n",
    "X_test_nob = X_fit_nob.transform(X_te_nob)"
   ]
  },
  {
   "cell_type": "markdown",
   "metadata": {},
   "source": [
    "## downsampling"
   ]
  },
  {
   "cell_type": "markdown",
   "metadata": {},
   "source": [
    "Inspired by this website for downsampling:\n",
    "https://elitedatascience.com/imbalanced-classes"
   ]
  },
  {
   "cell_type": "markdown",
   "metadata": {},
   "source": [
    "The smalled count among minority and default is 250 for minority==1 and default==0"
   ]
  },
  {
   "cell_type": "code",
   "execution_count": 78,
   "metadata": {},
   "outputs": [
    {
     "name": "stdout",
     "output_type": "stream",
     "text": [
      "1    500\n",
      "0    500\n",
      "Name: minority, dtype: int64\n"
     ]
    },
    {
     "data": {
      "text/plain": [
       "minority  default\n",
       "0         0          250\n",
       "          1          250\n",
       "1         0          250\n",
       "          1          250\n",
       "Name: minority, dtype: int64"
      ]
     },
     "execution_count": 78,
     "metadata": {},
     "output_type": "execute_result"
    }
   ],
   "source": [
    "#downsampling\n",
    "from sklearn.utils import resample\n",
    "\n",
    "# Separate majority and minority classes\n",
    "df_non_minority_0 = train[(train['minority']==0) & (train['default']==0)]\n",
    "df_non_minority_1 = train[(train['minority']==0) & (train['default']==1)]\n",
    "\n",
    "df_minority_0 = train[(train['minority']==1) & (train['default']==0)]\n",
    "df_minority_1 = train[(train['minority']==1) & (train['default']==1)]\n",
    " \n",
    "\n",
    "# Downsample non_minority, default == 0\n",
    "df_non_minority_0_downsampled = resample(df_non_minority_0, \n",
    "                                         replace=False,    # sample without replacement\n",
    "                                         n_samples=250,     # to match minority class\n",
    "                                         random_state=seed) # reproducible results\n",
    "\n",
    "# Downsample non_minority, default == 1\n",
    "df_non_minority_1_downsampled = resample(df_non_minority_1, \n",
    "                                         replace=False,    # sample without replacement\n",
    "                                         n_samples=250,     # to match minority class\n",
    "                                         random_state=seed) # reproducible results\n",
    "\n",
    "# Downsample minority, default == 1\n",
    "df_minority_1_downsampled = resample(df_minority_1, \n",
    "                                         replace=False,    # sample without replacement\n",
    "                                         n_samples=250,     # to match minority class\n",
    "                                         random_state=seed) # reproducible results\n",
    "\n",
    "# Combine minority class with downsampled majority class\n",
    "df_downsampled = pd.concat([df_non_minority_0_downsampled,\n",
    "                            df_non_minority_1_downsampled,\n",
    "                            df_minority_0,\n",
    "                            df_minority_1_downsampled\n",
    "                           ])\n",
    " \n",
    "# Display new class counts\n",
    "print(df_downsampled['minority'].value_counts())\n",
    "\n",
    "#Display distribution for minority, default\n",
    "df_downsampled.groupby([\"minority\", \"default\"])[\"minority\"].count()"
   ]
  },
  {
   "cell_type": "code",
   "execution_count": 79,
   "metadata": {},
   "outputs": [],
   "source": [
    "X_ds = df_downsampled.drop(['default', 'minority', 'sex'], axis=1)\n",
    "y_downsampled = df_downsampled['default']\n",
    "\n",
    "#Scale X train/test bias\n",
    "scaler = StandardScaler()\n",
    "X_fit_bias_ds = scaler.fit(X_ds)\n",
    "\n",
    "X_downsampled = X_fit_bias_ds.transform(X_ds)"
   ]
  },
  {
   "cell_type": "markdown",
   "metadata": {},
   "source": [
    "# Linear classification: Base Model"
   ]
  },
  {
   "cell_type": "code",
   "execution_count": 7,
   "metadata": {},
   "outputs": [
    {
     "name": "stdout",
     "output_type": "stream",
     "text": [
      "Accuracy with bias: 37.01%\n",
      "Accuracy with no bias: 41.49%\n"
     ]
    }
   ],
   "source": [
    "#linear classification\n",
    "from  sklearn.linear_model import LogisticRegression\n",
    "from sklearn.metrics import accuracy_score\n",
    "\n",
    "#bias\n",
    "lr_bias = LogisticRegression(solver='lbfgs')\n",
    "lr_bias.fit(X_train_bias, y_train)\n",
    "\n",
    "y_pred_bias = lr_bias.predict(X_test_bias)\n",
    "accuracy_lr_bias = accuracy_score(y_pred_bias, y_test)\n",
    "\n",
    "\n",
    "#no bias\n",
    "lr_nob = LogisticRegression(solver='lbfgs')\n",
    "lr_nob.fit(X_train_nob, y_train)\n",
    "\n",
    "y_pred_nob = lr_nob.predict(X_test_nob)\n",
    "accuracy_lr_nob = accuracy_score(y_pred_nob, y_test)\n",
    "\n",
    "#print accuracy\n",
    "print('Accuracy with bias: ' + str(round(accuracy_lr_bias*100,2)) + '%')\n",
    "print('Accuracy with no bias: ' + str(round(accuracy_lr_nob*100,2)) + '%')"
   ]
  },
  {
   "cell_type": "code",
   "execution_count": 80,
   "metadata": {},
   "outputs": [
    {
     "name": "stdout",
     "output_type": "stream",
     "text": [
      "Accuracy with bias downsampled: 36.82%\n"
     ]
    }
   ],
   "source": [
    "#linear classification\n",
    "from  sklearn.linear_model import LogisticRegression\n",
    "from sklearn.metrics import accuracy_score\n",
    "\n",
    "#bias\n",
    "lr_bias_ds = LogisticRegression(solver='lbfgs')\n",
    "lr_bias_ds.fit(X_downsampled, y_downsampled)\n",
    "\n",
    "y_pred_bias_ds = lr_bias_ds.predict(X_test_bias)\n",
    "accuracy_lr_bias = accuracy_score(y_pred_bias_ds, y_test)\n",
    "\n",
    "\n",
    "#print accuracy\n",
    "print('Accuracy with bias downsampled: ' + str(round(accuracy_lr_bias*100,2)) + '%')\n"
   ]
  },
  {
   "cell_type": "code",
   "execution_count": null,
   "metadata": {},
   "outputs": [],
   "source": []
  },
  {
   "cell_type": "code",
   "execution_count": 8,
   "metadata": {},
   "outputs": [
    {
     "data": {
      "image/png": "[encoded data removed]",
      "text/plain": [
       "<Figure size 432x288 with 2 Axes>"
      ]
     },
     "metadata": {
      "needs_background": "light"
     },
     "output_type": "display_data"
    }
   ],
   "source": [
    "from sklearn.metrics import plot_confusion_matrix\n",
    "import matplotlib.pyplot as plt\n",
    "\n",
    "plot_confusion_matrix(lr_bias, \n",
    "                      X_test_bias, \n",
    "                      y_test,\n",
    "                      display_labels=['no-default', 'default'],\n",
    "                      cmap=plt.cm.Blues)\n",
    "plt.grid(False)"
   ]
  },
  {
   "cell_type": "markdown",
   "metadata": {},
   "source": [
    "# Deep Learning"
   ]
  },
  {
   "cell_type": "code",
   "execution_count": 9,
   "metadata": {},
   "outputs": [
    {
     "name": "stderr",
     "output_type": "stream",
     "text": [
      "Using TensorFlow backend.\n"
     ]
    }
   ],
   "source": [
    "import keras\n",
    "from keras.models import Sequential\n",
    "from keras.layers import Activation, Dense, Dropout\n",
    "from sklearn.utils import class_weight\n",
    "from sklearn.metrics import confusion_matrix"
   ]
  },
  {
   "cell_type": "code",
   "execution_count": 10,
   "metadata": {
    "collapsed": true
   },
   "outputs": [
    {
     "name": "stderr",
     "output_type": "stream",
     "text": [
      "/Users/Rolf/anaconda3/lib/python3.7/site-packages/sklearn/utils/validation.py:71: FutureWarning: Pass classes=[0 1], y=0       1\n",
      "1       1\n",
      "2       1\n",
      "3       1\n",
      "4       1\n",
      "       ..\n",
      "7995    0\n",
      "7996    0\n",
      "7997    0\n",
      "7998    0\n",
      "7999    0\n",
      "Name: default, Length: 471136, dtype: int64 as keyword args. From version 0.25 passing these as positional arguments will result in an error\n",
      "  FutureWarning)\n"
     ]
    }
   ],
   "source": [
    "#stop if no improvement in loss after 3 epochs\n",
    "es_callback = keras.callbacks.EarlyStopping(monitor='loss', patience=3)\n",
    "\n",
    "#class weight\n",
    "from sklearn.utils import class_weight\n",
    "class_weights = class_weight.compute_class_weight('balanced',\n",
    "                                                 np.unique(y_train),\n",
    "                                                 y_train)"
   ]
  },
  {
   "cell_type": "code",
   "execution_count": 56,
   "metadata": {},
   "outputs": [],
   "source": [
    "def create_model(df):\n",
    "    ## Initialize model.\n",
    "    model = Sequential() #if you want a recurrent NN, then specify here Recurrent()\n",
    "\n",
    "    ## 1st Layer\n",
    "    model.add(Dense(64, input_dim=df.shape[1]))\n",
    "    model.add(Activation('relu'))\n",
    "    model.add(Dropout(0.5)) #25% of neurons are de-activated randomly per batch. helps with generalisation.\n",
    "\n",
    "    ## 2nd Layer\n",
    "    model.add(Dense(32))\n",
    "    model.add(Activation('relu'))\n",
    "    model.add(Dropout(0.5)) #dropout number is arbitrary. trail and error. \n",
    "\n",
    "    ## Adding Softmax Layer\n",
    "    model.add(Dense(1))\n",
    "    model.add(Activation('sigmoid')) #softmax used for classification. softmax = [0,1]\n",
    "\n",
    "    ## Define loss function\n",
    "    model.compile(loss='binary_crossentropy', optimizer='adam', metrics=['accuracy'], weighted_metrics=['accuracy'])\n",
    "\n",
    "    return model"
   ]
  },
  {
   "cell_type": "markdown",
   "metadata": {},
   "source": [
    "K-fold validation from this website:\n",
    "\n",
    "https://machinelearningmastery.com/evaluate-performance-deep-learning-models-keras/"
   ]
  },
  {
   "cell_type": "code",
   "execution_count": 42,
   "metadata": {},
   "outputs": [],
   "source": [
    "#Cross-validation\n",
    "from sklearn.model_selection import StratifiedKFold\n",
    "\n",
    "# define 10-fold cross validation test harness\n",
    "kfold = StratifiedKFold(n_splits=5, shuffle=True, random_state=seed)\n",
    "cvscores = []\n",
    "\n",
    "def kfold_validation(X, y):\n",
    "\n",
    "    X_df = pd.DataFrame(X)\n",
    "    cvscores = []\n",
    "    \n",
    "    for train, test in kfold.split(X_df, y):\n",
    "        model = create_model(X_df)\n",
    "        model.fit(X_df.iloc[train], y.iloc[train], epochs=100, batch_size=1000, shuffle=True, verbose=2, \n",
    "                  callbacks=[es_callback], class_weight=class_weights)\n",
    "        scores = model.evaluate(X_df.iloc[test], y.iloc[test], verbose=0)\n",
    "        \n",
    "        print(\"%s: %.2f%%\" % (model.metrics_names[1], scores[1]*100))\n",
    "        cvscores.append(scores[1] * 100)\n",
    "        \n",
    "    print(\"%.2f%% (+/- %.2f%%)\" % (np.mean(cvscores), np.std(cvscores)))\n",
    "    \n",
    "    return model"
   ]
  },
  {
   "cell_type": "code",
   "execution_count": 43,
   "metadata": {
    "collapsed": true
   },
   "outputs": [
    {
     "name": "stdout",
     "output_type": "stream",
     "text": [
      "Epoch 1/100\n",
      " - 2s - loss: 827.2225 - accuracy: 0.5009\n",
      "Epoch 2/100\n",
      " - 2s - loss: 4.6104 - accuracy: 0.4996\n",
      "Epoch 3/100\n",
      " - 3s - loss: 2.5754 - accuracy: 0.4994\n",
      "Epoch 4/100\n",
      " - 2s - loss: 1.5495 - accuracy: 0.4986\n",
      "Epoch 5/100\n",
      " - 2s - loss: 1.2464 - accuracy: 0.4996\n",
      "Epoch 6/100\n",
      " - 2s - loss: 0.9879 - accuracy: 0.4997\n",
      "Epoch 7/100\n",
      " - 2s - loss: 0.9401 - accuracy: 0.4988\n",
      "Epoch 8/100\n",
      " - 1s - loss: 0.9241 - accuracy: 0.4999\n",
      "Epoch 9/100\n",
      " - 1s - loss: 0.7959 - accuracy: 0.4984\n",
      "Epoch 10/100\n",
      " - 1s - loss: 0.8259 - accuracy: 0.5005\n",
      "Epoch 11/100\n",
      " - 1s - loss: 0.8205 - accuracy: 0.5006\n",
      "Epoch 12/100\n",
      " - 1s - loss: 0.8201 - accuracy: 0.5002\n",
      "accuracy: 50.01%\n",
      "Epoch 1/100\n",
      " - 2s - loss: 460.0927 - accuracy: 0.4994\n",
      "Epoch 2/100\n",
      " - 1s - loss: 3.5836 - accuracy: 0.4996\n",
      "Epoch 3/100\n",
      " - 1s - loss: 1.8319 - accuracy: 0.4998\n",
      "Epoch 4/100\n",
      " - 1s - loss: 1.2898 - accuracy: 0.4982\n",
      "Epoch 5/100\n",
      " - 1s - loss: 1.0673 - accuracy: 0.5007\n",
      "Epoch 6/100\n",
      " - 1s - loss: 1.0344 - accuracy: 0.4990\n",
      "Epoch 7/100\n",
      " - 1s - loss: 0.9197 - accuracy: 0.5004\n",
      "Epoch 8/100\n",
      " - 2s - loss: 0.8553 - accuracy: 0.5003\n",
      "Epoch 9/100\n",
      " - 1s - loss: 0.8403 - accuracy: 0.4995\n",
      "Epoch 10/100\n",
      " - 1s - loss: 0.7986 - accuracy: 0.4995\n",
      "Epoch 11/100\n",
      " - 1s - loss: 0.7931 - accuracy: 0.5008\n",
      "Epoch 12/100\n",
      " - 1s - loss: 0.7577 - accuracy: 0.4988\n",
      "Epoch 13/100\n",
      " - 1s - loss: 0.7730 - accuracy: 0.4993\n",
      "Epoch 14/100\n",
      " - 1s - loss: 0.7262 - accuracy: 0.4999\n",
      "Epoch 15/100\n",
      " - 2s - loss: 0.7169 - accuracy: 0.5003\n",
      "Epoch 16/100\n",
      " - 3s - loss: 0.7167 - accuracy: 0.4998\n",
      "Epoch 17/100\n",
      " - 2s - loss: 0.7183 - accuracy: 0.4982\n",
      "Epoch 18/100\n",
      " - 2s - loss: 0.7027 - accuracy: 0.4986\n",
      "Epoch 19/100\n",
      " - 2s - loss: 0.7045 - accuracy: 0.5006\n",
      "Epoch 20/100\n",
      " - 1s - loss: 0.7001 - accuracy: 0.4997\n",
      "Epoch 21/100\n",
      " - 1s - loss: 0.7103 - accuracy: 0.5000\n",
      "Epoch 22/100\n",
      " - 1s - loss: 0.6996 - accuracy: 0.4992\n",
      "Epoch 23/100\n",
      " - 1s - loss: 0.7022 - accuracy: 0.4995\n",
      "Epoch 24/100\n",
      " - 1s - loss: 0.6954 - accuracy: 0.4993\n",
      "Epoch 25/100\n",
      " - 1s - loss: 0.7021 - accuracy: 0.4996\n",
      "Epoch 26/100\n",
      " - 1s - loss: 0.6994 - accuracy: 0.5001\n",
      "Epoch 27/100\n",
      " - 1s - loss: 0.6957 - accuracy: 0.5007\n",
      "accuracy: 50.01%\n",
      "Epoch 1/100\n",
      " - 2s - loss: 962.2774 - accuracy: 0.5016\n",
      "Epoch 2/100\n",
      " - 1s - loss: 4.2041 - accuracy: 0.4993\n",
      "Epoch 3/100\n",
      " - 1s - loss: 1.9647 - accuracy: 0.4993\n",
      "Epoch 4/100\n",
      " - 1s - loss: 1.3987 - accuracy: 0.4986\n",
      "Epoch 5/100\n",
      " - 1s - loss: 1.1293 - accuracy: 0.5002\n",
      "Epoch 6/100\n",
      " - 1s - loss: 0.9758 - accuracy: 0.5008\n",
      "Epoch 7/100\n",
      " - 1s - loss: 0.9110 - accuracy: 0.4985\n",
      "Epoch 8/100\n",
      " - 1s - loss: 0.9308 - accuracy: 0.4988\n",
      "Epoch 9/100\n",
      " - 1s - loss: 0.8303 - accuracy: 0.5002\n",
      "Epoch 10/100\n",
      " - 1s - loss: 0.7913 - accuracy: 0.5004\n",
      "Epoch 11/100\n",
      " - 1s - loss: 0.8235 - accuracy: 0.4996\n",
      "Epoch 12/100\n",
      " - 1s - loss: 0.7602 - accuracy: 0.4995\n",
      "Epoch 13/100\n",
      " - 1s - loss: 0.7358 - accuracy: 0.4996\n",
      "Epoch 14/100\n",
      " - 1s - loss: 0.7346 - accuracy: 0.4996\n",
      "Epoch 15/100\n",
      " - 2s - loss: 0.7346 - accuracy: 0.4999\n",
      "Epoch 16/100\n",
      " - 1s - loss: 0.7189 - accuracy: 0.5012\n",
      "Epoch 17/100\n",
      " - 1s - loss: 0.7304 - accuracy: 0.5000\n",
      "Epoch 18/100\n",
      " - 1s - loss: 0.7364 - accuracy: 0.4994\n",
      "Epoch 19/100\n",
      " - 1s - loss: 0.7164 - accuracy: 0.5001\n",
      "Epoch 20/100\n",
      " - 1s - loss: 0.6978 - accuracy: 0.4999\n",
      "Epoch 21/100\n",
      " - 1s - loss: 0.7094 - accuracy: 0.4999\n",
      "Epoch 22/100\n",
      " - 1s - loss: 0.7177 - accuracy: 0.5005\n",
      "Epoch 23/100\n",
      " - 2s - loss: 0.6989 - accuracy: 0.4988\n",
      "accuracy: 50.01%\n",
      "Epoch 1/100\n",
      " - 2s - loss: 1705.7295 - accuracy: 0.5008\n",
      "Epoch 2/100\n",
      " - 1s - loss: 11.5919 - accuracy: 0.4994\n",
      "Epoch 3/100\n",
      " - 1s - loss: 3.7182 - accuracy: 0.5005\n",
      "Epoch 4/100\n",
      " - 1s - loss: 1.9096 - accuracy: 0.5008\n",
      "Epoch 5/100\n",
      " - 1s - loss: 1.6474 - accuracy: 0.4991\n",
      "Epoch 6/100\n",
      " - 1s - loss: 1.2810 - accuracy: 0.5001\n",
      "Epoch 7/100\n",
      " - 1s - loss: 1.2290 - accuracy: 0.4995\n",
      "Epoch 8/100\n",
      " - 1s - loss: 1.2378 - accuracy: 0.4988\n",
      "Epoch 9/100\n",
      " - 2s - loss: 1.0317 - accuracy: 0.5001\n",
      "Epoch 10/100\n",
      " - 2s - loss: 0.8633 - accuracy: 0.4992\n",
      "Epoch 11/100\n",
      " - 1s - loss: 0.9350 - accuracy: 0.4994\n",
      "Epoch 12/100\n",
      " - 1s - loss: 0.8615 - accuracy: 0.4989\n",
      "Epoch 13/100\n",
      " - 2s - loss: 0.7717 - accuracy: 0.4995\n",
      "Epoch 14/100\n",
      " - 1s - loss: 0.7594 - accuracy: 0.4991\n",
      "Epoch 15/100\n",
      " - 1s - loss: 0.7291 - accuracy: 0.4991\n",
      "Epoch 16/100\n",
      " - 1s - loss: 0.7326 - accuracy: 0.5003\n",
      "Epoch 17/100\n",
      " - 1s - loss: 0.7131 - accuracy: 0.5014\n",
      "Epoch 18/100\n",
      " - 2s - loss: 0.7171 - accuracy: 0.4992\n",
      "Epoch 19/100\n",
      " - 2s - loss: 0.6985 - accuracy: 0.4997\n",
      "Epoch 20/100\n",
      " - 1s - loss: 0.7131 - accuracy: 0.4992\n",
      "Epoch 21/100\n",
      " - 1s - loss: 0.7066 - accuracy: 0.4994\n",
      "Epoch 22/100\n",
      " - 2s - loss: 0.6991 - accuracy: 0.5003\n",
      "accuracy: 50.01%\n",
      "Epoch 1/100\n",
      " - 2s - loss: 895.0703 - accuracy: 0.5005\n",
      "Epoch 2/100\n",
      " - 1s - loss: 7.4326 - accuracy: 0.5010\n",
      "Epoch 3/100\n",
      " - 1s - loss: 3.4856 - accuracy: 0.5003\n",
      "Epoch 4/100\n",
      " - 2s - loss: 1.8784 - accuracy: 0.5001\n",
      "Epoch 5/100\n",
      " - 1s - loss: 1.5124 - accuracy: 0.4991\n",
      "Epoch 6/100\n",
      " - 1s - loss: 1.3470 - accuracy: 0.5000\n",
      "Epoch 7/100\n",
      " - 2s - loss: 0.9969 - accuracy: 0.5000\n",
      "Epoch 8/100\n",
      " - 2s - loss: 0.8422 - accuracy: 0.5005\n",
      "Epoch 9/100\n",
      " - 2s - loss: 0.8686 - accuracy: 0.5000\n",
      "Epoch 10/100\n",
      " - 2s - loss: 0.8239 - accuracy: 0.5004\n",
      "Epoch 11/100\n",
      " - 2s - loss: 0.7466 - accuracy: 0.5019\n",
      "Epoch 12/100\n",
      " - 2s - loss: 0.8151 - accuracy: 0.4999\n",
      "Epoch 13/100\n",
      " - 2s - loss: 0.7773 - accuracy: 0.4995\n",
      "Epoch 14/100\n",
      " - 1s - loss: 0.7486 - accuracy: 0.4993\n",
      "accuracy: 50.01%\n",
      "Epoch 1/100\n",
      " - 2s - loss: 955.1960 - accuracy: 0.5003\n",
      "Epoch 2/100\n",
      " - 1s - loss: 4.3699 - accuracy: 0.5010\n",
      "Epoch 3/100\n",
      " - 2s - loss: 2.2805 - accuracy: 0.5014\n",
      "Epoch 4/100\n",
      " - 2s - loss: 1.6251 - accuracy: 0.4992\n",
      "Epoch 5/100\n",
      " - 2s - loss: 1.4494 - accuracy: 0.4996\n",
      "Epoch 6/100\n",
      " - 1s - loss: 1.1636 - accuracy: 0.4990\n",
      "Epoch 7/100\n",
      " - 1s - loss: 1.0280 - accuracy: 0.4994\n",
      "Epoch 8/100\n",
      " - 1s - loss: 1.0634 - accuracy: 0.4992\n",
      "Epoch 9/100\n",
      " - 1s - loss: 0.9067 - accuracy: 0.4990\n",
      "Epoch 10/100\n",
      " - 1s - loss: 0.8457 - accuracy: 0.4986\n",
      "Epoch 11/100\n",
      " - 1s - loss: 0.8523 - accuracy: 0.4993\n",
      "Epoch 12/100\n",
      " - 1s - loss: 0.7938 - accuracy: 0.5011\n",
      "Epoch 13/100\n",
      " - 1s - loss: 0.7959 - accuracy: 0.5010\n",
      "Epoch 14/100\n",
      " - 2s - loss: 0.7684 - accuracy: 0.4988\n",
      "Epoch 15/100\n",
      " - 2s - loss: 0.7603 - accuracy: 0.4991\n",
      "Epoch 16/100\n",
      " - 1s - loss: 0.7141 - accuracy: 0.4996\n",
      "Epoch 17/100\n",
      " - 1s - loss: 0.7155 - accuracy: 0.5003\n",
      "Epoch 18/100\n",
      " - 1s - loss: 0.7067 - accuracy: 0.4999\n",
      "Epoch 19/100\n",
      " - 1s - loss: 0.7082 - accuracy: 0.4997\n",
      "Epoch 20/100\n",
      " - 1s - loss: 0.7038 - accuracy: 0.4988\n",
      "Epoch 21/100\n",
      " - 1s - loss: 0.7092 - accuracy: 0.4995\n",
      "Epoch 22/100\n",
      " - 2s - loss: 0.6968 - accuracy: 0.4996\n",
      "Epoch 23/100\n",
      " - 1s - loss: 0.6993 - accuracy: 0.5005\n",
      "Epoch 24/100\n",
      " - 1s - loss: 0.7010 - accuracy: 0.5005\n",
      "Epoch 25/100\n",
      " - 1s - loss: 0.7108 - accuracy: 0.4992\n",
      "accuracy: 50.02%\n",
      "Epoch 1/100\n",
      " - 1s - loss: 573.9418 - accuracy: 0.5015\n",
      "Epoch 2/100\n",
      " - 1s - loss: 4.4702 - accuracy: 0.5000\n",
      "Epoch 3/100\n",
      " - 1s - loss: 2.2036 - accuracy: 0.5001\n",
      "Epoch 4/100\n",
      " - 1s - loss: 1.2489 - accuracy: 0.4990\n",
      "Epoch 5/100\n",
      " - 1s - loss: 1.0766 - accuracy: 0.4993\n",
      "Epoch 6/100\n",
      " - 1s - loss: 1.0272 - accuracy: 0.4989\n",
      "Epoch 7/100\n",
      " - 1s - loss: 0.8668 - accuracy: 0.4990\n",
      "Epoch 8/100\n",
      " - 1s - loss: 0.8754 - accuracy: 0.4987\n",
      "Epoch 9/100\n",
      " - 1s - loss: 0.8394 - accuracy: 0.4999\n",
      "Epoch 10/100\n",
      " - 1s - loss: 0.7749 - accuracy: 0.5004\n",
      "Epoch 11/100\n",
      " - 1s - loss: 0.7706 - accuracy: 0.4997\n",
      "Epoch 12/100\n",
      " - 1s - loss: 0.7577 - accuracy: 0.4993\n",
      "Epoch 13/100\n",
      " - 1s - loss: 0.7674 - accuracy: 0.5005\n",
      "Epoch 14/100\n",
      " - 1s - loss: 0.7265 - accuracy: 0.5010\n",
      "Epoch 15/100\n",
      " - 1s - loss: 0.7444 - accuracy: 0.4998\n",
      "Epoch 16/100\n",
      " - 2s - loss: 0.7232 - accuracy: 0.5003\n",
      "Epoch 17/100\n",
      " - 2s - loss: 0.7255 - accuracy: 0.5004\n",
      "Epoch 18/100\n",
      " - 2s - loss: 0.7157 - accuracy: 0.5002\n",
      "Epoch 19/100\n",
      " - 2s - loss: 0.7119 - accuracy: 0.5003\n",
      "Epoch 20/100\n",
      " - 1s - loss: 0.7011 - accuracy: 0.5002\n",
      "Epoch 21/100\n",
      " - 1s - loss: 0.6988 - accuracy: 0.4999\n",
      "Epoch 22/100\n",
      " - 2s - loss: 0.6971 - accuracy: 0.4991\n",
      "Epoch 23/100\n",
      " - 1s - loss: 0.6956 - accuracy: 0.5003\n",
      "Epoch 24/100\n",
      " - 1s - loss: 0.6963 - accuracy: 0.4994\n",
      "Epoch 25/100\n",
      " - 2s - loss: 0.6935 - accuracy: 0.4999\n",
      "Epoch 26/100\n",
      " - 3s - loss: 0.6957 - accuracy: 0.5005\n",
      "Epoch 27/100\n",
      " - 2s - loss: 0.6939 - accuracy: 0.5006\n",
      "Epoch 28/100\n",
      " - 1s - loss: 0.6996 - accuracy: 0.4992\n",
      "accuracy: 50.02%\n",
      "Epoch 1/100\n",
      " - 1s - loss: 1026.9725 - accuracy: 0.5004\n",
      "Epoch 2/100\n",
      " - 1s - loss: 6.3120 - accuracy: 0.4998\n",
      "Epoch 3/100\n"
     ]
    },
    {
     "name": "stdout",
     "output_type": "stream",
     "text": [
      " - 1s - loss: 3.9309 - accuracy: 0.4997\n",
      "Epoch 4/100\n",
      " - 1s - loss: 2.8101 - accuracy: 0.4997\n",
      "Epoch 5/100\n",
      " - 1s - loss: 1.5710 - accuracy: 0.5001\n",
      "Epoch 6/100\n",
      " - 1s - loss: 1.3122 - accuracy: 0.4994\n",
      "Epoch 7/100\n",
      " - 1s - loss: 1.1399 - accuracy: 0.4999\n",
      "Epoch 8/100\n",
      " - 1s - loss: 1.0237 - accuracy: 0.4996\n",
      "Epoch 9/100\n",
      " - 1s - loss: 0.9756 - accuracy: 0.4997\n",
      "Epoch 10/100\n",
      " - 2s - loss: 0.9821 - accuracy: 0.4992\n",
      "Epoch 11/100\n",
      " - 1s - loss: 0.8547 - accuracy: 0.4996\n",
      "Epoch 12/100\n",
      " - 2s - loss: 0.8412 - accuracy: 0.4990\n",
      "Epoch 13/100\n",
      " - 2s - loss: 0.8509 - accuracy: 0.5010\n",
      "Epoch 14/100\n",
      " - 2s - loss: 0.8123 - accuracy: 0.5008\n",
      "Epoch 15/100\n",
      " - 2s - loss: 0.7538 - accuracy: 0.5000\n",
      "Epoch 16/100\n",
      " - 1s - loss: 0.7547 - accuracy: 0.5007\n",
      "Epoch 17/100\n",
      " - 1s - loss: 0.7351 - accuracy: 0.4999\n",
      "Epoch 18/100\n",
      " - 1s - loss: 0.7310 - accuracy: 0.5005\n",
      "Epoch 19/100\n",
      " - 1s - loss: 0.7313 - accuracy: 0.5016\n",
      "Epoch 20/100\n",
      " - 1s - loss: 0.7078 - accuracy: 0.4999\n",
      "Epoch 21/100\n",
      " - 1s - loss: 0.7160 - accuracy: 0.4994\n",
      "Epoch 22/100\n",
      " - 1s - loss: 0.7060 - accuracy: 0.4993\n",
      "Epoch 23/100\n",
      " - 1s - loss: 0.7043 - accuracy: 0.4996\n",
      "Epoch 24/100\n",
      " - 1s - loss: 0.7180 - accuracy: 0.5009\n",
      "Epoch 25/100\n",
      " - 1s - loss: 0.7066 - accuracy: 0.4987\n",
      "Epoch 26/100\n",
      " - 1s - loss: 0.6945 - accuracy: 0.4995\n",
      "Epoch 27/100\n",
      " - 1s - loss: 0.7031 - accuracy: 0.4998\n",
      "Epoch 28/100\n",
      " - 1s - loss: 0.6964 - accuracy: 0.5011\n",
      "Epoch 29/100\n",
      " - 1s - loss: 0.6947 - accuracy: 0.4995\n",
      "accuracy: 50.02%\n",
      "Epoch 1/100\n",
      " - 2s - loss: 974.0030 - accuracy: 0.4993\n",
      "Epoch 2/100\n",
      " - 2s - loss: 5.7372 - accuracy: 0.5003\n",
      "Epoch 3/100\n",
      " - 2s - loss: 2.9766 - accuracy: 0.4992\n",
      "Epoch 4/100\n",
      " - 2s - loss: 1.7430 - accuracy: 0.4988\n",
      "Epoch 5/100\n",
      " - 2s - loss: 1.3045 - accuracy: 0.4996\n",
      "Epoch 6/100\n",
      " - 1s - loss: 1.0643 - accuracy: 0.5005\n",
      "Epoch 7/100\n",
      " - 1s - loss: 0.9589 - accuracy: 0.4997\n",
      "Epoch 8/100\n",
      " - 1s - loss: 0.9860 - accuracy: 0.5001\n",
      "Epoch 9/100\n",
      " - 1s - loss: 0.8595 - accuracy: 0.4991\n",
      "Epoch 10/100\n",
      " - 1s - loss: 0.7967 - accuracy: 0.4999\n",
      "Epoch 11/100\n",
      " - 1s - loss: 0.7482 - accuracy: 0.4995\n",
      "Epoch 12/100\n",
      " - 1s - loss: 0.7387 - accuracy: 0.5003\n",
      "Epoch 13/100\n",
      " - 1s - loss: 0.7619 - accuracy: 0.4998\n",
      "Epoch 14/100\n",
      " - 1s - loss: 0.7285 - accuracy: 0.4996\n",
      "Epoch 15/100\n",
      " - 2s - loss: 0.7109 - accuracy: 0.4987\n",
      "Epoch 16/100\n",
      " - 1s - loss: 0.7059 - accuracy: 0.4999\n",
      "Epoch 17/100\n",
      " - 1s - loss: 0.7053 - accuracy: 0.4994\n",
      "Epoch 18/100\n",
      " - 1s - loss: 0.7013 - accuracy: 0.5005\n",
      "Epoch 19/100\n",
      " - 1s - loss: 0.7043 - accuracy: 0.4995\n",
      "Epoch 20/100\n",
      " - 1s - loss: 0.7019 - accuracy: 0.4993\n",
      "Epoch 21/100\n",
      " - 1s - loss: 0.6974 - accuracy: 0.4983\n",
      "Epoch 22/100\n",
      " - 1s - loss: 0.6986 - accuracy: 0.4989\n",
      "Epoch 23/100\n",
      " - 2s - loss: 0.6993 - accuracy: 0.4982\n",
      "Epoch 24/100\n",
      " - 1s - loss: 0.7005 - accuracy: 0.4991\n",
      "accuracy: 50.02%\n",
      "Epoch 1/100\n",
      " - 2s - loss: 1062.7212 - accuracy: 0.5002\n",
      "Epoch 2/100\n",
      " - 1s - loss: 5.2530 - accuracy: 0.4991\n",
      "Epoch 3/100\n",
      " - 1s - loss: 2.2924 - accuracy: 0.4994\n",
      "Epoch 4/100\n",
      " - 1s - loss: 1.8097 - accuracy: 0.4996\n",
      "Epoch 5/100\n",
      " - 1s - loss: 1.3809 - accuracy: 0.4999\n",
      "Epoch 6/100\n",
      " - 1s - loss: 1.0984 - accuracy: 0.4989\n",
      "Epoch 7/100\n",
      " - 1s - loss: 0.9888 - accuracy: 0.4985\n",
      "Epoch 8/100\n",
      " - 2s - loss: 0.8378 - accuracy: 0.5006\n",
      "Epoch 9/100\n",
      " - 1s - loss: 0.9010 - accuracy: 0.4988\n",
      "Epoch 10/100\n",
      " - 1s - loss: 0.8099 - accuracy: 0.4990\n",
      "Epoch 11/100\n",
      " - 1s - loss: 0.7920 - accuracy: 0.4987\n",
      "Epoch 12/100\n",
      " - 1s - loss: 0.7792 - accuracy: 0.4992\n",
      "Epoch 13/100\n",
      " - 1s - loss: 0.7390 - accuracy: 0.4990\n",
      "Epoch 14/100\n",
      " - 1s - loss: 0.7302 - accuracy: 0.4991\n",
      "Epoch 15/100\n",
      " - 1s - loss: 0.7683 - accuracy: 0.5000\n",
      "Epoch 16/100\n",
      " - 1s - loss: 0.7339 - accuracy: 0.5001\n",
      "Epoch 17/100\n",
      " - 2s - loss: 0.7037 - accuracy: 0.5003\n",
      "Epoch 18/100\n",
      " - 1s - loss: 0.7164 - accuracy: 0.5007\n",
      "Epoch 19/100\n",
      " - 1s - loss: 0.7446 - accuracy: 0.5002\n",
      "Epoch 20/100\n",
      " - 1s - loss: 0.6973 - accuracy: 0.4993\n",
      "Epoch 21/100\n",
      " - 1s - loss: 0.7052 - accuracy: 0.5004\n",
      "Epoch 22/100\n",
      " - 1s - loss: 0.7064 - accuracy: 0.4997\n",
      "Epoch 23/100\n",
      " - 1s - loss: 0.7139 - accuracy: 0.4984\n",
      "accuracy: 49.98%\n",
      "50.01% (+/- 0.01%)\n"
     ]
    }
   ],
   "source": [
    "FNN_bias = kfold_validation(X_tr_bias, y_train)"
   ]
  },
  {
   "cell_type": "markdown",
   "metadata": {},
   "source": [
    "## Model with bias"
   ]
  },
  {
   "cell_type": "code",
   "execution_count": 57,
   "metadata": {},
   "outputs": [
    {
     "name": "stdout",
     "output_type": "stream",
     "text": [
      "Epoch 1/100\n",
      " - 2s - loss: 0.0564 - accuracy: 0.9821 - accuracy_1: 0.9821\n",
      "Epoch 2/100\n",
      " - 1s - loss: 0.0035 - accuracy: 0.9996 - accuracy_1: 0.9996\n",
      "Epoch 3/100\n",
      " - 1s - loss: 0.0028 - accuracy: 0.9997 - accuracy_1: 0.9997\n",
      "Epoch 4/100\n",
      " - 1s - loss: 0.0022 - accuracy: 0.9998 - accuracy_1: 0.9998\n",
      "Epoch 5/100\n",
      " - 1s - loss: 0.0021 - accuracy: 0.9998 - accuracy_1: 0.9998\n",
      "Epoch 6/100\n",
      " - 2s - loss: 0.0020 - accuracy: 0.9998 - accuracy_1: 0.9998\n",
      "Epoch 7/100\n",
      " - 2s - loss: 0.0019 - accuracy: 0.9998 - accuracy_1: 0.9998\n",
      "Epoch 8/100\n",
      " - 1s - loss: 0.0018 - accuracy: 0.9998 - accuracy_1: 0.9998\n",
      "Epoch 9/100\n",
      " - 1s - loss: 0.0019 - accuracy: 0.9998 - accuracy_1: 0.9998\n",
      "Epoch 10/100\n",
      " - 2s - loss: 0.0017 - accuracy: 0.9998 - accuracy_1: 0.9998\n",
      "Epoch 11/100\n",
      " - 2s - loss: 0.0018 - accuracy: 0.9998 - accuracy_1: 0.9998\n",
      "Epoch 12/100\n",
      " - 2s - loss: 0.0016 - accuracy: 0.9998 - accuracy_1: 0.9998\n",
      "Epoch 13/100\n",
      " - 2s - loss: 0.0017 - accuracy: 0.9998 - accuracy_1: 0.9998\n",
      "Epoch 14/100\n",
      " - 2s - loss: 0.0016 - accuracy: 0.9998 - accuracy_1: 0.9998\n",
      "Epoch 15/100\n",
      " - 2s - loss: 0.0016 - accuracy: 0.9998 - accuracy_1: 0.9998\n"
     ]
    },
    {
     "data": {
      "text/plain": [
       "<keras.callbacks.callbacks.History at 0x14c7b8c18>"
      ]
     },
     "execution_count": 57,
     "metadata": {},
     "output_type": "execute_result"
    }
   ],
   "source": [
    "#bias\n",
    "FNN_bias = create_model(X_train_bias)\n",
    "FNN_bias.fit(X_train_bias, y_train, epochs=100, batch_size=1000, shuffle=True, verbose=2, callbacks=[es_callback],\n",
    "            class_weight=class_weights)"
   ]
  },
  {
   "cell_type": "code",
   "execution_count": 44,
   "metadata": {},
   "outputs": [
    {
     "name": "stdout",
     "output_type": "stream",
     "text": [
      "160000/160000 [==============================] - 3s 21us/step\n",
      "Test loss with bias: 0.69\n",
      "Test accuracy with bias: 14.96\n"
     ]
    }
   ],
   "source": [
    "#bias\n",
    "loss_dl_bias, accuracy_dl_bias = FNN_bias.evaluate(X_test_bias, y_test)\n",
    "print('Test loss with bias: ' + str(round(loss_dl_bias, 2)))\n",
    "print('Test accuracy with bias: ' + str(round(accuracy_dl_bias*100, 2)))"
   ]
  },
  {
   "cell_type": "code",
   "execution_count": 54,
   "metadata": {},
   "outputs": [
    {
     "name": "stdout",
     "output_type": "stream",
     "text": [
      "160000/160000 [==============================] - 2s 13us/step\n",
      "              precision    recall  f1-score   support\n",
      "\n",
      "           0       0.27      0.00      0.00    136055\n",
      "           1       0.15      1.00      0.26     23945\n",
      "\n",
      "    accuracy                           0.15    160000\n",
      "   macro avg       0.21      0.50      0.13    160000\n",
      "weighted avg       0.25      0.15      0.04    160000\n",
      "\n"
     ]
    }
   ],
   "source": [
    "from sklearn.metrics import classification_report\n",
    "\n",
    "#bias\n",
    "y_pred_bias = FNN_bias.predict_classes(X_test_bias, verbose=1)\n",
    "\n",
    "print(classification_report(y_test, y_pred_bias))"
   ]
  },
  {
   "cell_type": "markdown",
   "metadata": {},
   "source": [
    "## Model with non-bias dataset"
   ]
  },
  {
   "cell_type": "code",
   "execution_count": 13,
   "metadata": {
    "collapsed": true
   },
   "outputs": [
    {
     "name": "stdout",
     "output_type": "stream",
     "text": [
      "Epoch 1/100\n",
      " - 2s - loss: 0.6974 - accuracy: 0.5005\n",
      "Epoch 2/100\n",
      " - 1s - loss: 0.6934 - accuracy: 0.4999\n",
      "Epoch 3/100\n",
      " - 1s - loss: 0.6932 - accuracy: 0.5007\n",
      "Epoch 4/100\n",
      " - 1s - loss: 0.6932 - accuracy: 0.4997\n",
      "Epoch 5/100\n",
      " - 1s - loss: 0.6932 - accuracy: 0.5004\n",
      "Epoch 6/100\n",
      " - 1s - loss: 0.6932 - accuracy: 0.5001\n",
      "Epoch 7/100\n",
      " - 1s - loss: 0.6932 - accuracy: 0.5004\n",
      "Epoch 8/100\n",
      " - 2s - loss: 0.6932 - accuracy: 0.4998\n",
      "Epoch 9/100\n",
      " - 2s - loss: 0.6932 - accuracy: 0.4999\n",
      "Epoch 10/100\n",
      " - 2s - loss: 0.6932 - accuracy: 0.4991\n"
     ]
    },
    {
     "data": {
      "text/plain": [
       "<keras.callbacks.callbacks.History at 0x148cd9eb8>"
      ]
     },
     "execution_count": 13,
     "metadata": {},
     "output_type": "execute_result"
    }
   ],
   "source": [
    "#no bias\n",
    "FNN_nob = create_model(X_train_nob)\n",
    "FNN_nob.fit(X_train_nob, y_train, epochs=100, batch_size=1000, shuffle=True, verbose=2, callbacks=[es_callback],\n",
    "           class_weight=class_weights)"
   ]
  },
  {
   "cell_type": "code",
   "execution_count": 17,
   "metadata": {},
   "outputs": [
    {
     "name": "stdout",
     "output_type": "stream",
     "text": [
      "160000/160000 [==============================] - 4s 23us/step\n",
      "Test loss with no bias: 0.69\n",
      "Test accuracy with no bias: 78.65\n"
     ]
    }
   ],
   "source": [
    "#no bias\n",
    "loss_dl_nob, accuracy_dl_nob = FNN_nob.evaluate(X_test_nob, y_test)\n",
    "print('Test loss with no bias: ' + str(round(loss_dl_nob, 2)))\n",
    "print('Test accuracy with no bias: ' + str(round(accuracy_dl_nob*100, 2)))"
   ]
  },
  {
   "cell_type": "code",
   "execution_count": 55,
   "metadata": {},
   "outputs": [
    {
     "name": "stdout",
     "output_type": "stream",
     "text": [
      "              precision    recall  f1-score   support\n",
      "\n",
      "           0       0.85      1.00      0.92    136055\n",
      "           1       0.00      0.00      0.00     23945\n",
      "\n",
      "    accuracy                           0.85    160000\n",
      "   macro avg       0.43      0.50      0.46    160000\n",
      "weighted avg       0.72      0.85      0.78    160000\n",
      "\n"
     ]
    },
    {
     "name": "stderr",
     "output_type": "stream",
     "text": [
      "/Users/Rolf/anaconda3/lib/python3.7/site-packages/sklearn/metrics/_classification.py:1221: UndefinedMetricWarning: Precision and F-score are ill-defined and being set to 0.0 in labels with no predicted samples. Use `zero_division` parameter to control this behavior.\n",
      "  _warn_prf(average, modifier, msg_start, len(result))\n"
     ]
    }
   ],
   "source": [
    "#no bias\n",
    "y_pred_nob = FNN_nob.predict_classes(X_test_nob)\n",
    "\n",
    "print(classification_report(y_test, y_pred_nob))"
   ]
  },
  {
   "cell_type": "markdown",
   "metadata": {},
   "source": [
    "# Fairness of model"
   ]
  },
  {
   "cell_type": "code",
   "execution_count": 19,
   "metadata": {},
   "outputs": [],
   "source": [
    "def bias_analysis(X_test_df, y_test_df, df_column_names, model, bias, minority):\n",
    "    \"\"\" \n",
    "    X_test_df = X_test after StandardScaler transformation\n",
    "    y_test_df = y_test \n",
    "    df_columns_names = X_test dataframe before StandardScaler transformation\n",
    "    model = deep learning model\n",
    "    bias = 0 or 1\n",
    "    minority = 0 or 1\n",
    "    \"\"\"\n",
    "    \n",
    "    #join minority variable to X and y dataframes to differentiate between minority and non-minority\n",
    "    X_test_min = np.concatenate((X_test_df, \n",
    "                                 test['minority'].values.reshape(-1,1)), \n",
    "                                axis=1)\n",
    "    y_test_min = np.concatenate((y_test_df.values.reshape(-1,1),\n",
    "                                 test['minority'].values.reshape(-1,1)), \n",
    "                                axis=1)\n",
    "    \n",
    "    #column headings for dataframe that will be converted from array\n",
    "    columns = np.insert(df_column_names.columns, X_test_df.shape[1], 'minority')\n",
    "    \n",
    "    #convert numpy array to dataframe\n",
    "    df_X_test = pd.DataFrame(X_test_min, columns=columns)\n",
    "    df_y_test = pd.DataFrame(y_test_min, columns=['default','minority'])\n",
    "    \n",
    "    #subset minority==1, minority group\n",
    "    X_minority = df_X_test[df_X_test['minority']==minority].values\n",
    "    y_minority = df_y_test[df_y_test['minority']==minority].values\n",
    "    \n",
    "    #predict y\n",
    "    y_pred_minority = model.predict_classes(X_minority[:,:X_test_df.shape[1]])\n",
    "\n",
    "    #evaluate accuracy\n",
    "    loss_dl_min, accuracy_dl_min = model.evaluate(X_minority[:,:X_test_df.shape[1]], y_minority[:,0])\n",
    "    \n",
    "    confusion = confusion_matrix(y_minority[:,0], y_pred_minority)\n",
    "    \n",
    "    if bias == 1:\n",
    "        if minority == 1:\n",
    "        \n",
    "            print('Test loss bias minority: ' + str(round(loss_dl_min, 2)))\n",
    "            print('Test accuracy bias minority: ' + str(round(accuracy_dl_min*100, 2)) + '%')\n",
    "\n",
    "            print()\n",
    "\n",
    "            return confusion\n",
    "\n",
    "        else:\n",
    "\n",
    "            print('Test loss bias non-minority: ' + str(round(loss_dl_min, 2)))\n",
    "            print('Test accuracy bias non-minority: ' + str(round(accuracy_dl_min*100, 2)) + '%')\n",
    "\n",
    "            print()\n",
    "\n",
    "            return confusion\n",
    "      \n",
    "    #bias=0\n",
    "    if bias == 0:\n",
    "        if minority == 1:\n",
    "\n",
    "            print('Test loss non-bias minority: ' + str(round(loss_dl_min, 2)))\n",
    "            print('Test accuracy non-bias minority: ' + str(round(accuracy_dl_min*100, 2)) + '%')\n",
    "\n",
    "            print()\n",
    "\n",
    "            return confusion\n",
    "\n",
    "        else:\n",
    "            \n",
    "            print('Test loss non-bias non-minority: ' + str(round(loss_dl_min, 2)))\n",
    "            print('Test accuracy non-bias non-minority: ' + str(round(accuracy_dl_min*100, 2)) + '%')\n",
    "\n",
    "            print()\n",
    "\n",
    "            return confusion"
   ]
  },
  {
   "cell_type": "code",
   "execution_count": 20,
   "metadata": {},
   "outputs": [],
   "source": [
    "def bias_check(bias, minority):\n",
    "    \"\"\"\n",
    "    bias = 0 or 1\n",
    "        bias==1 means dataset is biased\n",
    "    minority = 0 or 1\n",
    "        minority==1 means minority is analysed\n",
    "\n",
    "    \"\"\"\n",
    "    \n",
    "    if bias == 1:\n",
    "        result = bias_analysis(X_test_bias, y_test, X_te_bias, FNN_bias, bias=bias, minority=minority)\n",
    "        return result\n",
    "    \n",
    "    if bias == 0:\n",
    "        result = bias_analysis(X_test_nob, y_test, X_te_nob, FNN_nob, bias=bias, minority=minority)\n",
    "        return result"
   ]
  },
  {
   "cell_type": "code",
   "execution_count": 106,
   "metadata": {},
   "outputs": [
    {
     "name": "stdout",
     "output_type": "stream",
     "text": [
      "80348/80348 [==============================] - 1s 17us/step\n",
      "Test loss bias minority: 13.99\n",
      "Test accuracy bias minority: 27.28%\n",
      "\n"
     ]
    }
   ],
   "source": [
    "confusion_bias_minority = bias_check(bias=1, minority=1)"
   ]
  },
  {
   "cell_type": "code",
   "execution_count": 22,
   "metadata": {},
   "outputs": [
    {
     "name": "stdout",
     "output_type": "stream",
     "text": [
      "79652/79652 [==============================] - 2s 23us/step\n",
      "Test loss bias non-minority: 4.2\n",
      "Test accuracy bias non-minority: 83.13%\n",
      "\n"
     ]
    }
   ],
   "source": [
    "confusion_bias_non_minority = bias_check(bias=1, minority=0)"
   ]
  },
  {
   "cell_type": "code",
   "execution_count": 23,
   "metadata": {},
   "outputs": [
    {
     "name": "stdout",
     "output_type": "stream",
     "text": [
      "80348/80348 [==============================] - 2s 20us/step\n",
      "Test loss non-bias minority: 0.69\n",
      "Test accuracy non-bias minority: 78.68%\n",
      "\n"
     ]
    }
   ],
   "source": [
    "confusion_non_bias_minority = bias_check(bias=0, minority=1)"
   ]
  },
  {
   "cell_type": "code",
   "execution_count": 24,
   "metadata": {},
   "outputs": [
    {
     "name": "stdout",
     "output_type": "stream",
     "text": [
      "79652/79652 [==============================] - 2s 20us/step\n",
      "Test loss non-bias non-minority: 0.69\n",
      "Test accuracy non-bias non-minority: 78.62%\n",
      "\n"
     ]
    }
   ],
   "source": [
    "confusion_non_bias_non_minority = bias_check(bias=0, minority=0)"
   ]
  },
  {
   "cell_type": "markdown",
   "metadata": {},
   "source": [
    "<img src=images/confusionMatrix.jpg>"
   ]
  },
  {
   "cell_type": "markdown",
   "metadata": {},
   "source": [
    "<img src=images/metrics_1.png>"
   ]
  },
  {
   "cell_type": "markdown",
   "metadata": {},
   "source": [
    "# Demographic Parity"
   ]
  },
  {
   "cell_type": "markdown",
   "metadata": {},
   "source": [
    "Really good article explaining fairness measures in ML\n",
    "https://towardsdatascience.com/how-to-define-fairness-to-detect-and-prevent-discriminatory-outcomes-in-machine-learning-ef23fd408ef2"
   ]
  },
  {
   "cell_type": "markdown",
   "metadata": {},
   "source": [
    "Positive rate for both minority and non-minority should be the same. This means that the rate of (false positive + true positive) be similar for both groups. For example, the model should predict a 50% default rate in both minority and non-minority. \n",
    "\n",
    "Overall, demographic parity does not exist for this dataset since 99% default rate is predicted for the minority group and less than 1% for the non-minority group."
   ]
  },
  {
   "cell_type": "markdown",
   "metadata": {},
   "source": [
    "<img src=images/demographic_parity.png>"
   ]
  },
  {
   "cell_type": "code",
   "execution_count": 25,
   "metadata": {},
   "outputs": [],
   "source": [
    "def demographic_parity(result, bias=0, minority=0):\n",
    "    \"\"\"\n",
    "    bias = 0 or 1\n",
    "        bias==1 means dataset is biased\n",
    "    minority = 0 or 1\n",
    "        minority==1 means minority is analysed\n",
    "\n",
    "    \"\"\"\n",
    "    \n",
    "    tn, fp, fn, tp = result.ravel()\n",
    "    #tn, fp, fn, tp = bias_check(bias, minority).ravel()\n",
    "    \n",
    "    temp = (fp + tp) / (tn + fp + fn + tp)\n",
    "    demo_parity = round(temp*100, 2) \n",
    "    \n",
    "    if bias == 1:\n",
    "        if minority == 0:\n",
    "            print('Demographic parity for bias non-minority: ' + str(demo_parity) + '%')\n",
    "            return demo_parity\n",
    "        \n",
    "        else: \n",
    "            print('Demographic parity for bias minority: ' + str(demo_parity) + '%')\n",
    "            return demo_parity    \n",
    "    if bias == 0:\n",
    "        if minority == 0:\n",
    "            print('Demographic parity for non-bias non-minority: ' + str(demo_parity) + '%')\n",
    "            return demo_parity        \n",
    "        else: \n",
    "            print('Demographic parity for non-bias minority: ' + str(demo_parity) + '%')\n",
    "            return demo_parity            "
   ]
  },
  {
   "cell_type": "code",
   "execution_count": 26,
   "metadata": {},
   "outputs": [],
   "source": [
    "def if_equal(df):\n",
    "    for index, row in df.iterrows():\n",
    "        if abs(row['minority'] - row['non-minority'])> 2:\n",
    "            df.loc[index, 'equal'] = 'No'\n",
    "        else:\n",
    "            df.loc[index, 'equal'] = 'Yes'\n",
    "        "
   ]
  },
  {
   "cell_type": "code",
   "execution_count": 27,
   "metadata": {},
   "outputs": [],
   "source": [
    "demo_parity = pd.DataFrame(index=['bias', 'non-bias'])"
   ]
  },
  {
   "cell_type": "code",
   "execution_count": 28,
   "metadata": {},
   "outputs": [
    {
     "name": "stdout",
     "output_type": "stream",
     "text": [
      "Demographic parity for bias minority: 84.09%\n",
      "Demographic parity for bias non-minority: 3.86%\n"
     ]
    }
   ],
   "source": [
    "#bias\n",
    "demo_parity.loc['bias', 'minority'] = demographic_parity(confusion_bias_minority, bias=1, minority=1)\n",
    "demo_parity.loc['bias', 'non-minority'] = demographic_parity(confusion_bias_non_minority, bias=1, minority=0)"
   ]
  },
  {
   "cell_type": "code",
   "execution_count": 29,
   "metadata": {},
   "outputs": [
    {
     "name": "stdout",
     "output_type": "stream",
     "text": [
      "Demographic parity for non-bias minority: 9.01%\n",
      "Demographic parity for non-bias non-minority: 9.11%\n"
     ]
    }
   ],
   "source": [
    "#non-bias\n",
    "demo_parity.loc['non-bias', 'minority'] = demographic_parity(confusion_non_bias_minority, bias=0, minority=1)\n",
    "demo_parity.loc['non-bias', 'non-minority'] = demographic_parity(confusion_non_bias_non_minority, bias=0, minority=0)"
   ]
  },
  {
   "cell_type": "code",
   "execution_count": 30,
   "metadata": {},
   "outputs": [
    {
     "data": {
      "text/html": [
       "<div>\n",
       "<style scoped>\n",
       "    .dataframe tbody tr th:only-of-type {\n",
       "        vertical-align: middle;\n",
       "    }\n",
       "\n",
       "    .dataframe tbody tr th {\n",
       "        vertical-align: top;\n",
       "    }\n",
       "\n",
       "    .dataframe thead th {\n",
       "        text-align: right;\n",
       "    }\n",
       "</style>\n",
       "<table border=\"1\" class=\"dataframe\">\n",
       "  <thead>\n",
       "    <tr style=\"text-align: right;\">\n",
       "      <th></th>\n",
       "      <th>minority</th>\n",
       "      <th>non-minority</th>\n",
       "      <th>equal</th>\n",
       "    </tr>\n",
       "  </thead>\n",
       "  <tbody>\n",
       "    <tr>\n",
       "      <th>bias</th>\n",
       "      <td>84.09</td>\n",
       "      <td>3.86</td>\n",
       "      <td>No</td>\n",
       "    </tr>\n",
       "    <tr>\n",
       "      <th>non-bias</th>\n",
       "      <td>9.01</td>\n",
       "      <td>9.11</td>\n",
       "      <td>Yes</td>\n",
       "    </tr>\n",
       "  </tbody>\n",
       "</table>\n",
       "</div>"
      ],
      "text/plain": [
       "          minority  non-minority equal\n",
       "bias         84.09          3.86    No\n",
       "non-bias      9.01          9.11   Yes"
      ]
     },
     "execution_count": 30,
     "metadata": {},
     "output_type": "execute_result"
    }
   ],
   "source": [
    "if_equal(demo_parity)\n",
    "demo_parity"
   ]
  },
  {
   "cell_type": "markdown",
   "metadata": {},
   "source": [
    "# Equal Opportunity"
   ]
  },
  {
   "cell_type": "markdown",
   "metadata": {},
   "source": [
    "The false negative and true positive rate should be the same for both groups. \n",
    "\n",
    "Overall, equal opportunity exists since both groups correctly predict default rate to 100%. "
   ]
  },
  {
   "cell_type": "markdown",
   "metadata": {},
   "source": [
    "<img src=images/equal_opportunity.png>"
   ]
  },
  {
   "cell_type": "code",
   "execution_count": 31,
   "metadata": {},
   "outputs": [],
   "source": [
    "def equal_opportunity(result, bias=0, minority=0):\n",
    "    \"\"\"\n",
    "    bias = 0 or 1\n",
    "        bias==1 means dataset is biased\n",
    "    minority = 0 or 1\n",
    "        minority==1 means minority is analysed\n",
    "\n",
    "    \"\"\"\n",
    "    \n",
    "    tn, fp, fn, tp = result.ravel()\n",
    "    #tn, fp, fn, tp = bias_check(bias, minority).ravel()\n",
    "    \n",
    "    temp = tp / (fn + tp)\n",
    "    equal_opportunity = round(temp*100, 2) \n",
    "    \n",
    "    if bias == 1:\n",
    "        if minority == 0:\n",
    "            print('Equal opportunity for bias non-minority: ' + str(equal_opportunity) + '%')\n",
    "            return equal_opportunity\n",
    "        \n",
    "        else: \n",
    "            print('Equal opportunity for bias minority: ' + str(equal_opportunity) + '%')\n",
    "            return equal_opportunity\n",
    "    \n",
    "    if bias == 0:\n",
    "        if minority == 0:\n",
    "            print('Equal opportunity for non-bias non-minority: ' + str(equal_opportunity) + '%')\n",
    "            return equal_opportunity\n",
    "        \n",
    "        else: \n",
    "            print('Equal opportunity for non-bias minority: ' + str(equal_opportunity) + '%')\n",
    "            return equal_opportunity"
   ]
  },
  {
   "cell_type": "code",
   "execution_count": 32,
   "metadata": {},
   "outputs": [],
   "source": [
    "equal_opp = pd.DataFrame(index=['bias', 'non-bias'])"
   ]
  },
  {
   "cell_type": "code",
   "execution_count": 33,
   "metadata": {},
   "outputs": [
    {
     "name": "stdout",
     "output_type": "stream",
     "text": [
      "Equal opportunity for bias minority: 87.84%\n",
      "Equal opportunity for bias non-minority: 6.37%\n"
     ]
    }
   ],
   "source": [
    "#bias\n",
    "equal_opp.loc['bias', 'minority'] = equal_opportunity(confusion_bias_minority, bias=1, minority=1)\n",
    "equal_opp.loc['bias', 'non-minority'] = equal_opportunity(confusion_bias_non_minority, bias=1, minority=0)"
   ]
  },
  {
   "cell_type": "code",
   "execution_count": 34,
   "metadata": {},
   "outputs": [
    {
     "name": "stdout",
     "output_type": "stream",
     "text": [
      "Equal opportunity for non-bias minority: 9.05%\n",
      "Equal opportunity for non-bias non-minority: 8.84%\n"
     ]
    }
   ],
   "source": [
    "#non-bias\n",
    "equal_opp.loc['non-bias', 'minority'] = equal_opportunity(confusion_non_bias_minority, bias=0, minority=1)\n",
    "equal_opp.loc['non-bias', 'non-minority'] = equal_opportunity(confusion_non_bias_non_minority, bias=0, minority=0)"
   ]
  },
  {
   "cell_type": "code",
   "execution_count": 35,
   "metadata": {},
   "outputs": [
    {
     "data": {
      "text/html": [
       "<div>\n",
       "<style scoped>\n",
       "    .dataframe tbody tr th:only-of-type {\n",
       "        vertical-align: middle;\n",
       "    }\n",
       "\n",
       "    .dataframe tbody tr th {\n",
       "        vertical-align: top;\n",
       "    }\n",
       "\n",
       "    .dataframe thead th {\n",
       "        text-align: right;\n",
       "    }\n",
       "</style>\n",
       "<table border=\"1\" class=\"dataframe\">\n",
       "  <thead>\n",
       "    <tr style=\"text-align: right;\">\n",
       "      <th></th>\n",
       "      <th>minority</th>\n",
       "      <th>non-minority</th>\n",
       "      <th>equal</th>\n",
       "    </tr>\n",
       "  </thead>\n",
       "  <tbody>\n",
       "    <tr>\n",
       "      <th>bias</th>\n",
       "      <td>87.84</td>\n",
       "      <td>6.37</td>\n",
       "      <td>No</td>\n",
       "    </tr>\n",
       "    <tr>\n",
       "      <th>non-bias</th>\n",
       "      <td>9.05</td>\n",
       "      <td>8.84</td>\n",
       "      <td>Yes</td>\n",
       "    </tr>\n",
       "  </tbody>\n",
       "</table>\n",
       "</div>"
      ],
      "text/plain": [
       "          minority  non-minority equal\n",
       "bias         87.84          6.37    No\n",
       "non-bias      9.05          8.84   Yes"
      ]
     },
     "execution_count": 35,
     "metadata": {},
     "output_type": "execute_result"
    }
   ],
   "source": [
    "if_equal(equal_opp)\n",
    "equal_opp"
   ]
  },
  {
   "cell_type": "markdown",
   "metadata": {},
   "source": [
    "# Equalised Odds"
   ]
  },
  {
   "cell_type": "markdown",
   "metadata": {},
   "source": [
    "<img src=images/equalised_odds.png>"
   ]
  },
  {
   "cell_type": "code",
   "execution_count": 42,
   "metadata": {},
   "outputs": [],
   "source": [
    "def equalised_odds(result, bias=0, minority=0):\n",
    "    \"\"\"\n",
    "    bias = 0 or 1\n",
    "        bias==1 means dataset is biased\n",
    "    minority = 0 or 1\n",
    "        minority==1 means minority is analysed\n",
    "\n",
    "    \"\"\"\n",
    "    \n",
    "    tn, fp, fn, tp = result.ravel()\n",
    "    #tn, fp, fn, tp = bias_check(bias, minority).ravel()\n",
    "    \n",
    "    temp = tp / (fn + tp)\n",
    "    true_positive_rate = round(temp*100, 2)\n",
    "    \n",
    "    temp = tn / (fp + tn)\n",
    "    true_negative_rate = round(temp*100, 2)\n",
    "    \n",
    "    if bias == 1:\n",
    "        if minority == 0:\n",
    "            print()\n",
    "            print('True positive rate for bias non-minority: ' + str(true_positive_rate) + '%')\n",
    "            print('True negative rate for bias non-minority: ' + str(true_negative_rate) + '%')\n",
    "            return true_positive_rate, true_negative_rate\n",
    "        \n",
    "        else: \n",
    "            print()\n",
    "            print('True positive rate for bias minority: ' + str(true_positive_rate) + '%')\n",
    "            print('True negative rate for bias minority: ' + str(true_negative_rate) + '%')\n",
    "            return true_positive_rate, true_negative_rate\n",
    "    \n",
    "    if bias == 0:\n",
    "        if minority == 0:\n",
    "            print()\n",
    "            print('True positive rate for non-bias non-minority: ' + str(true_positive_rate) + '%')\n",
    "            print('True negative rate for non-bias non-minority: ' + str(true_negative_rate) + '%')\n",
    "            return true_positive_rate, true_negative_rate\n",
    "        \n",
    "        else: \n",
    "            print()\n",
    "            print('True positive rate for non-bias minority: ' + str(true_positive_rate) + '%')\n",
    "            print('True negative rate for non-minority: ' + str(true_negative_rate) + '%')\n",
    "            return true_positive_rate, true_negative_rate"
   ]
  },
  {
   "cell_type": "code",
   "execution_count": 43,
   "metadata": {},
   "outputs": [],
   "source": [
    "equal_odds_tpr = pd.DataFrame(index=['bias', 'non-bias'])\n",
    "equal_odds_tnr = pd.DataFrame(index=['bias', 'non-bias'])"
   ]
  },
  {
   "cell_type": "code",
   "execution_count": 44,
   "metadata": {},
   "outputs": [
    {
     "name": "stdout",
     "output_type": "stream",
     "text": [
      "\n",
      "True positive rate for bias minority: 87.84%\n",
      "True negative rate for bias minority: 16.57%\n",
      "\n",
      "True positive rate for bias non-minority: 6.37%\n",
      "True negative rate for bias non-minority: 96.58%\n",
      "\n",
      "True positive rate for non-bias minority: 9.05%\n",
      "True negative rate for non-minority: 91.0%\n",
      "\n",
      "True positive rate for non-bias non-minority: 8.84%\n",
      "True negative rate for non-bias non-minority: 90.84%\n"
     ]
    }
   ],
   "source": [
    "#bias\n",
    "equal_odds_tpr.loc['bias', 'minority'], equal_odds_tnr.loc['bias', 'minority'] = equalised_odds(confusion_bias_minority, bias=1, minority=1)\n",
    "equal_odds_tpr.loc['bias', 'non-minority'], equal_odds_tnr.loc['bias', 'non-minority'] = equalised_odds(confusion_bias_non_minority, bias=1, minority=0)\n",
    "\n",
    "#non-bias\n",
    "equal_odds_tpr.loc['non-bias', 'minority'], equal_odds_tnr.loc['non-bias', 'minority'] = equalised_odds(confusion_non_bias_minority, bias=0, minority=1)\n",
    "equal_odds_tpr.loc['non-bias', 'non-minority'], equal_odds_tnr.loc['non-bias', 'non-minority'] = equalised_odds(confusion_non_bias_non_minority, bias=0, minority=0)"
   ]
  },
  {
   "cell_type": "code",
   "execution_count": 40,
   "metadata": {},
   "outputs": [
    {
     "data": {
      "text/html": [
       "<div>\n",
       "<style scoped>\n",
       "    .dataframe tbody tr th:only-of-type {\n",
       "        vertical-align: middle;\n",
       "    }\n",
       "\n",
       "    .dataframe tbody tr th {\n",
       "        vertical-align: top;\n",
       "    }\n",
       "\n",
       "    .dataframe thead th {\n",
       "        text-align: right;\n",
       "    }\n",
       "</style>\n",
       "<table border=\"1\" class=\"dataframe\">\n",
       "  <thead>\n",
       "    <tr style=\"text-align: right;\">\n",
       "      <th></th>\n",
       "      <th>minority</th>\n",
       "      <th>non-minority</th>\n",
       "      <th>equal</th>\n",
       "    </tr>\n",
       "  </thead>\n",
       "  <tbody>\n",
       "    <tr>\n",
       "      <th>bias</th>\n",
       "      <td>87.84</td>\n",
       "      <td>6.37</td>\n",
       "      <td>No</td>\n",
       "    </tr>\n",
       "    <tr>\n",
       "      <th>non-bias</th>\n",
       "      <td>9.05</td>\n",
       "      <td>8.84</td>\n",
       "      <td>Yes</td>\n",
       "    </tr>\n",
       "  </tbody>\n",
       "</table>\n",
       "</div>"
      ],
      "text/plain": [
       "          minority  non-minority equal\n",
       "bias         87.84          6.37    No\n",
       "non-bias      9.05          8.84   Yes"
      ]
     },
     "execution_count": 40,
     "metadata": {},
     "output_type": "execute_result"
    }
   ],
   "source": [
    "#true positive rate\n",
    "if_equal(equal_odds_tpr)\n",
    "equal_odds_tpr"
   ]
  },
  {
   "cell_type": "code",
   "execution_count": 41,
   "metadata": {},
   "outputs": [
    {
     "data": {
      "text/html": [
       "<div>\n",
       "<style scoped>\n",
       "    .dataframe tbody tr th:only-of-type {\n",
       "        vertical-align: middle;\n",
       "    }\n",
       "\n",
       "    .dataframe tbody tr th {\n",
       "        vertical-align: top;\n",
       "    }\n",
       "\n",
       "    .dataframe thead th {\n",
       "        text-align: right;\n",
       "    }\n",
       "</style>\n",
       "<table border=\"1\" class=\"dataframe\">\n",
       "  <thead>\n",
       "    <tr style=\"text-align: right;\">\n",
       "      <th></th>\n",
       "      <th>minority</th>\n",
       "      <th>non-minority</th>\n",
       "      <th>equal</th>\n",
       "    </tr>\n",
       "  </thead>\n",
       "  <tbody>\n",
       "    <tr>\n",
       "      <th>bias</th>\n",
       "      <td>16.57</td>\n",
       "      <td>96.58</td>\n",
       "      <td>No</td>\n",
       "    </tr>\n",
       "    <tr>\n",
       "      <th>non-bias</th>\n",
       "      <td>91.00</td>\n",
       "      <td>90.84</td>\n",
       "      <td>Yes</td>\n",
       "    </tr>\n",
       "  </tbody>\n",
       "</table>\n",
       "</div>"
      ],
      "text/plain": [
       "          minority  non-minority equal\n",
       "bias         16.57         96.58    No\n",
       "non-bias     91.00         90.84   Yes"
      ]
     },
     "execution_count": 41,
     "metadata": {},
     "output_type": "execute_result"
    }
   ],
   "source": [
    "#true negative rate\n",
    "if_equal(equal_odds_tnr)\n",
    "equal_odds_tnr"
   ]
  },
  {
   "cell_type": "markdown",
   "metadata": {},
   "source": [
    "# Disparate Impact Remover"
   ]
  },
  {
   "cell_type": "markdown",
   "metadata": {},
   "source": [
    "Notebook on how to remove bias in a variable: https://nbviewer.jupyter.org/github/srnghn/bias-mitigation-examples/blob/master/Bias%20Mitigation%20with%20Disparate%20Impact%20Remover.ipynb"
   ]
  },
  {
   "cell_type": "markdown",
   "metadata": {},
   "source": [
    "## Disparate impact is the same as demographic parity"
   ]
  },
  {
   "cell_type": "code",
   "execution_count": 46,
   "metadata": {},
   "outputs": [],
   "source": [
    "#disparate impact calculator\n",
    "def calc_prop(data, group_col, group, output_col, output_val):\n",
    "    new = data[data[group_col] == group]\n",
    "    return len(new[new[output_col] == output_val])/len(new)"
   ]
  },
  {
   "cell_type": "code",
   "execution_count": 108,
   "metadata": {},
   "outputs": [
    {
     "name": "stdout",
     "output_type": "stream",
     "text": [
      "0.9989379959558886\n"
     ]
    }
   ],
   "source": [
    "#disparate impact of minority\n",
    "pr_minority = calc_prop(train, \"minority\", 1, \"default\", 1)\n",
    "print(pr_minority)"
   ]
  },
  {
   "cell_type": "code",
   "execution_count": 109,
   "metadata": {},
   "outputs": [
    {
     "name": "stdout",
     "output_type": "stream",
     "text": [
      "0.0014465579556445455\n"
     ]
    }
   ],
   "source": [
    "#disparate impact of non-minority\n",
    "pr_non_minority = calc_prop(train, \"minority\", 0, \"default\", 1)\n",
    "print(pr_non_minority)"
   ]
  },
  {
   "cell_type": "code",
   "execution_count": 52,
   "metadata": {},
   "outputs": [
    {
     "data": {
      "text/plain": [
       "0.0010635425200048792"
      ]
     },
     "execution_count": 52,
     "metadata": {},
     "output_type": "execute_result"
    }
   ],
   "source": [
    "pr_minority / pr_non_minority"
   ]
  },
  {
   "cell_type": "markdown",
   "metadata": {},
   "source": [
    "The industry standard is a four-fifths rule: if the unprivileged group receives a positive outcome less than 80% of their proportion of the privilege group, this is a disparate impact violation. However, you may decide to increase this for your business."
   ]
  },
  {
   "cell_type": "markdown",
   "metadata": {},
   "source": [
    "## check on test dataset"
   ]
  },
  {
   "cell_type": "code",
   "execution_count": 91,
   "metadata": {},
   "outputs": [
    {
     "data": {
      "text/html": [
       "<div>\n",
       "<style scoped>\n",
       "    .dataframe tbody tr th:only-of-type {\n",
       "        vertical-align: middle;\n",
       "    }\n",
       "\n",
       "    .dataframe tbody tr th {\n",
       "        vertical-align: top;\n",
       "    }\n",
       "\n",
       "    .dataframe thead th {\n",
       "        text-align: right;\n",
       "    }\n",
       "</style>\n",
       "<table border=\"1\" class=\"dataframe\">\n",
       "  <thead>\n",
       "    <tr style=\"text-align: right;\">\n",
       "      <th></th>\n",
       "      <th>minority</th>\n",
       "      <th>preds</th>\n",
       "    </tr>\n",
       "  </thead>\n",
       "  <tbody>\n",
       "    <tr>\n",
       "      <th>0</th>\n",
       "      <td>1</td>\n",
       "      <td>1</td>\n",
       "    </tr>\n",
       "    <tr>\n",
       "      <th>1</th>\n",
       "      <td>0</td>\n",
       "      <td>0</td>\n",
       "    </tr>\n",
       "    <tr>\n",
       "      <th>2</th>\n",
       "      <td>0</td>\n",
       "      <td>0</td>\n",
       "    </tr>\n",
       "    <tr>\n",
       "      <th>3</th>\n",
       "      <td>1</td>\n",
       "      <td>1</td>\n",
       "    </tr>\n",
       "    <tr>\n",
       "      <th>4</th>\n",
       "      <td>1</td>\n",
       "      <td>1</td>\n",
       "    </tr>\n",
       "  </tbody>\n",
       "</table>\n",
       "</div>"
      ],
      "text/plain": [
       "   minority  preds\n",
       "0         1      1\n",
       "1         0      0\n",
       "2         0      0\n",
       "3         1      1\n",
       "4         1      1"
      ]
     },
     "execution_count": 91,
     "metadata": {},
     "output_type": "execute_result"
    }
   ],
   "source": [
    "pred_bias_np = np.concatenate((test[['minority']],\n",
    "                                y_pred_bias), \n",
    "                                axis=1)\n",
    "pred_bias_df = pd.DataFrame(pred_bias_np, columns=['minority', 'preds'])\n",
    "pred_bias_df.head()"
   ]
  },
  {
   "cell_type": "code",
   "execution_count": 112,
   "metadata": {},
   "outputs": [
    {
     "name": "stdout",
     "output_type": "stream",
     "text": [
      "0.8409170110021407\n"
     ]
    }
   ],
   "source": [
    "#disparate impact of minority\n",
    "dl_pr_minority = calc_prop(pred_bias_df, \"minority\", 1, \"preds\", 1)\n",
    "print(dl_pr_minority)"
   ]
  },
  {
   "cell_type": "code",
   "execution_count": 113,
   "metadata": {},
   "outputs": [
    {
     "name": "stdout",
     "output_type": "stream",
     "text": [
      "0.03863054286144729\n"
     ]
    }
   ],
   "source": [
    "#disparate impact of non-minority\n",
    "dl_pr_non_minority = calc_prop(pred_bias_df, \"minority\", 0, \"preds\", 1)\n",
    "print(dl_pr_non_minority)"
   ]
  },
  {
   "cell_type": "code",
   "execution_count": 115,
   "metadata": {},
   "outputs": [
    {
     "data": {
      "text/plain": [
       "0.04593859127122468"
      ]
     },
     "execution_count": 115,
     "metadata": {},
     "output_type": "execute_result"
    }
   ],
   "source": [
    "dl_pr_non_minority / dl_pr_minority"
   ]
  },
  {
   "cell_type": "code",
   "execution_count": 117,
   "metadata": {
    "collapsed": true
   },
   "outputs": [
    {
     "name": "stdout",
     "output_type": "stream",
     "text": [
      "Requirement already satisfied: aif360 in /Users/Rolf/anaconda3/lib/python3.7/site-packages (0.3.0)\n",
      "Requirement already satisfied: matplotlib in /Users/Rolf/anaconda3/lib/python3.7/site-packages (from aif360) (3.2.1)\n",
      "Requirement already satisfied: numpy>=1.16 in /Users/Rolf/anaconda3/lib/python3.7/site-packages (from aif360) (1.18.2)\n",
      "Requirement already satisfied: scipy>=1.2.0 in /Users/Rolf/anaconda3/lib/python3.7/site-packages (from aif360) (1.4.1)\n",
      "Requirement already satisfied: scikit-learn>=0.21 in /Users/Rolf/anaconda3/lib/python3.7/site-packages (from aif360) (0.23.1)\n",
      "Requirement already satisfied: pandas>=0.24.0 in /Users/Rolf/anaconda3/lib/python3.7/site-packages (from aif360) (1.0.3)\n",
      "Requirement already satisfied: pyparsing!=2.0.4,!=2.1.2,!=2.1.6,>=2.0.1 in /Users/Rolf/anaconda3/lib/python3.7/site-packages (from matplotlib->aif360) (2.4.0)\n",
      "Requirement already satisfied: cycler>=0.10 in /Users/Rolf/anaconda3/lib/python3.7/site-packages (from matplotlib->aif360) (0.10.0)\n",
      "Requirement already satisfied: kiwisolver>=1.0.1 in /Users/Rolf/anaconda3/lib/python3.7/site-packages (from matplotlib->aif360) (1.1.0)\n",
      "Requirement already satisfied: python-dateutil>=2.1 in /Users/Rolf/anaconda3/lib/python3.7/site-packages (from matplotlib->aif360) (2.8.0)\n",
      "Requirement already satisfied: joblib>=0.11 in /Users/Rolf/anaconda3/lib/python3.7/site-packages (from scikit-learn>=0.21->aif360) (0.13.2)\n",
      "Requirement already satisfied: threadpoolctl>=2.0.0 in /Users/Rolf/anaconda3/lib/python3.7/site-packages (from scikit-learn>=0.21->aif360) (2.1.0)\n",
      "Requirement already satisfied: pytz>=2017.2 in /Users/Rolf/anaconda3/lib/python3.7/site-packages (from pandas>=0.24.0->aif360) (2019.1)\n",
      "Requirement already satisfied: six in /Users/Rolf/anaconda3/lib/python3.7/site-packages (from cycler>=0.10->matplotlib->aif360) (1.12.0)\n",
      "Requirement already satisfied: setuptools in /Users/Rolf/anaconda3/lib/python3.7/site-packages (from kiwisolver>=1.0.1->matplotlib->aif360) (41.0.1)\n",
      "Note: you may need to restart the kernel to use updated packages.\n"
     ]
    }
   ],
   "source": [
    "%pip install aif360"
   ]
  },
  {
   "cell_type": "code",
   "execution_count": 119,
   "metadata": {},
   "outputs": [],
   "source": [
    "from aif360.algorithms.preprocessing import DisparateImpactRemover\n",
    "from aif360.datasets import BinaryLabelDataset\n",
    "from aif360.metrics import BinaryLabelDatasetMetric\n",
    "from numba.core.decorators import jit"
   ]
  },
  {
   "cell_type": "code",
   "execution_count": 122,
   "metadata": {},
   "outputs": [],
   "source": [
    "train_BLD = BinaryLabelDataset(favorable_label='1',\n",
    "                                unfavorable_label='0',\n",
    "                                df=train,\n",
    "                                label_names=['default'],\n",
    "                                protected_attribute_names=['minority'],\n",
    "                                unprivileged_protected_attributes=['1'])\n",
    "test_BLD = BinaryLabelDataset(favorable_label='1',\n",
    "                                unfavorable_label='0',\n",
    "                                df=test,\n",
    "                                label_names=['default'],\n",
    "                                protected_attribute_names=['minority'],\n",
    "                                unprivileged_protected_attributes=['1'])"
   ]
  },
  {
   "cell_type": "code",
   "execution_count": 125,
   "metadata": {},
   "outputs": [],
   "source": [
    "di = DisparateImpactRemover(repair_level=1.0)\n",
    "rp_train = di.fit_transform(train_BLD)\n",
    "rp_test = di.fit_transform(test_BLD)"
   ]
  },
  {
   "cell_type": "code",
   "execution_count": 146,
   "metadata": {},
   "outputs": [
    {
     "data": {
      "text/plain": [
       "['minority',\n",
       " 'sex',\n",
       " 'ZIP',\n",
       " 'rent',\n",
       " 'education',\n",
       " 'age',\n",
       " 'income',\n",
       " 'loan_size',\n",
       " 'payment_timing',\n",
       " 'year',\n",
       " 'job_stability',\n",
       " 'occupation']"
      ]
     },
     "execution_count": 146,
     "metadata": {},
     "output_type": "execute_result"
    }
   ],
   "source": [
    "#minority and sex need to be dropped\n",
    "train_BLD.feature_names"
   ]
  },
  {
   "cell_type": "code",
   "execution_count": 166,
   "metadata": {},
   "outputs": [
    {
     "data": {
      "text/plain": [
       "array([1.00000000e+00, 1.00000000e+00, 5.71446379e+01, 3.60509266e+01,\n",
       "       2.04987077e+05, 7.57872674e+03, 3.29863349e+00, 0.00000000e+00,\n",
       "       3.01555352e+00, 0.00000000e+00])"
      ]
     },
     "execution_count": 166,
     "metadata": {},
     "output_type": "execute_result"
    }
   ],
   "source": [
    "rp_train.features[0, 2:]"
   ]
  },
  {
   "cell_type": "code",
   "execution_count": 184,
   "metadata": {},
   "outputs": [
    {
     "data": {
      "text/plain": [
       "array([[1.],\n",
       "       [1.],\n",
       "       [1.],\n",
       "       ...,\n",
       "       [0.],\n",
       "       [0.],\n",
       "       [0.]])"
      ]
     },
     "execution_count": 184,
     "metadata": {},
     "output_type": "execute_result"
    }
   ],
   "source": [
    "rp_train.labels"
   ]
  },
  {
   "cell_type": "code",
   "execution_count": 185,
   "metadata": {
    "collapsed": true
   },
   "outputs": [
    {
     "name": "stdout",
     "output_type": "stream",
     "text": [
      "Epoch 1/100\n",
      " - 2s - loss: 902.3524 - accuracy: 0.4996\n",
      "Epoch 2/100\n",
      " - 1s - loss: 6.2523 - accuracy: 0.4991\n",
      "Epoch 3/100\n",
      " - 1s - loss: 1.5655 - accuracy: 0.5002\n",
      "Epoch 4/100\n",
      " - 1s - loss: 1.1936 - accuracy: 0.4992\n",
      "Epoch 5/100\n",
      " - 1s - loss: 1.0759 - accuracy: 0.4982\n",
      "Epoch 6/100\n",
      " - 1s - loss: 0.8810 - accuracy: 0.4990\n",
      "Epoch 7/100\n",
      " - 1s - loss: 0.8730 - accuracy: 0.4999\n",
      "Epoch 8/100\n",
      " - 1s - loss: 0.8091 - accuracy: 0.4992\n",
      "Epoch 9/100\n",
      " - 2s - loss: 0.8192 - accuracy: 0.5007\n",
      "Epoch 10/100\n",
      " - 1s - loss: 0.7707 - accuracy: 0.4998\n",
      "Epoch 11/100\n",
      " - 1s - loss: 0.7420 - accuracy: 0.5008\n",
      "Epoch 12/100\n",
      " - 1s - loss: 0.7582 - accuracy: 0.4992\n",
      "Epoch 13/100\n",
      " - 1s - loss: 0.7508 - accuracy: 0.4994\n",
      "Epoch 14/100\n",
      " - 1s - loss: 0.7255 - accuracy: 0.5000\n",
      "Epoch 15/100\n",
      " - 2s - loss: 0.7132 - accuracy: 0.4999\n",
      "Epoch 16/100\n",
      " - 2s - loss: 0.7204 - accuracy: 0.4988\n",
      "Epoch 17/100\n",
      " - 2s - loss: 0.7078 - accuracy: 0.4995\n",
      "Epoch 18/100\n",
      " - 2s - loss: 0.6987 - accuracy: 0.4993\n",
      "Epoch 19/100\n",
      " - 1s - loss: 0.6970 - accuracy: 0.4998\n",
      "Epoch 20/100\n",
      " - 1s - loss: 0.7175 - accuracy: 0.4998\n",
      "Epoch 21/100\n",
      " - 1s - loss: 0.6940 - accuracy: 0.5001\n",
      "Epoch 22/100\n",
      " - 1s - loss: 0.7009 - accuracy: 0.4997\n",
      "Epoch 23/100\n",
      " - 1s - loss: 0.6934 - accuracy: 0.5005\n",
      "Epoch 24/100\n",
      " - 1s - loss: 0.6939 - accuracy: 0.4996\n",
      "Epoch 25/100\n",
      " - 1s - loss: 0.6978 - accuracy: 0.5010\n",
      "Epoch 26/100\n",
      " - 1s - loss: 0.7052 - accuracy: 0.5006\n"
     ]
    },
    {
     "data": {
      "text/plain": [
       "<keras.callbacks.callbacks.History at 0x152e3a358>"
      ]
     },
     "execution_count": 185,
     "metadata": {},
     "output_type": "execute_result"
    }
   ],
   "source": [
    "#no bias\n",
    "FNN_rp = create_model(rp_train.features[:, 2:])\n",
    "FNN_rp.fit(rp_train.features[:, 2:], rp_train.labels, epochs=100, batch_size=1000, shuffle=True, verbose=2, callbacks=[es_callback])"
   ]
  },
  {
   "cell_type": "code",
   "execution_count": 187,
   "metadata": {},
   "outputs": [],
   "source": [
    "di_preds = FNN_rp.predict(rp_test.features[:, 2:])"
   ]
  },
  {
   "cell_type": "code",
   "execution_count": 188,
   "metadata": {},
   "outputs": [
    {
     "data": {
      "text/html": [
       "<div>\n",
       "<style scoped>\n",
       "    .dataframe tbody tr th:only-of-type {\n",
       "        vertical-align: middle;\n",
       "    }\n",
       "\n",
       "    .dataframe tbody tr th {\n",
       "        vertical-align: top;\n",
       "    }\n",
       "\n",
       "    .dataframe thead th {\n",
       "        text-align: right;\n",
       "    }\n",
       "</style>\n",
       "<table border=\"1\" class=\"dataframe\">\n",
       "  <thead>\n",
       "    <tr style=\"text-align: right;\">\n",
       "      <th></th>\n",
       "      <th>minority</th>\n",
       "      <th>preds</th>\n",
       "    </tr>\n",
       "  </thead>\n",
       "  <tbody>\n",
       "    <tr>\n",
       "      <th>0</th>\n",
       "      <td>1.0</td>\n",
       "      <td>0.501868</td>\n",
       "    </tr>\n",
       "    <tr>\n",
       "      <th>1</th>\n",
       "      <td>0.0</td>\n",
       "      <td>0.501868</td>\n",
       "    </tr>\n",
       "    <tr>\n",
       "      <th>2</th>\n",
       "      <td>0.0</td>\n",
       "      <td>0.501868</td>\n",
       "    </tr>\n",
       "    <tr>\n",
       "      <th>3</th>\n",
       "      <td>1.0</td>\n",
       "      <td>0.501868</td>\n",
       "    </tr>\n",
       "    <tr>\n",
       "      <th>4</th>\n",
       "      <td>1.0</td>\n",
       "      <td>0.501868</td>\n",
       "    </tr>\n",
       "  </tbody>\n",
       "</table>\n",
       "</div>"
      ],
      "text/plain": [
       "   minority     preds\n",
       "0       1.0  0.501868\n",
       "1       0.0  0.501868\n",
       "2       0.0  0.501868\n",
       "3       1.0  0.501868\n",
       "4       1.0  0.501868"
      ]
     },
     "execution_count": 188,
     "metadata": {},
     "output_type": "execute_result"
    }
   ],
   "source": [
    "di_pred_np = np.concatenate((test[['minority']],\n",
    "                                di_preds), \n",
    "                                axis=1)\n",
    "di_pred_df = pd.DataFrame(di_pred_np, columns=['minority', 'preds'])\n",
    "di_pred_df.head()"
   ]
  },
  {
   "cell_type": "code",
   "execution_count": 183,
   "metadata": {},
   "outputs": [
    {
     "data": {
      "text/plain": [
       "array([[0.500161],\n",
       "       [0.500161],\n",
       "       [0.500161],\n",
       "       ...,\n",
       "       [0.500161],\n",
       "       [0.500161],\n",
       "       [0.500161]], dtype=float32)"
      ]
     },
     "execution_count": 183,
     "metadata": {},
     "output_type": "execute_result"
    }
   ],
   "source": [
    "di_preds"
   ]
  },
  {
   "cell_type": "code",
   "execution_count": 189,
   "metadata": {},
   "outputs": [
    {
     "name": "stdout",
     "output_type": "stream",
     "text": [
      "0.0\n"
     ]
    }
   ],
   "source": [
    "di_lr_pr_unpriv = calc_prop(di_pred_df,\"minority\",0,\"preds\",1)\n",
    "print(di_lr_pr_unpriv)"
   ]
  },
  {
   "cell_type": "code",
   "execution_count": 177,
   "metadata": {},
   "outputs": [
    {
     "name": "stdout",
     "output_type": "stream",
     "text": [
      "0.0\n"
     ]
    }
   ],
   "source": [
    "di_lr_pr_priv = calc_prop(di_pred_df,\"minority\",1,\"preds\",1)\n",
    "print(di_lr_pr_priv)"
   ]
  },
  {
   "cell_type": "code",
   "execution_count": null,
   "metadata": {},
   "outputs": [],
   "source": []
  },
  {
   "cell_type": "code",
   "execution_count": null,
   "metadata": {},
   "outputs": [],
   "source": []
  }
 ],
 "metadata": {
  "kernelspec": {
   "display_name": "Python 3",
   "language": "python",
   "name": "python3"
  },
  "language_info": {
   "codemirror_mode": {
    "name": "ipython",
    "version": 3
   },
   "file_extension": ".py",
   "mimetype": "text/x-python",
   "name": "python",
   "nbconvert_exporter": "python",
   "pygments_lexer": "ipython3",
   "version": "3.7.3"
  }
 },
 "nbformat": 4,
 "nbformat_minor": 2
}
