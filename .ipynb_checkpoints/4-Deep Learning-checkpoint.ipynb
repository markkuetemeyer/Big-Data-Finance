{
 "cells": [
  {
   "cell_type": "markdown",
   "metadata": {},
   "source": [
    "# Deep learning model and correction of bias"
   ]
  },
  {
   "cell_type": "markdown",
   "metadata": {},
   "source": [
    "Hypothesis: removing variables ZIP, rent, job_stability and occupation reduces bias against minority in model. "
   ]
  },
  {
   "cell_type": "markdown",
   "metadata": {},
   "source": [
    "Removing variables rent, ZIP, occupation and job_stability removes bias from model according to demographic parity, equal opportunity and equalised odds measurements."
   ]
  },
  {
   "cell_type": "code",
   "execution_count": 136,
   "metadata": {},
   "outputs": [],
   "source": [
    "import numpy as np\n",
    "import pandas as pd\n",
    "import seaborn as sns\n",
    "\n",
    "from sklearn.metrics import classification_report\n",
    "from sklearn.metrics import accuracy_score\n",
    "from sklearn.preprocessing import StandardScaler\n",
    "from  sklearn.linear_model import LogisticRegression\n"
   ]
  },
  {
   "cell_type": "code",
   "execution_count": 137,
   "metadata": {},
   "outputs": [],
   "source": [
    "seed = 123\n",
    "np.random.seed(seed)"
   ]
  },
  {
   "cell_type": "code",
   "execution_count": 138,
   "metadata": {},
   "outputs": [
    {
     "name": "stdout",
     "output_type": "stream",
     "text": [
      "train shape: (471136, 13)\n"
     ]
    },
    {
     "data": {
      "text/html": [
       "<div>\n",
       "<style scoped>\n",
       "    .dataframe tbody tr th:only-of-type {\n",
       "        vertical-align: middle;\n",
       "    }\n",
       "\n",
       "    .dataframe tbody tr th {\n",
       "        vertical-align: top;\n",
       "    }\n",
       "\n",
       "    .dataframe thead th {\n",
       "        text-align: right;\n",
       "    }\n",
       "</style>\n",
       "<table border=\"1\" class=\"dataframe\">\n",
       "  <thead>\n",
       "    <tr style=\"text-align: right;\">\n",
       "      <th></th>\n",
       "      <th>minority</th>\n",
       "      <th>sex</th>\n",
       "      <th>ZIP</th>\n",
       "      <th>rent</th>\n",
       "      <th>education</th>\n",
       "      <th>age</th>\n",
       "      <th>income</th>\n",
       "      <th>loan_size</th>\n",
       "      <th>payment_timing</th>\n",
       "      <th>year</th>\n",
       "      <th>job_stability</th>\n",
       "      <th>occupation</th>\n",
       "      <th>default</th>\n",
       "    </tr>\n",
       "  </thead>\n",
       "  <tbody>\n",
       "    <tr>\n",
       "      <th>0</th>\n",
       "      <td>1</td>\n",
       "      <td>0</td>\n",
       "      <td>1</td>\n",
       "      <td>1</td>\n",
       "      <td>57.230650</td>\n",
       "      <td>36.050927</td>\n",
       "      <td>205168.022244</td>\n",
       "      <td>7600.292199</td>\n",
       "      <td>3.302193</td>\n",
       "      <td>0</td>\n",
       "      <td>3.015554</td>\n",
       "      <td>1</td>\n",
       "      <td>1</td>\n",
       "    </tr>\n",
       "    <tr>\n",
       "      <th>1</th>\n",
       "      <td>1</td>\n",
       "      <td>0</td>\n",
       "      <td>1</td>\n",
       "      <td>1</td>\n",
       "      <td>45.891343</td>\n",
       "      <td>59.525251</td>\n",
       "      <td>187530.409981</td>\n",
       "      <td>5534.271289</td>\n",
       "      <td>3.843058</td>\n",
       "      <td>0</td>\n",
       "      <td>5.938132</td>\n",
       "      <td>1</td>\n",
       "      <td>1</td>\n",
       "    </tr>\n",
       "    <tr>\n",
       "      <th>2</th>\n",
       "      <td>1</td>\n",
       "      <td>0</td>\n",
       "      <td>1</td>\n",
       "      <td>1</td>\n",
       "      <td>46.775489</td>\n",
       "      <td>67.338108</td>\n",
       "      <td>196912.006690</td>\n",
       "      <td>2009.903438</td>\n",
       "      <td>2.059034</td>\n",
       "      <td>0</td>\n",
       "      <td>2.190777</td>\n",
       "      <td>1</td>\n",
       "      <td>1</td>\n",
       "    </tr>\n",
       "    <tr>\n",
       "      <th>3</th>\n",
       "      <td>1</td>\n",
       "      <td>0</td>\n",
       "      <td>1</td>\n",
       "      <td>1</td>\n",
       "      <td>41.784839</td>\n",
       "      <td>24.067401</td>\n",
       "      <td>132911.650615</td>\n",
       "      <td>3112.280893</td>\n",
       "      <td>3.936169</td>\n",
       "      <td>0</td>\n",
       "      <td>1.725860</td>\n",
       "      <td>1</td>\n",
       "      <td>1</td>\n",
       "    </tr>\n",
       "    <tr>\n",
       "      <th>4</th>\n",
       "      <td>1</td>\n",
       "      <td>0</td>\n",
       "      <td>1</td>\n",
       "      <td>1</td>\n",
       "      <td>41.744838</td>\n",
       "      <td>47.496605</td>\n",
       "      <td>161162.551205</td>\n",
       "      <td>1372.077093</td>\n",
       "      <td>3.709910</td>\n",
       "      <td>0</td>\n",
       "      <td>0.883104</td>\n",
       "      <td>1</td>\n",
       "      <td>1</td>\n",
       "    </tr>\n",
       "  </tbody>\n",
       "</table>\n",
       "</div>"
      ],
      "text/plain": [
       "   minority  sex  ZIP  rent  education        age         income    loan_size  \\\n",
       "0         1    0    1     1  57.230650  36.050927  205168.022244  7600.292199   \n",
       "1         1    0    1     1  45.891343  59.525251  187530.409981  5534.271289   \n",
       "2         1    0    1     1  46.775489  67.338108  196912.006690  2009.903438   \n",
       "3         1    0    1     1  41.784839  24.067401  132911.650615  3112.280893   \n",
       "4         1    0    1     1  41.744838  47.496605  161162.551205  1372.077093   \n",
       "\n",
       "   payment_timing  year  job_stability  occupation  default  \n",
       "0        3.302193     0       3.015554           1        1  \n",
       "1        3.843058     0       5.938132           1        1  \n",
       "2        2.059034     0       2.190777           1        1  \n",
       "3        3.936169     0       1.725860           1        1  \n",
       "4        3.709910     0       0.883104           1        1  "
      ]
     },
     "execution_count": 138,
     "metadata": {},
     "output_type": "execute_result"
    }
   ],
   "source": [
    "#import pre_processed train dataset\n",
    "train = pd.read_csv('train_preprocessed.csv', index_col=0)\n",
    "print('train shape: ' + str(train.shape))\n",
    "train.head()"
   ]
  },
  {
   "cell_type": "code",
   "execution_count": 139,
   "metadata": {},
   "outputs": [
    {
     "name": "stdout",
     "output_type": "stream",
     "text": [
      "test shape: (160000, 13)\n"
     ]
    },
    {
     "data": {
      "text/html": [
       "<div>\n",
       "<style scoped>\n",
       "    .dataframe tbody tr th:only-of-type {\n",
       "        vertical-align: middle;\n",
       "    }\n",
       "\n",
       "    .dataframe tbody tr th {\n",
       "        vertical-align: top;\n",
       "    }\n",
       "\n",
       "    .dataframe thead th {\n",
       "        text-align: right;\n",
       "    }\n",
       "</style>\n",
       "<table border=\"1\" class=\"dataframe\">\n",
       "  <thead>\n",
       "    <tr style=\"text-align: right;\">\n",
       "      <th></th>\n",
       "      <th>minority</th>\n",
       "      <th>sex</th>\n",
       "      <th>ZIP</th>\n",
       "      <th>rent</th>\n",
       "      <th>education</th>\n",
       "      <th>age</th>\n",
       "      <th>income</th>\n",
       "      <th>loan_size</th>\n",
       "      <th>payment_timing</th>\n",
       "      <th>job_stability</th>\n",
       "      <th>year</th>\n",
       "      <th>occupation</th>\n",
       "      <th>default</th>\n",
       "    </tr>\n",
       "  </thead>\n",
       "  <tbody>\n",
       "    <tr>\n",
       "      <th>0</th>\n",
       "      <td>1</td>\n",
       "      <td>0</td>\n",
       "      <td>1</td>\n",
       "      <td>1</td>\n",
       "      <td>51.265723</td>\n",
       "      <td>25.710781</td>\n",
       "      <td>166455.209729</td>\n",
       "      <td>8064.951996</td>\n",
       "      <td>3.874735</td>\n",
       "      <td>43.764963</td>\n",
       "      <td>30</td>\n",
       "      <td>1</td>\n",
       "      <td>1</td>\n",
       "    </tr>\n",
       "    <tr>\n",
       "      <th>1</th>\n",
       "      <td>0</td>\n",
       "      <td>0</td>\n",
       "      <td>1</td>\n",
       "      <td>0</td>\n",
       "      <td>58.882849</td>\n",
       "      <td>39.689510</td>\n",
       "      <td>216752.885725</td>\n",
       "      <td>7166.701945</td>\n",
       "      <td>3.809001</td>\n",
       "      <td>46.903977</td>\n",
       "      <td>30</td>\n",
       "      <td>0</td>\n",
       "      <td>0</td>\n",
       "    </tr>\n",
       "    <tr>\n",
       "      <th>2</th>\n",
       "      <td>0</td>\n",
       "      <td>0</td>\n",
       "      <td>1</td>\n",
       "      <td>0</td>\n",
       "      <td>56.504545</td>\n",
       "      <td>25.847324</td>\n",
       "      <td>183764.480788</td>\n",
       "      <td>3322.045258</td>\n",
       "      <td>3.497214</td>\n",
       "      <td>63.453467</td>\n",
       "      <td>30</td>\n",
       "      <td>0</td>\n",
       "      <td>0</td>\n",
       "    </tr>\n",
       "    <tr>\n",
       "      <th>3</th>\n",
       "      <td>1</td>\n",
       "      <td>0</td>\n",
       "      <td>1</td>\n",
       "      <td>1</td>\n",
       "      <td>47.074111</td>\n",
       "      <td>26.381109</td>\n",
       "      <td>154057.004978</td>\n",
       "      <td>15.223904</td>\n",
       "      <td>3.535370</td>\n",
       "      <td>56.243840</td>\n",
       "      <td>30</td>\n",
       "      <td>1</td>\n",
       "      <td>0</td>\n",
       "    </tr>\n",
       "    <tr>\n",
       "      <th>4</th>\n",
       "      <td>1</td>\n",
       "      <td>0</td>\n",
       "      <td>1</td>\n",
       "      <td>1</td>\n",
       "      <td>48.916960</td>\n",
       "      <td>18.779902</td>\n",
       "      <td>143463.038107</td>\n",
       "      <td>7860.534547</td>\n",
       "      <td>3.663330</td>\n",
       "      <td>49.884194</td>\n",
       "      <td>30</td>\n",
       "      <td>1</td>\n",
       "      <td>0</td>\n",
       "    </tr>\n",
       "  </tbody>\n",
       "</table>\n",
       "</div>"
      ],
      "text/plain": [
       "   minority  sex  ZIP  rent  education        age         income    loan_size  \\\n",
       "0         1    0    1     1  51.265723  25.710781  166455.209729  8064.951996   \n",
       "1         0    0    1     0  58.882849  39.689510  216752.885725  7166.701945   \n",
       "2         0    0    1     0  56.504545  25.847324  183764.480788  3322.045258   \n",
       "3         1    0    1     1  47.074111  26.381109  154057.004978    15.223904   \n",
       "4         1    0    1     1  48.916960  18.779902  143463.038107  7860.534547   \n",
       "\n",
       "   payment_timing  job_stability  year  occupation  default  \n",
       "0        3.874735      43.764963    30           1        1  \n",
       "1        3.809001      46.903977    30           0        0  \n",
       "2        3.497214      63.453467    30           0        0  \n",
       "3        3.535370      56.243840    30           1        0  \n",
       "4        3.663330      49.884194    30           1        0  "
      ]
     },
     "execution_count": 139,
     "metadata": {},
     "output_type": "execute_result"
    }
   ],
   "source": [
    "#import pre_processed test dataset\n",
    "test = pd.read_csv('test_preprocessed.csv', index_col=0)\n",
    "print('test shape: ' + str(test.shape))\n",
    "test.head()"
   ]
  },
  {
   "cell_type": "code",
   "execution_count": 140,
   "metadata": {},
   "outputs": [],
   "source": [
    "#train dataset\n",
    "X_tr_nob = train.drop(['default', 'minority', 'rent', 'job_stability', 'occupation', 'sex', 'ZIP'], axis=1)\n",
    "X_tr_bias = train.drop(['default', 'minority', 'sex'], axis=1)\n",
    "y_train= train['default']\n",
    "\n",
    "#test dataset\n",
    "X_te_nob = test.drop(['default', 'minority', 'rent', 'job_stability', 'occupation', 'sex', 'ZIP'], axis=1)\n",
    "X_te_bias = test.drop(['default', 'minority', 'sex'], axis=1)\n",
    "y_test = test['default']"
   ]
  },
  {
   "cell_type": "code",
   "execution_count": 141,
   "metadata": {},
   "outputs": [],
   "source": [
    "from sklearn.preprocessing import StandardScaler\n",
    "\n",
    "#Scale X train/test bias\n",
    "scaler = StandardScaler()\n",
    "X_fit_bias = scaler.fit(X_tr_bias)\n",
    "\n",
    "X_train_bias = X_fit_bias.transform(X_tr_bias)\n",
    "X_test_bias = X_fit_bias.transform(X_te_bias)\n",
    "\n",
    "#Scale X train/test no bias\n",
    "scaler = StandardScaler()\n",
    "X_fit_nob = scaler.fit(X_tr_nob)\n",
    "\n",
    "X_train_nob = X_fit_nob.transform(X_tr_nob)\n",
    "X_test_nob = X_fit_nob.transform(X_te_nob)"
   ]
  },
  {
   "cell_type": "markdown",
   "metadata": {},
   "source": [
    "# Linear classification: Base Model"
   ]
  },
  {
   "cell_type": "code",
   "execution_count": 163,
   "metadata": {},
   "outputs": [
    {
     "name": "stdout",
     "output_type": "stream",
     "text": [
      "Accuracy with bias: 37.01%\n",
      "Accuracy with no bias: 41.49%\n"
     ]
    }
   ],
   "source": [
    "#linear classification\n",
    "from  sklearn.linear_model import LogisticRegression\n",
    "from sklearn.metrics import accuracy_score\n",
    "\n",
    "#bias\n",
    "lr_bias = LogisticRegression(solver='lbfgs')\n",
    "lr_bias.fit(X_train_bias, y_train)\n",
    "\n",
    "y_pred_lr_bias = lr_bias.predict(X_test_bias)\n",
    "accuracy_lr_bias = accuracy_score(y_pred_lr_bias, y_test)\n",
    "\n",
    "\n",
    "#no bias\n",
    "lr_nob = LogisticRegression(solver='lbfgs')\n",
    "lr_nob.fit(X_train_nob, y_train)\n",
    "\n",
    "y_pred_lr_nob = lr_nob.predict(X_test_nob)\n",
    "accuracy_lr_nob = accuracy_score(y_pred_lr_nob, y_test)\n",
    "\n",
    "#print accuracy\n",
    "print('Accuracy with bias: ' + str(round(accuracy_lr_bias*100,2)) + '%')\n",
    "print('Accuracy with no bias: ' + str(round(accuracy_lr_nob*100,2)) + '%')"
   ]
  },
  {
   "cell_type": "code",
   "execution_count": 164,
   "metadata": {},
   "outputs": [
    {
     "name": "stdout",
     "output_type": "stream",
     "text": [
      "              precision    recall  f1-score   support\n",
      "\n",
      "           0       0.82      0.33      0.47    136055\n",
      "           1       0.13      0.58      0.22     23945\n",
      "\n",
      "    accuracy                           0.37    160000\n",
      "   macro avg       0.48      0.46      0.34    160000\n",
      "weighted avg       0.72      0.37      0.44    160000\n",
      "\n"
     ]
    }
   ],
   "source": [
    "#print classification report - BIAS\n",
    "print(classification_report(y_test, y_pred_lr_bias))"
   ]
  },
  {
   "cell_type": "code",
   "execution_count": 166,
   "metadata": {},
   "outputs": [
    {
     "name": "stdout",
     "output_type": "stream",
     "text": [
      "              precision    recall  f1-score   support\n",
      "\n",
      "           0       0.84      0.38      0.53    136055\n",
      "           1       0.14      0.59      0.23     23945\n",
      "\n",
      "    accuracy                           0.41    160000\n",
      "   macro avg       0.49      0.49      0.38    160000\n",
      "weighted avg       0.74      0.41      0.48    160000\n",
      "\n"
     ]
    }
   ],
   "source": [
    "#print classification report - NO BIAS\n",
    "print(classification_report(y_test, y_pred_lr_nob))"
   ]
  },
  {
   "cell_type": "code",
   "execution_count": 167,
   "metadata": {},
   "outputs": [
    {
     "data": {
      "text/plain": [
       "array([[52267, 83788],\n",
       "       [ 9835, 14110]])"
      ]
     },
     "execution_count": 167,
     "metadata": {},
     "output_type": "execute_result"
    }
   ],
   "source": [
    "confusion_matrix(y_test, y_pred_lr_nob)"
   ]
  },
  {
   "cell_type": "markdown",
   "metadata": {},
   "source": [
    "# Deep Learning"
   ]
  },
  {
   "cell_type": "code",
   "execution_count": 145,
   "metadata": {},
   "outputs": [],
   "source": [
    "import keras\n",
    "from keras.models import Sequential\n",
    "from keras.layers import Activation, Dense, Dropout\n",
    "from sklearn.utils import class_weight\n",
    "from sklearn.metrics import confusion_matrix"
   ]
  },
  {
   "cell_type": "code",
   "execution_count": 146,
   "metadata": {
    "collapsed": true
   },
   "outputs": [
    {
     "name": "stderr",
     "output_type": "stream",
     "text": [
      "/Users/Rolf/anaconda3/lib/python3.7/site-packages/sklearn/utils/validation.py:71: FutureWarning: Pass classes=[0 1], y=0       1\n",
      "1       1\n",
      "2       1\n",
      "3       1\n",
      "4       1\n",
      "       ..\n",
      "7995    0\n",
      "7996    0\n",
      "7997    0\n",
      "7998    0\n",
      "7999    0\n",
      "Name: default, Length: 471136, dtype: int64 as keyword args. From version 0.25 passing these as positional arguments will result in an error\n",
      "  FutureWarning)\n"
     ]
    }
   ],
   "source": [
    "#stop if no improvement in loss after 3 epochs\n",
    "es_callback = keras.callbacks.EarlyStopping(monitor='loss', patience=3)\n",
    "\n",
    "#class weight\n",
    "from sklearn.utils import class_weight\n",
    "class_weights = class_weight.compute_class_weight('balanced',\n",
    "                                                 np.unique(y_train),\n",
    "                                                 y_train)"
   ]
  },
  {
   "cell_type": "code",
   "execution_count": 147,
   "metadata": {},
   "outputs": [],
   "source": [
    "def create_model(df):\n",
    "    ## Initialize model.\n",
    "    model = Sequential() #if you want a recurrent NN, then specify here Recurrent()\n",
    "\n",
    "    ## 1st Layer\n",
    "    model.add(Dense(64, input_dim=df.shape[1]))\n",
    "    model.add(Activation('relu'))\n",
    "    model.add(Dropout(0.5)) #25% of neurons are de-activated randomly per batch. helps with generalisation.\n",
    "\n",
    "    ## 2nd Layer\n",
    "    model.add(Dense(32))\n",
    "    model.add(Activation('relu'))\n",
    "    model.add(Dropout(0.5)) #dropout number is arbitrary. trail and error. \n",
    "\n",
    "    ## Adding Softmax Layer\n",
    "    model.add(Dense(1))\n",
    "    model.add(Activation('sigmoid')) #softmax used for classification. softmax = [0,1]\n",
    "\n",
    "    ## Define loss function\n",
    "    model.compile(loss='binary_crossentropy', optimizer='adam', metrics=['accuracy'], weighted_metrics=['accuracy'])\n",
    "\n",
    "    return model"
   ]
  },
  {
   "cell_type": "markdown",
   "metadata": {},
   "source": [
    "K-fold validation from this website:\n",
    "\n",
    "https://machinelearningmastery.com/evaluate-performance-deep-learning-models-keras/"
   ]
  },
  {
   "cell_type": "code",
   "execution_count": 179,
   "metadata": {},
   "outputs": [],
   "source": [
    "#Cross-validation\n",
    "from sklearn.model_selection import StratifiedKFold\n",
    "\n",
    "# define 10-fold cross validation test harness\n",
    "kfold = StratifiedKFold(n_splits=5, shuffle=True, random_state=seed)\n",
    "\n",
    "def kfold_validation(X, y):\n",
    "\n",
    "    X_df = pd.DataFrame(X)\n",
    "    cvscores = []\n",
    "    \n",
    "    for train, test in kfold.split(X_df, y):\n",
    "        model = create_model(X_df)\n",
    "        model.fit(X_df.iloc[train], y.iloc[train], epochs=100, batch_size=1000, shuffle=True, verbose=0, \n",
    "                  callbacks=[es_callback], class_weight=class_weights)\n",
    "        scores = model.evaluate(X_df.iloc[test], y.iloc[test], verbose=0)\n",
    "        \n",
    "        print(\"%s: %.2f%%\" % (model.metrics_names[1], scores[1]*100))\n",
    "        cvscores.append(scores[1] * 100)\n",
    "        \n",
    "    print(\"%.2f%% (+/- %.2f%%)\" % (np.mean(cvscores), np.std(cvscores)))\n",
    "    \n",
    "    return model"
   ]
  },
  {
   "cell_type": "markdown",
   "metadata": {},
   "source": [
    "## Model with BIAS"
   ]
  },
  {
   "cell_type": "code",
   "execution_count": 180,
   "metadata": {},
   "outputs": [
    {
     "name": "stdout",
     "output_type": "stream",
     "text": [
      "accuracy: 99.98%\n",
      "accuracy: 99.98%\n",
      "accuracy: 99.98%\n",
      "accuracy: 99.99%\n",
      "accuracy: 99.99%\n",
      "99.98% (+/- 0.00%)\n"
     ]
    }
   ],
   "source": [
    "FNN_bias = kfold_validation(X_train_bias, y_train)"
   ]
  },
  {
   "cell_type": "code",
   "execution_count": 198,
   "metadata": {
    "collapsed": true
   },
   "outputs": [
    {
     "name": "stdout",
     "output_type": "stream",
     "text": [
      "Epoch 1/100\n",
      " - 2s - loss: 0.0638 - accuracy: 0.9785 - accuracy_1: 0.9785\n",
      "Epoch 2/100\n",
      " - 2s - loss: 0.0037 - accuracy: 0.9996 - accuracy_1: 0.9996\n",
      "Epoch 3/100\n",
      " - 1s - loss: 0.0029 - accuracy: 0.9997 - accuracy_1: 0.9997\n",
      "Epoch 4/100\n",
      " - 2s - loss: 0.0025 - accuracy: 0.9998 - accuracy_1: 0.9998\n",
      "Epoch 5/100\n",
      " - 2s - loss: 0.0022 - accuracy: 0.9998 - accuracy_1: 0.9998\n",
      "Epoch 6/100\n",
      " - 2s - loss: 0.0022 - accuracy: 0.9998 - accuracy_1: 0.9998\n",
      "Epoch 7/100\n",
      " - 2s - loss: 0.0019 - accuracy: 0.9998 - accuracy_1: 0.9998\n",
      "Epoch 8/100\n",
      " - 2s - loss: 0.0019 - accuracy: 0.9998 - accuracy_1: 0.9998\n",
      "Epoch 9/100\n",
      " - 2s - loss: 0.0017 - accuracy: 0.9998 - accuracy_1: 0.9998\n",
      "Epoch 10/100\n",
      " - 2s - loss: 0.0019 - accuracy: 0.9998 - accuracy_1: 0.9998\n",
      "Epoch 11/100\n",
      " - 2s - loss: 0.0018 - accuracy: 0.9998 - accuracy_1: 0.9998\n",
      "Epoch 12/100\n",
      " - 2s - loss: 0.0017 - accuracy: 0.9998 - accuracy_1: 0.9998\n",
      "Epoch 13/100\n",
      " - 2s - loss: 0.0017 - accuracy: 0.9998 - accuracy_1: 0.9998\n",
      "Epoch 14/100\n",
      " - 2s - loss: 0.0017 - accuracy: 0.9997 - accuracy_1: 0.9997\n",
      "Epoch 15/100\n",
      " - 2s - loss: 0.0016 - accuracy: 0.9997 - accuracy_1: 0.9997\n",
      "Epoch 16/100\n",
      " - 2s - loss: 0.0017 - accuracy: 0.9997 - accuracy_1: 0.9997\n",
      "Epoch 17/100\n",
      " - 2s - loss: 0.0016 - accuracy: 0.9997 - accuracy_1: 0.9997\n",
      "Epoch 18/100\n",
      " - 2s - loss: 0.0017 - accuracy: 0.9997 - accuracy_1: 0.9997\n",
      "Epoch 19/100\n",
      " - 2s - loss: 0.0016 - accuracy: 0.9997 - accuracy_1: 0.9997\n",
      "Epoch 20/100\n",
      " - 1s - loss: 0.0017 - accuracy: 0.9997 - accuracy_1: 0.9997\n",
      "Epoch 21/100\n",
      " - 1s - loss: 0.0015 - accuracy: 0.9997 - accuracy_1: 0.9997\n",
      "Epoch 22/100\n",
      " - 2s - loss: 0.0016 - accuracy: 0.9997 - accuracy_1: 0.9997\n",
      "Epoch 23/100\n",
      " - 1s - loss: 0.0015 - accuracy: 0.9997 - accuracy_1: 0.9997\n",
      "Epoch 24/100\n",
      " - 1s - loss: 0.0016 - accuracy: 0.9997 - accuracy_1: 0.9997\n",
      "Epoch 25/100\n",
      " - 1s - loss: 0.0015 - accuracy: 0.9997 - accuracy_1: 0.9997\n",
      "Epoch 26/100\n",
      " - 1s - loss: 0.0015 - accuracy: 0.9997 - accuracy_1: 0.9997\n",
      "Epoch 27/100\n",
      " - 2s - loss: 0.0016 - accuracy: 0.9997 - accuracy_1: 0.9997\n",
      "Epoch 28/100\n",
      " - 2s - loss: 0.0015 - accuracy: 0.9997 - accuracy_1: 0.9997\n"
     ]
    },
    {
     "data": {
      "text/plain": [
       "<keras.callbacks.callbacks.History at 0x15687d8d0>"
      ]
     },
     "execution_count": 198,
     "metadata": {},
     "output_type": "execute_result"
    }
   ],
   "source": [
    "#the kfold model is giving wierd results. \n",
    "#thus, switching to this model\n",
    "#I think issue stems from stratifiedKfold not working, i.e. I'm doing something wrong\n",
    "FNN_bias = create_model(X_train_bias)\n",
    "FNN_bias.fit(X_train_bias, y_train, epochs=100, batch_size=1000, shuffle=True, verbose=2, callbacks=[es_callback],\n",
    "           class_weight=class_weights)"
   ]
  },
  {
   "cell_type": "code",
   "execution_count": 201,
   "metadata": {},
   "outputs": [
    {
     "name": "stdout",
     "output_type": "stream",
     "text": [
      "              precision    recall  f1-score   support\n",
      "\n",
      "           0       0.85      0.47      0.60    136055\n",
      "           1       0.15      0.52      0.23     23945\n",
      "\n",
      "    accuracy                           0.48    160000\n",
      "   macro avg       0.50      0.49      0.42    160000\n",
      "weighted avg       0.74      0.48      0.55    160000\n",
      "\n"
     ]
    }
   ],
   "source": [
    "y_pred_bias = FNN_bias.predict_classes(X_test_bias)\n",
    "\n",
    "print(classification_report(y_test, y_pred_bias))"
   ]
  },
  {
   "cell_type": "markdown",
   "metadata": {},
   "source": [
    "## Model with NO-BIAS"
   ]
  },
  {
   "cell_type": "code",
   "execution_count": 158,
   "metadata": {},
   "outputs": [
    {
     "name": "stdout",
     "output_type": "stream",
     "text": [
      "accuracy: 49.99%\n",
      "accuracy: 50.01%\n",
      "accuracy: 49.97%\n",
      "accuracy: 49.85%\n",
      "accuracy: 50.02%\n",
      "49.97% (+/- 0.06%)\n"
     ]
    }
   ],
   "source": [
    "FNN_nob = kfold_validation(X_train_nob, y_train)"
   ]
  },
  {
   "cell_type": "code",
   "execution_count": 195,
   "metadata": {
    "collapsed": true
   },
   "outputs": [
    {
     "name": "stdout",
     "output_type": "stream",
     "text": [
      "Epoch 1/100\n",
      " - 2s - loss: 0.6975 - accuracy: 0.5010 - accuracy_1: 0.5010\n",
      "Epoch 2/100\n",
      " - 1s - loss: 0.6933 - accuracy: 0.5004 - accuracy_1: 0.5004\n",
      "Epoch 3/100\n",
      " - 1s - loss: 0.6932 - accuracy: 0.5000 - accuracy_1: 0.5000\n",
      "Epoch 4/100\n",
      " - 2s - loss: 0.6932 - accuracy: 0.5000 - accuracy_1: 0.5000\n",
      "Epoch 5/100\n",
      " - 2s - loss: 0.6932 - accuracy: 0.4994 - accuracy_1: 0.4994\n",
      "Epoch 6/100\n",
      " - 1s - loss: 0.6932 - accuracy: 0.5003 - accuracy_1: 0.5003\n",
      "Epoch 7/100\n",
      " - 2s - loss: 0.6932 - accuracy: 0.4996 - accuracy_1: 0.4996\n",
      "Epoch 8/100\n",
      " - 1s - loss: 0.6932 - accuracy: 0.5004 - accuracy_1: 0.5004\n",
      "Epoch 9/100\n",
      " - 2s - loss: 0.6932 - accuracy: 0.4998 - accuracy_1: 0.4998\n",
      "Epoch 10/100\n",
      " - 2s - loss: 0.6932 - accuracy: 0.5000 - accuracy_1: 0.5000\n",
      "Epoch 11/100\n",
      " - 2s - loss: 0.6932 - accuracy: 0.5005 - accuracy_1: 0.5005\n",
      "Epoch 12/100\n",
      " - 2s - loss: 0.6932 - accuracy: 0.5004 - accuracy_1: 0.5004\n"
     ]
    },
    {
     "data": {
      "text/plain": [
       "<keras.callbacks.callbacks.History at 0x129a61f98>"
      ]
     },
     "execution_count": 195,
     "metadata": {},
     "output_type": "execute_result"
    }
   ],
   "source": [
    "#the kfold model is giving wierd results. \n",
    "#thus, switching to this model\n",
    "#I think issue stems from stratifiedKfold not working, i.e. I'm doing something wrong\n",
    "FNN_nob = create_model(X_train_nob)\n",
    "FNN_nob.fit(X_train_nob, y_train, epochs=100, batch_size=1000, shuffle=True, verbose=2, callbacks=[es_callback],\n",
    "           class_weight=class_weights)"
   ]
  },
  {
   "cell_type": "code",
   "execution_count": 196,
   "metadata": {},
   "outputs": [
    {
     "name": "stdout",
     "output_type": "stream",
     "text": [
      "              precision    recall  f1-score   support\n",
      "\n",
      "           0       0.85      0.95      0.90    136055\n",
      "           1       0.15      0.04      0.07     23945\n",
      "\n",
      "    accuracy                           0.82    160000\n",
      "   macro avg       0.50      0.50      0.48    160000\n",
      "weighted avg       0.75      0.82      0.78    160000\n",
      "\n"
     ]
    }
   ],
   "source": [
    "y_pred_nob = FNN_nob.predict_classes(X_test_nob)\n",
    "\n",
    "print(classification_report(y_test, y_pred_nob))"
   ]
  },
  {
   "cell_type": "markdown",
   "metadata": {},
   "source": [
    "# Fairness of model"
   ]
  },
  {
   "cell_type": "code",
   "execution_count": 250,
   "metadata": {},
   "outputs": [],
   "source": [
    "def bias_analysis(X_test_df, y_test_df, df_column_names, model, bias, minority):\n",
    "    \"\"\" \n",
    "    X_test_df = X_test after StandardScaler transformation\n",
    "    y_test_df = y_test \n",
    "    df_columns_names = X_test dataframe before StandardScaler transformation\n",
    "    model = deep learning model\n",
    "    bias = 0 or 1\n",
    "    minority = 0 or 1\n",
    "    \"\"\"\n",
    "    \n",
    "    #join minority variable to X and y dataframes to differentiate between minority and non-minority\n",
    "    X_test_min = np.concatenate((X_test_df, \n",
    "                                 test['minority'].values.reshape(-1,1)), \n",
    "                                axis=1)\n",
    "    y_test_min = np.concatenate((y_test_df.values.reshape(-1,1),\n",
    "                                 test['minority'].values.reshape(-1,1)), \n",
    "                                axis=1)\n",
    "    \n",
    "    #column headings for dataframe that will be converted from array\n",
    "    columns = np.insert(df_column_names.columns, X_test_df.shape[1], 'minority')\n",
    "    \n",
    "    #convert numpy array to dataframe\n",
    "    df_X_test = pd.DataFrame(X_test_min, columns=columns)\n",
    "    df_y_test = pd.DataFrame(y_test_min, columns=['default','minority'])\n",
    "    \n",
    "    #subset minority==1, minority group\n",
    "    X_minority = df_X_test[df_X_test['minority']==minority].values\n",
    "    y_minority = df_y_test[df_y_test['minority']==minority].values\n",
    "    \n",
    "    #predict y\n",
    "    y_pred_minority = model.predict_classes(X_minority[:,:X_test_df.shape[1]])\n",
    "\n",
    "    #evaluate accuracy\n",
    "    loss_dl_min, accuracy_dl_min, accuracy_weighted_dl_min = model.evaluate(X_minority[:,:X_test_df.shape[1]], y_minority[:,0])\n",
    "    \n",
    "    confusion = confusion_matrix(y_minority[:,0], y_pred_minority)\n",
    "    \n",
    "    if bias == 1:\n",
    "        if minority == 1:\n",
    "        \n",
    "            print('Test loss bias minority: ' + str(round(loss_dl_min, 2)))\n",
    "            print('Test accuracy bias minority: ' + str(round(accuracy_dl_min*100, 2)) + '%')\n",
    "\n",
    "            print()\n",
    "\n",
    "            return confusion\n",
    "\n",
    "        else:\n",
    "\n",
    "            print('Test loss bias non-minority: ' + str(round(loss_dl_min, 2)))\n",
    "            print('Test accuracy bias non-minority: ' + str(round(accuracy_dl_min*100, 2)) + '%')\n",
    "\n",
    "            print()\n",
    "\n",
    "            return confusion\n",
    "      \n",
    "    #bias=0\n",
    "    if bias == 0:\n",
    "        if minority == 1:\n",
    "\n",
    "            print('Test loss non-bias minority: ' + str(round(loss_dl_min, 2)))\n",
    "            print('Test accuracy non-bias minority: ' + str(round(accuracy_dl_min*100, 2)) + '%')\n",
    "\n",
    "            print()\n",
    "\n",
    "            return confusion\n",
    "\n",
    "        else:\n",
    "            \n",
    "            print('Test loss non-bias non-minority: ' + str(round(loss_dl_min, 2)))\n",
    "            print('Test accuracy non-bias non-minority: ' + str(round(accuracy_dl_min*100, 2)) + '%')\n",
    "\n",
    "            print()\n",
    "\n",
    "            return confusion\n",
    "        \n",
    "    if bias==2:\n",
    "                    \n",
    "            print('Test loss downsampled non-minority: ' + str(round(loss_dl_min, 2)))\n",
    "            print('Test accuracy downsampled non-minority: ' + str(round(accuracy_dl_min*100, 2)) + '%')\n",
    "\n",
    "            print()\n",
    "\n",
    "            return confusion"
   ]
  },
  {
   "cell_type": "code",
   "execution_count": 246,
   "metadata": {},
   "outputs": [],
   "source": [
    "def bias_check(bias, minority):\n",
    "    \"\"\"\n",
    "    bias = 0 or 1\n",
    "        bias==1 means dataset is biased\n",
    "    minority = 0 or 1\n",
    "        minority==1 means minority is analysed\n",
    "        \n",
    "    bias ==2 \n",
    "        when train dataset has been downsampled\n",
    "\n",
    "    \"\"\"\n",
    "    \n",
    "    if bias == 1:\n",
    "        result = bias_analysis(X_test_bias, y_test, X_te_bias, FNN_bias, bias=bias, minority=minority)\n",
    "        return result\n",
    "    \n",
    "    if bias == 0:\n",
    "        result = bias_analysis(X_test_nob, y_test, X_te_nob, FNN_nob, bias=bias, minority=minority)\n",
    "        return result\n",
    "    \n",
    "    if bias == 2:\n",
    "        result = bias_analysis(X_test_bias, y_test, X_te_bias, FNN_ds, bias=bias, minority=minority)"
   ]
  },
  {
   "cell_type": "markdown",
   "metadata": {},
   "source": [
    "### Calculate confusion martrix"
   ]
  },
  {
   "cell_type": "code",
   "execution_count": 293,
   "metadata": {},
   "outputs": [
    {
     "name": "stdout",
     "output_type": "stream",
     "text": [
      "80348/80348 [==============================] - 2s 20us/step\n",
      "Test loss bias minority: 19.9\n",
      "Test accuracy bias minority: 16.81%\n",
      "\n"
     ]
    }
   ],
   "source": [
    "#confusion matrix for BIAS and Minority\n",
    "confusion_bias_minority = bias_check(bias=1, minority=1)"
   ]
  },
  {
   "cell_type": "code",
   "execution_count": 294,
   "metadata": {},
   "outputs": [
    {
     "name": "stdout",
     "output_type": "stream",
     "text": [
      "79652/79652 [==============================] - 1s 18us/step\n",
      "Test loss bias non-minority: 3.46\n",
      "Test accuracy bias non-minority: 78.87%\n",
      "\n"
     ]
    }
   ],
   "source": [
    "#confusion matrix for BIAS and Non-Minority\n",
    "confusion_bias_non_minority = bias_check(bias=1, minority=0)"
   ]
  },
  {
   "cell_type": "code",
   "execution_count": 207,
   "metadata": {},
   "outputs": [
    {
     "name": "stdout",
     "output_type": "stream",
     "text": [
      "80348/80348 [==============================] - 2s 26us/step\n",
      "Test loss non-bias minority: 0.69\n",
      "Test accuracy non-bias minority: 81.84%\n",
      "\n"
     ]
    }
   ],
   "source": [
    "#confusion matrix for Non-BIAS and Minority\n",
    "confusion_non_bias_minority = bias_check(bias=0, minority=1)"
   ]
  },
  {
   "cell_type": "code",
   "execution_count": 208,
   "metadata": {},
   "outputs": [
    {
     "name": "stdout",
     "output_type": "stream",
     "text": [
      "79652/79652 [==============================] - 2s 24us/step\n",
      "Test loss non-bias non-minority: 0.69\n",
      "Test accuracy non-bias non-minority: 81.86%\n",
      "\n"
     ]
    }
   ],
   "source": [
    "#confusion matrix for Non-Bias and Non-Minority\n",
    "confusion_non_bias_non_minority = bias_check(bias=0, minority=0)"
   ]
  },
  {
   "cell_type": "markdown",
   "metadata": {},
   "source": [
    "# Demographic Parity"
   ]
  },
  {
   "cell_type": "markdown",
   "metadata": {},
   "source": [
    "Really good article explaining fairness measures in ML\n",
    "https://towardsdatascience.com/how-to-define-fairness-to-detect-and-prevent-discriminatory-outcomes-in-machine-learning-ef23fd408ef2"
   ]
  },
  {
   "cell_type": "markdown",
   "metadata": {},
   "source": [
    "Positive rate for both minority and non-minority should be the same. This means that the rate of (false positive + true positive) be similar for both groups. For example, the model should predict a 50% default rate in both minority and non-minority. \n",
    "\n",
    "Overall, demographic parity does not exist for this dataset since 99% default rate is predicted for the minority group and less than 1% for the non-minority group."
   ]
  },
  {
   "cell_type": "markdown",
   "metadata": {},
   "source": [
    "<img src=images/demographic_parity.png>"
   ]
  },
  {
   "cell_type": "code",
   "execution_count": 295,
   "metadata": {},
   "outputs": [],
   "source": [
    "def demographic_parity(result, bias=0, minority=0):\n",
    "    \"\"\"\n",
    "    bias = 0 or 1\n",
    "        bias==1 means dataset is biased\n",
    "    minority = 0 or 1\n",
    "        minority==1 means minority is analysed\n",
    "\n",
    "    \"\"\"\n",
    "    \n",
    "    tn, fp, fn, tp = result.ravel()\n",
    "    #tn, fp, fn, tp = bias_check(bias, minority).ravel()\n",
    "    \n",
    "    temp = (fp + tp) / (tn + fp + fn + tp)\n",
    "    demo_parity = round(temp*100, 2) \n",
    "    \n",
    "    if bias == 1:\n",
    "        if minority == 0:\n",
    "            print('Demographic parity for bias non-minority: ' + str(demo_parity) + '%')\n",
    "\n",
    "        \n",
    "        else: \n",
    "            print('Demographic parity for bias minority: ' + str(demo_parity) + '%')\n",
    "   \n",
    "    if bias == 0:\n",
    "        if minority == 0:\n",
    "            print('Demographic parity for non-bias non-minority: ' + str(demo_parity) + '%')    \n",
    "            \n",
    "        else: \n",
    "            print('Demographic parity for non-bias minority: ' + str(demo_parity) + '%')  \n",
    "            \n",
    "    if bias == 2:\n",
    "        if minority == 0:\n",
    "            print('Demographic parity for downsampled non-minority: ' + str(demo_parity) + '%')    \n",
    "            \n",
    "        else: \n",
    "            print('Demographic parity for downsampled minority: ' + str(demo_parity) + '%')  \n",
    "            "
   ]
  },
  {
   "cell_type": "code",
   "execution_count": 273,
   "metadata": {},
   "outputs": [
    {
     "name": "stdout",
     "output_type": "stream",
     "text": [
      "Demographic parity for bias minority: 96.36%\n",
      "Demographic parity for bias non-minority: 9.03%\n"
     ]
    }
   ],
   "source": [
    "#BIAS\n",
    "demographic_parity(confusion_bias_minority, bias=1, minority=1)\n",
    "demographic_parity(confusion_bias_non_minority, bias=1, minority=0)"
   ]
  },
  {
   "cell_type": "code",
   "execution_count": 274,
   "metadata": {},
   "outputs": [
    {
     "name": "stdout",
     "output_type": "stream",
     "text": [
      "Demographic parity for non-bias minority: 4.48%\n",
      "Demographic parity for non-bias non-minority: 4.55%\n"
     ]
    }
   ],
   "source": [
    "#Non-BIAS\n",
    "demographic_parity(confusion_non_bias_minority, bias=0, minority=1)\n",
    "demographic_parity(confusion_non_bias_non_minority, bias=0, minority=0)"
   ]
  },
  {
   "cell_type": "markdown",
   "metadata": {},
   "source": [
    "# Equal Opportunity"
   ]
  },
  {
   "cell_type": "markdown",
   "metadata": {},
   "source": [
    "The false negative and true positive rate should be the same for both groups. \n",
    "\n",
    "Overall, equal opportunity exists since both groups correctly predict default rate to 100%. "
   ]
  },
  {
   "cell_type": "markdown",
   "metadata": {},
   "source": [
    "<img src=images/equal_opportunity.png>"
   ]
  },
  {
   "cell_type": "code",
   "execution_count": 301,
   "metadata": {},
   "outputs": [],
   "source": [
    "def equal_opportunity(result, bias=0, minority=0):\n",
    "    \"\"\"\n",
    "    bias = 0 or 1\n",
    "        bias==1 means dataset is biased\n",
    "    minority = 0 or 1\n",
    "        minority==1 means minority is analysed\n",
    "\n",
    "    \"\"\"\n",
    "    \n",
    "    tn, fp, fn, tp = result.ravel()\n",
    "    #tn, fp, fn, tp = bias_check(bias, minority).ravel()\n",
    "    \n",
    "    temp = tp / (fn + tp)\n",
    "    equal_opportunity = round(temp*100, 2) \n",
    "    \n",
    "    if bias == 1:\n",
    "        if minority == 0:\n",
    "            print('Equal opportunity for bias non-minority: ' + str(equal_opportunity) + '%')\n",
    "\n",
    "        \n",
    "        else: \n",
    "            print('Equal opportunity for bias minority: ' + str(equal_opportunity) + '%')\n",
    "\n",
    "    \n",
    "    if bias == 0:\n",
    "        if minority == 0:\n",
    "            print('Equal opportunity for non-bias non-minority: ' + str(equal_opportunity) + '%')\n",
    "\n",
    "        \n",
    "        else: \n",
    "            print('Equal opportunity for non-bias minority: ' + str(equal_opportunity) + '%')\n",
    "\n",
    "        \n",
    "    if bias==2:\n",
    "        if minority == 0:\n",
    "            print('Equal opportunity for downsampled non-minority: ' + str(equal_opportunity) + '%')\n",
    "\n",
    "        \n",
    "        else: \n",
    "            print('Equal opportunity for downsampled minority: ' + str(equal_opportunity) + '%')\n"
   ]
  },
  {
   "cell_type": "code",
   "execution_count": 232,
   "metadata": {},
   "outputs": [
    {
     "name": "stdout",
     "output_type": "stream",
     "text": [
      "Equal opportunity for bias minority: 93.82%\n",
      "Equal opportunity for bias non-minority: 9.37%\n"
     ]
    }
   ],
   "source": [
    "#BIAS\n",
    "equal_opportunity(confusion_bias_minority, bias=1, minority=1)\n",
    "equal_opportunity(confusion_bias_non_minority, bias=1, minority=0)"
   ]
  },
  {
   "cell_type": "code",
   "execution_count": 227,
   "metadata": {},
   "outputs": [
    {
     "name": "stdout",
     "output_type": "stream",
     "text": [
      "Equal opportunity for non-bias minority: 4.46%\n",
      "Equal opportunity for non-bias non-minority: 4.42%\n"
     ]
    }
   ],
   "source": [
    "#Non-BIAS\n",
    "equal_opportunity(confusion_non_bias_minority, bias=0, minority=1)\n",
    "equal_opportunity(confusion_non_bias_non_minority, bias=0, minority=0)"
   ]
  },
  {
   "cell_type": "markdown",
   "metadata": {},
   "source": [
    "# Equalised Odds"
   ]
  },
  {
   "cell_type": "markdown",
   "metadata": {},
   "source": [
    "<img src=images/equalised_odds.png>"
   ]
  },
  {
   "cell_type": "code",
   "execution_count": 300,
   "metadata": {},
   "outputs": [],
   "source": [
    "def equalised_odds(result, bias=0, minority=0):\n",
    "    \"\"\"\n",
    "    bias = 0 or 1\n",
    "        bias==1 means dataset is biased\n",
    "    minority = 0 or 1\n",
    "        minority==1 means minority is analysed\n",
    "\n",
    "    \"\"\"\n",
    "    \n",
    "    tn, fp, fn, tp = result.ravel()\n",
    "    #tn, fp, fn, tp = bias_check(bias, minority).ravel()\n",
    "    \n",
    "    temp = tp / (fn + tp)\n",
    "    true_positive_rate = round(temp*100, 2)\n",
    "    \n",
    "    temp = tn / (fp + tn)\n",
    "    true_negative_rate = round(temp*100, 2)\n",
    "    \n",
    "    if bias == 1:\n",
    "        if minority == 0:\n",
    "            print()\n",
    "            print('True positive rate for bias non-minority: ' + str(true_positive_rate) + '%')\n",
    "            print('True negative rate for bias non-minority: ' + str(true_negative_rate) + '%')\n",
    "\n",
    "        \n",
    "        else: \n",
    "            print()\n",
    "            print('True positive rate for bias minority: ' + str(true_positive_rate) + '%')\n",
    "            print('True negative rate for bias minority: ' + str(true_negative_rate) + '%')\n",
    "\n",
    "    \n",
    "    if bias == 0:\n",
    "        if minority == 0:\n",
    "            print()\n",
    "            print('True positive rate for non-bias non-minority: ' + str(true_positive_rate) + '%')\n",
    "            print('True negative rate for non-bias non-minority: ' + str(true_negative_rate) + '%')\n",
    "\n",
    "        \n",
    "        else: \n",
    "            print()\n",
    "            print('True positive rate for non-bias minority: ' + str(true_positive_rate) + '%')\n",
    "            print('True negative rate for non-bias minority: ' + str(true_negative_rate) + '%')\n",
    "\n",
    "        \n",
    "    if bias==2:\n",
    "        if minority == 0:\n",
    "            print()\n",
    "            print('True positive rate for downsampled non-minority: ' + str(true_positive_rate) + '%')\n",
    "            print('True negative rate for downsampled non-minority: ' + str(true_negative_rate) + '%')\n",
    "\n",
    "        \n",
    "        else: \n",
    "            print()\n",
    "            print('True positive rate for downsampled minority: ' + str(true_positive_rate) + '%')\n",
    "            print('True negative rate for downsampled minority: ' + str(true_negative_rate) + '%')        "
   ]
  },
  {
   "cell_type": "code",
   "execution_count": 235,
   "metadata": {},
   "outputs": [
    {
     "name": "stdout",
     "output_type": "stream",
     "text": [
      "\n",
      "True positive rate for bias minority: 93.82%\n",
      "True negative rate for bias minority: 3.19%\n",
      "\n",
      "True positive rate for bias non-minority: 9.37%\n",
      "True negative rate for bias non-minority: 91.03%\n",
      "\n",
      "True positive rate for non-bias minority: 4.46%\n",
      "True negative rate for non-bias minority: 95.52%\n",
      "\n",
      "True positive rate for non-bias non-minority: 4.42%\n",
      "True negative rate for non-bias non-minority: 95.43%\n"
     ]
    }
   ],
   "source": [
    "#BIAS\n",
    "equalised_odds(confusion_bias_minority, bias=1, minority=1)\n",
    "equalised_odds(confusion_bias_non_minority, bias=1, minority=0)\n",
    "\n",
    "#Non-BIAS\n",
    "equalised_odds(confusion_non_bias_minority, bias=0, minority=1)\n",
    "equalised_odds(confusion_non_bias_non_minority, bias=0, minority=0)"
   ]
  },
  {
   "cell_type": "code",
   "execution_count": null,
   "metadata": {},
   "outputs": [],
   "source": []
  },
  {
   "cell_type": "code",
   "execution_count": null,
   "metadata": {},
   "outputs": [],
   "source": []
  },
  {
   "cell_type": "markdown",
   "metadata": {},
   "source": [
    "# Downsampled Train Dataset"
   ]
  },
  {
   "cell_type": "markdown",
   "metadata": {},
   "source": [
    "Inspired by this website for downsampling:\n",
    "https://elitedatascience.com/imbalanced-classes\n",
    "\n",
    "The smalled count among minority and default is 250 for minority==1 and default==0"
   ]
  },
  {
   "cell_type": "code",
   "execution_count": 238,
   "metadata": {},
   "outputs": [
    {
     "name": "stdout",
     "output_type": "stream",
     "text": [
      "1    500\n",
      "0    500\n",
      "Name: minority, dtype: int64\n"
     ]
    },
    {
     "data": {
      "text/plain": [
       "minority  default\n",
       "0         0          250\n",
       "          1          250\n",
       "1         0          250\n",
       "          1          250\n",
       "Name: minority, dtype: int64"
      ]
     },
     "execution_count": 238,
     "metadata": {},
     "output_type": "execute_result"
    }
   ],
   "source": [
    "#downsampling\n",
    "from sklearn.utils import resample\n",
    "\n",
    "# Separate majority and minority classes\n",
    "df_non_minority_0 = train[(train['minority']==0) & (train['default']==0)]\n",
    "df_non_minority_1 = train[(train['minority']==0) & (train['default']==1)]\n",
    "\n",
    "df_minority_0 = train[(train['minority']==1) & (train['default']==0)]\n",
    "df_minority_1 = train[(train['minority']==1) & (train['default']==1)]\n",
    " \n",
    "\n",
    "# Downsample non_minority, default == 0\n",
    "df_non_minority_0_downsampled = resample(df_non_minority_0, \n",
    "                                         replace=False,    # sample without replacement\n",
    "                                         n_samples=250,     # to match minority class\n",
    "                                         random_state=seed) # reproducible results\n",
    "\n",
    "# Downsample non_minority, default == 1\n",
    "df_non_minority_1_downsampled = resample(df_non_minority_1, \n",
    "                                         replace=False,    # sample without replacement\n",
    "                                         n_samples=250,     # to match minority class\n",
    "                                         random_state=seed) # reproducible results\n",
    "\n",
    "# Downsample minority, default == 1\n",
    "df_minority_1_downsampled = resample(df_minority_1, \n",
    "                                         replace=False,    # sample without replacement\n",
    "                                         n_samples=250,     # to match minority class\n",
    "                                         random_state=seed) # reproducible results\n",
    "\n",
    "# Combine minority class with downsampled majority class\n",
    "df_downsampled = pd.concat([df_non_minority_0_downsampled,\n",
    "                            df_non_minority_1_downsampled,\n",
    "                            df_minority_0,\n",
    "                            df_minority_1_downsampled\n",
    "                           ])\n",
    " \n",
    "# Display new class counts\n",
    "print(df_downsampled['minority'].value_counts())\n",
    "\n",
    "#Display distribution for minority, default\n",
    "df_downsampled.groupby([\"minority\", \"default\"])[\"minority\"].count()"
   ]
  },
  {
   "cell_type": "code",
   "execution_count": 239,
   "metadata": {},
   "outputs": [],
   "source": [
    "#create dataframe with independent variables (X) and indepedent variable (y)\n",
    "X_ds = df_downsampled.drop(['default', 'minority', 'sex'], axis=1)\n",
    "y_downsampled = df_downsampled['default']\n",
    "\n",
    "#Scale X train/test bias\n",
    "scaler = StandardScaler()\n",
    "X_fit_bias_ds = scaler.fit(X_ds)\n",
    "\n",
    "X_downsampled = X_fit_bias_ds.transform(X_ds)"
   ]
  },
  {
   "cell_type": "markdown",
   "metadata": {},
   "source": [
    "## LogisticRegression - Downsampled"
   ]
  },
  {
   "cell_type": "code",
   "execution_count": 240,
   "metadata": {},
   "outputs": [
    {
     "name": "stdout",
     "output_type": "stream",
     "text": [
      "LogisticRegression accuracy with downsampled dataset: 36.82%\n",
      "\n",
      "              precision    recall  f1-score   support\n",
      "\n",
      "           0       0.84      0.32      0.46    136055\n",
      "           1       0.14      0.65      0.24     23945\n",
      "\n",
      "    accuracy                           0.37    160000\n",
      "   macro avg       0.49      0.48      0.35    160000\n",
      "weighted avg       0.73      0.37      0.43    160000\n",
      "\n"
     ]
    }
   ],
   "source": [
    "#Logistic Regression\n",
    "\n",
    "lr_ds = LogisticRegression(solver='lbfgs')\n",
    "lr_ds.fit(X_downsampled, y_downsampled)\n",
    "\n",
    "y_pred_ds = lr_ds.predict(X_test_bias)\n",
    "accuracy_lr_ds = accuracy_score(y_pred_ds, y_test)\n",
    "\n",
    "\n",
    "#print accuracy\n",
    "print('LogisticRegression accuracy with downsampled dataset: ' + str(round(accuracy_lr_ds*100,2)) + '%')\n",
    "print()\n",
    "\n",
    "#print classification report\n",
    "print(classification_report(y_test, y_pred_ds))"
   ]
  },
  {
   "cell_type": "markdown",
   "metadata": {},
   "source": [
    "## Deep learning - Downsampled"
   ]
  },
  {
   "cell_type": "code",
   "execution_count": 241,
   "metadata": {},
   "outputs": [
    {
     "name": "stdout",
     "output_type": "stream",
     "text": [
      "accuracy: 85.00%\n",
      "accuracy: 90.00%\n",
      "accuracy: 91.50%\n",
      "accuracy: 91.50%\n",
      "accuracy: 90.00%\n",
      "89.60% (+/- 2.40%)\n"
     ]
    }
   ],
   "source": [
    "#train deep learning model with 5-kfold validation\n",
    "FNN_ds = kfold_validation(X_downsampled, y_downsampled)"
   ]
  },
  {
   "cell_type": "code",
   "execution_count": 242,
   "metadata": {
    "collapsed": true
   },
   "outputs": [
    {
     "name": "stdout",
     "output_type": "stream",
     "text": [
      "Epoch 1/100\n",
      " - 0s - loss: 0.7952 - accuracy: 0.4740 - accuracy_1: 0.4740\n",
      "Epoch 2/100\n",
      " - 0s - loss: 0.7789 - accuracy: 0.4740 - accuracy_1: 0.4740\n",
      "Epoch 3/100\n",
      " - 0s - loss: 0.7671 - accuracy: 0.5080 - accuracy_1: 0.5080\n",
      "Epoch 4/100\n",
      " - 0s - loss: 0.7422 - accuracy: 0.5050 - accuracy_1: 0.5050\n",
      "Epoch 5/100\n",
      " - 0s - loss: 0.7490 - accuracy: 0.5020 - accuracy_1: 0.5020\n",
      "Epoch 6/100\n",
      " - 0s - loss: 0.7203 - accuracy: 0.5360 - accuracy_1: 0.5360\n",
      "Epoch 7/100\n",
      " - 0s - loss: 0.7139 - accuracy: 0.5440 - accuracy_1: 0.5440\n",
      "Epoch 8/100\n",
      " - 0s - loss: 0.6906 - accuracy: 0.5820 - accuracy_1: 0.5820\n",
      "Epoch 9/100\n",
      " - 0s - loss: 0.6796 - accuracy: 0.5810 - accuracy_1: 0.5810\n",
      "Epoch 10/100\n",
      " - 0s - loss: 0.6614 - accuracy: 0.5920 - accuracy_1: 0.5920\n",
      "Epoch 11/100\n",
      " - 0s - loss: 0.6668 - accuracy: 0.5910 - accuracy_1: 0.5910\n",
      "Epoch 12/100\n",
      " - 0s - loss: 0.6473 - accuracy: 0.6170 - accuracy_1: 0.6170\n",
      "Epoch 13/100\n",
      " - 0s - loss: 0.6319 - accuracy: 0.6270 - accuracy_1: 0.6270\n",
      "Epoch 14/100\n",
      " - 0s - loss: 0.6154 - accuracy: 0.6470 - accuracy_1: 0.6470\n",
      "Epoch 15/100\n",
      " - 0s - loss: 0.6127 - accuracy: 0.6680 - accuracy_1: 0.6680\n",
      "Epoch 16/100\n",
      " - 0s - loss: 0.6033 - accuracy: 0.6650 - accuracy_1: 0.6650\n",
      "Epoch 17/100\n",
      " - 0s - loss: 0.6002 - accuracy: 0.6810 - accuracy_1: 0.6810\n",
      "Epoch 18/100\n",
      " - 0s - loss: 0.5767 - accuracy: 0.6810 - accuracy_1: 0.6810\n",
      "Epoch 19/100\n",
      " - 0s - loss: 0.5858 - accuracy: 0.6990 - accuracy_1: 0.6990\n",
      "Epoch 20/100\n",
      " - 0s - loss: 0.5665 - accuracy: 0.7140 - accuracy_1: 0.7140\n",
      "Epoch 21/100\n",
      " - 0s - loss: 0.5531 - accuracy: 0.7330 - accuracy_1: 0.7330\n",
      "Epoch 22/100\n",
      " - 0s - loss: 0.5462 - accuracy: 0.7280 - accuracy_1: 0.7280\n",
      "Epoch 23/100\n",
      " - 0s - loss: 0.5406 - accuracy: 0.7490 - accuracy_1: 0.7490\n",
      "Epoch 24/100\n",
      " - 0s - loss: 0.5378 - accuracy: 0.7340 - accuracy_1: 0.7340\n",
      "Epoch 25/100\n",
      " - 0s - loss: 0.5243 - accuracy: 0.7610 - accuracy_1: 0.7610\n",
      "Epoch 26/100\n",
      " - 0s - loss: 0.5196 - accuracy: 0.7730 - accuracy_1: 0.7730\n",
      "Epoch 27/100\n",
      " - 0s - loss: 0.5065 - accuracy: 0.7720 - accuracy_1: 0.7720\n",
      "Epoch 28/100\n",
      " - 0s - loss: 0.4925 - accuracy: 0.7830 - accuracy_1: 0.7830\n",
      "Epoch 29/100\n",
      " - 0s - loss: 0.4949 - accuracy: 0.7950 - accuracy_1: 0.7950\n",
      "Epoch 30/100\n",
      " - 0s - loss: 0.4653 - accuracy: 0.8070 - accuracy_1: 0.8070\n",
      "Epoch 31/100\n",
      " - 0s - loss: 0.4561 - accuracy: 0.8150 - accuracy_1: 0.8150\n",
      "Epoch 32/100\n",
      " - 0s - loss: 0.4704 - accuracy: 0.8130 - accuracy_1: 0.8130\n",
      "Epoch 33/100\n",
      " - 0s - loss: 0.4675 - accuracy: 0.8020 - accuracy_1: 0.8020\n",
      "Epoch 34/100\n",
      " - 0s - loss: 0.4491 - accuracy: 0.8060 - accuracy_1: 0.8060\n",
      "Epoch 35/100\n",
      " - 0s - loss: 0.4607 - accuracy: 0.8010 - accuracy_1: 0.8010\n",
      "Epoch 36/100\n",
      " - 0s - loss: 0.4432 - accuracy: 0.8160 - accuracy_1: 0.8160\n",
      "Epoch 37/100\n",
      " - 0s - loss: 0.4340 - accuracy: 0.8240 - accuracy_1: 0.8240\n",
      "Epoch 38/100\n",
      " - 0s - loss: 0.4229 - accuracy: 0.8460 - accuracy_1: 0.8460\n",
      "Epoch 39/100\n",
      " - 0s - loss: 0.4222 - accuracy: 0.8390 - accuracy_1: 0.8390\n",
      "Epoch 40/100\n",
      " - 0s - loss: 0.4006 - accuracy: 0.8540 - accuracy_1: 0.8540\n",
      "Epoch 41/100\n",
      " - 0s - loss: 0.4033 - accuracy: 0.8490 - accuracy_1: 0.8490\n",
      "Epoch 42/100\n",
      " - 0s - loss: 0.4035 - accuracy: 0.8420 - accuracy_1: 0.8420\n",
      "Epoch 43/100\n",
      " - 0s - loss: 0.3872 - accuracy: 0.8480 - accuracy_1: 0.8480\n",
      "Epoch 44/100\n",
      " - 0s - loss: 0.3987 - accuracy: 0.8510 - accuracy_1: 0.8510\n",
      "Epoch 45/100\n",
      " - 0s - loss: 0.3782 - accuracy: 0.8500 - accuracy_1: 0.8500\n",
      "Epoch 46/100\n",
      " - 0s - loss: 0.3652 - accuracy: 0.8680 - accuracy_1: 0.8680\n",
      "Epoch 47/100\n",
      " - 0s - loss: 0.3708 - accuracy: 0.8620 - accuracy_1: 0.8620\n",
      "Epoch 48/100\n",
      " - 0s - loss: 0.3650 - accuracy: 0.8610 - accuracy_1: 0.8610\n",
      "Epoch 49/100\n",
      " - 0s - loss: 0.3700 - accuracy: 0.8610 - accuracy_1: 0.8610\n",
      "Epoch 50/100\n",
      " - 0s - loss: 0.3549 - accuracy: 0.8650 - accuracy_1: 0.8650\n",
      "Epoch 51/100\n",
      " - 0s - loss: 0.3320 - accuracy: 0.8890 - accuracy_1: 0.8890\n",
      "Epoch 52/100\n",
      " - 0s - loss: 0.3526 - accuracy: 0.8580 - accuracy_1: 0.8580\n",
      "Epoch 53/100\n",
      " - 0s - loss: 0.3397 - accuracy: 0.8700 - accuracy_1: 0.8700\n",
      "Epoch 54/100\n",
      " - 0s - loss: 0.3350 - accuracy: 0.8650 - accuracy_1: 0.8650\n"
     ]
    },
    {
     "data": {
      "text/plain": [
       "<keras.callbacks.callbacks.History at 0x1569a6f98>"
      ]
     },
     "execution_count": 242,
     "metadata": {},
     "output_type": "execute_result"
    }
   ],
   "source": [
    "#the kfold model is giving wierd results. \n",
    "#thus, switching to this model\n",
    "#I think issue stems from stratifiedKfold not working, i.e. I'm doing something wrong\n",
    "FNN_bs = create_model(X_downsampled)\n",
    "FNN_bs.fit(X_downsampled, y_downsampled, epochs=100, batch_size=1000, shuffle=True, verbose=2, callbacks=[es_callback],\n",
    "           class_weight=class_weights)"
   ]
  },
  {
   "cell_type": "code",
   "execution_count": 292,
   "metadata": {},
   "outputs": [
    {
     "name": "stdout",
     "output_type": "stream",
     "text": [
      "Deep Learning accuracy with downsampled dataset: 52.44%\n",
      "\n",
      "              precision    recall  f1-score   support\n",
      "\n",
      "           0       0.91      0.49      0.64    136055\n",
      "           1       0.20      0.71      0.31     23945\n",
      "\n",
      "    accuracy                           0.52    160000\n",
      "   macro avg       0.55      0.60      0.47    160000\n",
      "weighted avg       0.80      0.52      0.59    160000\n",
      "\n"
     ]
    }
   ],
   "source": [
    "#accuracy of downsampled dataset on test dataset\n",
    "y_pred_dl_ds = FNN_ds.predict_classes(X_test_bias, verbose=0)\n",
    "\n",
    "accuracy_dl_ds = accuracy_score(y_pred_dl_ds, y_test)\n",
    "\n",
    "#print accuracy\n",
    "print('Deep Learning accuracy with downsampled dataset: ' + str(round(accuracy_dl_ds*100,2)) + '%')\n",
    "print()\n",
    "\n",
    "print(classification_report(y_test, y_pred_dl_ds))"
   ]
  },
  {
   "cell_type": "markdown",
   "metadata": {},
   "source": [
    "## Fairness - Identifying Bias"
   ]
  },
  {
   "cell_type": "code",
   "execution_count": 281,
   "metadata": {},
   "outputs": [
    {
     "name": "stdout",
     "output_type": "stream",
     "text": [
      "80348/80348 [==============================] - 1s 19us/step\n",
      "Test loss downsampled non-minority: 0.82\n",
      "Test accuracy downsampled non-minority: 50.62%\n",
      "\n"
     ]
    }
   ],
   "source": [
    "confusion_ds_minority = bias_analysis(X_test_bias, y_test, X_te_bias, FNN_ds, bias=2, minority=1)"
   ]
  },
  {
   "cell_type": "code",
   "execution_count": 282,
   "metadata": {},
   "outputs": [
    {
     "name": "stdout",
     "output_type": "stream",
     "text": [
      "79652/79652 [==============================] - 2s 19us/step\n",
      "Test loss downsampled non-minority: 0.78\n",
      "Test accuracy downsampled non-minority: 54.28%\n",
      "\n"
     ]
    }
   ],
   "source": [
    "confusion_ds_non_minority = bias_analysis(X_test_bias, y_test, X_te_bias, FNN_ds, bias=2, minority=0)"
   ]
  },
  {
   "cell_type": "markdown",
   "metadata": {},
   "source": [
    "### Demographic Parity - Downsampled"
   ]
  },
  {
   "cell_type": "code",
   "execution_count": 296,
   "metadata": {},
   "outputs": [
    {
     "name": "stdout",
     "output_type": "stream",
     "text": [
      "Demographic parity for downsampled minority: 56.53%\n"
     ]
    }
   ],
   "source": [
    "demographic_parity(confusion_ds_minority, bias=2, minority=1)"
   ]
  },
  {
   "cell_type": "code",
   "execution_count": 297,
   "metadata": {},
   "outputs": [
    {
     "name": "stdout",
     "output_type": "stream",
     "text": [
      "Demographic parity for downsampled minority: 50.98%\n"
     ]
    }
   ],
   "source": [
    "demographic_parity(confusion_ds_non_minority, bias=2, minority=1)"
   ]
  },
  {
   "cell_type": "markdown",
   "metadata": {},
   "source": [
    "### Equal Opportunity - Downsampled"
   ]
  },
  {
   "cell_type": "code",
   "execution_count": 304,
   "metadata": {},
   "outputs": [
    {
     "name": "stdout",
     "output_type": "stream",
     "text": [
      "Equal opportunity for downsampled minority: 73.77%\n"
     ]
    }
   ],
   "source": [
    "#equal opportunity for downsampled minority. \n",
    "equal_opportunity(confusion_ds_minority, bias=2, minority=1)"
   ]
  },
  {
   "cell_type": "code",
   "execution_count": 305,
   "metadata": {},
   "outputs": [
    {
     "name": "stdout",
     "output_type": "stream",
     "text": [
      "Equal opportunity for downsampled non-minority: 67.66%\n"
     ]
    }
   ],
   "source": [
    "#equal opportunity for downsampled non-minority. \n",
    "equal_opportunity(confusion_ds_non_minority, bias=2, minority=0)"
   ]
  },
  {
   "cell_type": "markdown",
   "metadata": {},
   "source": [
    "### Equalised Odds - Downsampled"
   ]
  },
  {
   "cell_type": "code",
   "execution_count": 302,
   "metadata": {},
   "outputs": [
    {
     "name": "stdout",
     "output_type": "stream",
     "text": [
      "\n",
      "True positive rate for downsampled minority: 73.77%\n",
      "True negative rate for downsampled minority: 46.52%\n"
     ]
    }
   ],
   "source": [
    "#equalised odds for downsampled minority\n",
    "equalised_odds(confusion_ds_minority, bias=2, minority=1)"
   ]
  },
  {
   "cell_type": "code",
   "execution_count": 303,
   "metadata": {},
   "outputs": [
    {
     "name": "stdout",
     "output_type": "stream",
     "text": [
      "\n",
      "True positive rate for downsampled non-minority: 67.66%\n",
      "True negative rate for downsampled non-minority: 51.94%\n"
     ]
    }
   ],
   "source": [
    "#equalised odds for donwsampled non-minority\n",
    "equalised_odds(confusion_ds_non_minority, bias=2, minority=0)"
   ]
  },
  {
   "cell_type": "code",
   "execution_count": null,
   "metadata": {},
   "outputs": [],
   "source": []
  },
  {
   "cell_type": "markdown",
   "metadata": {},
   "source": [
    "# Disparate Impact Remover"
   ]
  },
  {
   "cell_type": "markdown",
   "metadata": {},
   "source": [
    "Notebook on how to remove bias in a variable: https://nbviewer.jupyter.org/github/srnghn/bias-mitigation-examples/blob/master/Bias%20Mitigation%20with%20Disparate%20Impact%20Remover.ipynb"
   ]
  },
  {
   "cell_type": "code",
   "execution_count": 309,
   "metadata": {},
   "outputs": [],
   "source": [
    "#%pip install aif360"
   ]
  },
  {
   "cell_type": "code",
   "execution_count": 310,
   "metadata": {},
   "outputs": [],
   "source": [
    "from aif360.algorithms.preprocessing import DisparateImpactRemover\n",
    "from aif360.datasets import BinaryLabelDataset\n",
    "from aif360.metrics import BinaryLabelDatasetMetric\n",
    "from numba.core.decorators import jit"
   ]
  },
  {
   "cell_type": "code",
   "execution_count": 311,
   "metadata": {},
   "outputs": [],
   "source": [
    "train_BLD = BinaryLabelDataset(favorable_label='1',\n",
    "                                unfavorable_label='0',\n",
    "                                df=train,\n",
    "                                label_names=['default'],\n",
    "                                protected_attribute_names=['minority'],\n",
    "                                unprivileged_protected_attributes=['1'])\n",
    "test_BLD = BinaryLabelDataset(favorable_label='1',\n",
    "                                unfavorable_label='0',\n",
    "                                df=test,\n",
    "                                label_names=['default'],\n",
    "                                protected_attribute_names=['minority'],\n",
    "                                unprivileged_protected_attributes=['1'])"
   ]
  },
  {
   "cell_type": "code",
   "execution_count": 312,
   "metadata": {},
   "outputs": [],
   "source": [
    "#transform dataset to remove disparate impact\n",
    "di = DisparateImpactRemover(repair_level=1.0)\n",
    "rp_train = di.fit_transform(train_BLD)\n",
    "rp_test = di.fit_transform(test_BLD)"
   ]
  },
  {
   "cell_type": "code",
   "execution_count": 313,
   "metadata": {
    "collapsed": true
   },
   "outputs": [
    {
     "name": "stdout",
     "output_type": "stream",
     "text": [
      "Epoch 1/100\n",
      " - 2s - loss: 786.4068 - accuracy: 0.4994 - accuracy_1: 0.4994\n",
      "Epoch 2/100\n",
      " - 1s - loss: 4.2479 - accuracy: 0.4994 - accuracy_1: 0.4994\n",
      "Epoch 3/100\n",
      " - 1s - loss: 1.5802 - accuracy: 0.5002 - accuracy_1: 0.5002\n",
      "Epoch 4/100\n",
      " - 1s - loss: 1.3353 - accuracy: 0.5001 - accuracy_1: 0.5001\n",
      "Epoch 5/100\n",
      " - 1s - loss: 1.1594 - accuracy: 0.5004 - accuracy_1: 0.5004\n",
      "Epoch 6/100\n",
      " - 1s - loss: 1.0717 - accuracy: 0.4995 - accuracy_1: 0.4995\n",
      "Epoch 7/100\n",
      " - 1s - loss: 0.9451 - accuracy: 0.4989 - accuracy_1: 0.4989\n",
      "Epoch 8/100\n",
      " - 1s - loss: 0.8724 - accuracy: 0.4984 - accuracy_1: 0.4984\n",
      "Epoch 9/100\n",
      " - 1s - loss: 0.8223 - accuracy: 0.5007 - accuracy_1: 0.5007\n",
      "Epoch 10/100\n",
      " - 1s - loss: 0.7902 - accuracy: 0.4993 - accuracy_1: 0.4993\n",
      "Epoch 11/100\n",
      " - 1s - loss: 0.7520 - accuracy: 0.4997 - accuracy_1: 0.4997\n",
      "Epoch 12/100\n",
      " - 1s - loss: 0.7551 - accuracy: 0.5004 - accuracy_1: 0.5004\n",
      "Epoch 13/100\n",
      " - 1s - loss: 0.7143 - accuracy: 0.5000 - accuracy_1: 0.5000\n",
      "Epoch 14/100\n",
      " - 1s - loss: 0.7155 - accuracy: 0.4990 - accuracy_1: 0.4990\n",
      "Epoch 15/100\n",
      " - 1s - loss: 0.7376 - accuracy: 0.4999 - accuracy_1: 0.4999\n",
      "Epoch 16/100\n",
      " - 1s - loss: 0.7368 - accuracy: 0.5012 - accuracy_1: 0.5012\n"
     ]
    },
    {
     "data": {
      "text/plain": [
       "<keras.callbacks.callbacks.History at 0x156d102b0>"
      ]
     },
     "execution_count": 313,
     "metadata": {},
     "output_type": "execute_result"
    }
   ],
   "source": [
    "#train deep learning model\n",
    "FNN_rp = create_model(rp_train.features[:, 2:]) #first two columns dropped since sex and minority\n",
    "FNN_rp.fit(rp_train.features[:, 2:], rp_train.labels, epochs=100, batch_size=1000, shuffle=True, verbose=2, callbacks=[es_callback])"
   ]
  },
  {
   "cell_type": "code",
   "execution_count": 314,
   "metadata": {},
   "outputs": [],
   "source": [
    "di_preds = FNN_rp.predict(rp_test.features[:, 2:])"
   ]
  },
  {
   "cell_type": "code",
   "execution_count": 315,
   "metadata": {},
   "outputs": [
    {
     "data": {
      "text/html": [
       "<div>\n",
       "<style scoped>\n",
       "    .dataframe tbody tr th:only-of-type {\n",
       "        vertical-align: middle;\n",
       "    }\n",
       "\n",
       "    .dataframe tbody tr th {\n",
       "        vertical-align: top;\n",
       "    }\n",
       "\n",
       "    .dataframe thead th {\n",
       "        text-align: right;\n",
       "    }\n",
       "</style>\n",
       "<table border=\"1\" class=\"dataframe\">\n",
       "  <thead>\n",
       "    <tr style=\"text-align: right;\">\n",
       "      <th></th>\n",
       "      <th>minority</th>\n",
       "      <th>preds</th>\n",
       "    </tr>\n",
       "  </thead>\n",
       "  <tbody>\n",
       "    <tr>\n",
       "      <th>0</th>\n",
       "      <td>1.0</td>\n",
       "      <td>0.502461</td>\n",
       "    </tr>\n",
       "    <tr>\n",
       "      <th>1</th>\n",
       "      <td>0.0</td>\n",
       "      <td>0.502461</td>\n",
       "    </tr>\n",
       "    <tr>\n",
       "      <th>2</th>\n",
       "      <td>0.0</td>\n",
       "      <td>0.502461</td>\n",
       "    </tr>\n",
       "    <tr>\n",
       "      <th>3</th>\n",
       "      <td>1.0</td>\n",
       "      <td>0.502461</td>\n",
       "    </tr>\n",
       "    <tr>\n",
       "      <th>4</th>\n",
       "      <td>1.0</td>\n",
       "      <td>0.502461</td>\n",
       "    </tr>\n",
       "  </tbody>\n",
       "</table>\n",
       "</div>"
      ],
      "text/plain": [
       "   minority     preds\n",
       "0       1.0  0.502461\n",
       "1       0.0  0.502461\n",
       "2       0.0  0.502461\n",
       "3       1.0  0.502461\n",
       "4       1.0  0.502461"
      ]
     },
     "execution_count": 315,
     "metadata": {},
     "output_type": "execute_result"
    }
   ],
   "source": [
    "di_pred_np = np.concatenate((test[['minority']],\n",
    "                                di_preds), \n",
    "                                axis=1)\n",
    "di_pred_df = pd.DataFrame(di_pred_np, columns=['minority', 'preds'])\n",
    "di_pred_df.head()"
   ]
  },
  {
   "cell_type": "code",
   "execution_count": 316,
   "metadata": {},
   "outputs": [
    {
     "data": {
      "text/plain": [
       "0.5024610757827759"
      ]
     },
     "execution_count": 316,
     "metadata": {},
     "output_type": "execute_result"
    }
   ],
   "source": [
    "di_pred_df['preds'].mean()"
   ]
  },
  {
   "cell_type": "code",
   "execution_count": 328,
   "metadata": {},
   "outputs": [
    {
     "name": "stdout",
     "output_type": "stream",
     "text": [
      "Deep Learning accuracy after disparate impact remover on bias dataset: 14.97%\n",
      "\n",
      "              precision    recall  f1-score   support\n",
      "\n",
      "           0       0.00      0.00      0.00    136055\n",
      "           1       0.15      1.00      0.26     23945\n",
      "\n",
      "    accuracy                           0.15    160000\n",
      "   macro avg       0.07      0.50      0.13    160000\n",
      "weighted avg       0.02      0.15      0.04    160000\n",
      "\n",
      "\n",
      "[[     0 136055]\n",
      " [     0  23945]]\n"
     ]
    }
   ],
   "source": [
    "#use model not trained disparate impact remover\n",
    "#predict using test transformed by disparate impact remover\n",
    "y_pred_dl_bias_di = FNN_rp.predict_classes(rp_test.features[:, 2:], verbose=0)\n",
    "\n",
    "accuracy_dl_bias_di = accuracy_score(y_pred_dl_bias_di, y_test)\n",
    "\n",
    "#print accuracy\n",
    "print('Deep Learning accuracy after disparate impact remover on bias dataset: ' + \n",
    "      str(round(accuracy_dl_bias_di*100,2)) + '%')\n",
    "print()\n",
    "\n",
    "print(classification_report(y_test, y_pred_dl_bias_di))\n",
    "\n",
    "print()\n",
    "\n",
    "print(confusion_matrix(y_test, y_pred_dl_bias_di))"
   ]
  },
  {
   "cell_type": "markdown",
   "metadata": {},
   "source": [
    "## Disparate Impact Remover - Downsampled"
   ]
  },
  {
   "cell_type": "code",
   "execution_count": 318,
   "metadata": {},
   "outputs": [],
   "source": [
    "#create disparate impact remover\n",
    "#preparation for next code cell below\n",
    "train_BLD_ds = BinaryLabelDataset(favorable_label='1',\n",
    "                                unfavorable_label='0',\n",
    "                                df=df_downsampled,\n",
    "                                label_names=['default'],\n",
    "                                protected_attribute_names=['minority'],\n",
    "                                unprivileged_protected_attributes=['1'])"
   ]
  },
  {
   "cell_type": "code",
   "execution_count": 319,
   "metadata": {},
   "outputs": [],
   "source": [
    "#fit disaparate impact remover on train\n",
    "di = DisparateImpactRemover(repair_level=1.0)\n",
    "rp_train_ds = di.fit_transform(train_BLD_ds)"
   ]
  },
  {
   "cell_type": "code",
   "execution_count": 320,
   "metadata": {
    "collapsed": true
   },
   "outputs": [
    {
     "name": "stdout",
     "output_type": "stream",
     "text": [
      "Epoch 1/100\n",
      " - 0s - loss: 10170.0479 - accuracy: 0.5060 - accuracy_1: 0.5060\n",
      "Epoch 2/100\n",
      " - 0s - loss: 10011.2129 - accuracy: 0.4900 - accuracy_1: 0.4900\n",
      "Epoch 3/100\n",
      " - 0s - loss: 8978.9189 - accuracy: 0.4880 - accuracy_1: 0.4880\n",
      "Epoch 4/100\n",
      " - 0s - loss: 9107.9141 - accuracy: 0.4860 - accuracy_1: 0.4860\n",
      "Epoch 5/100\n",
      " - 0s - loss: 8244.8262 - accuracy: 0.5110 - accuracy_1: 0.5110\n",
      "Epoch 6/100\n",
      " - 0s - loss: 7607.5508 - accuracy: 0.4960 - accuracy_1: 0.4960\n",
      "Epoch 7/100\n",
      " - 0s - loss: 6282.1855 - accuracy: 0.5190 - accuracy_1: 0.5190\n",
      "Epoch 8/100\n",
      " - 0s - loss: 6612.3560 - accuracy: 0.4940 - accuracy_1: 0.4940\n",
      "Epoch 9/100\n",
      " - 0s - loss: 6744.8779 - accuracy: 0.4820 - accuracy_1: 0.4820\n",
      "Epoch 10/100\n",
      " - 0s - loss: 5892.8799 - accuracy: 0.4980 - accuracy_1: 0.4980\n",
      "Epoch 11/100\n",
      " - 0s - loss: 4860.2256 - accuracy: 0.4980 - accuracy_1: 0.4980\n",
      "Epoch 12/100\n",
      " - 0s - loss: 4971.5049 - accuracy: 0.4880 - accuracy_1: 0.4880\n",
      "Epoch 13/100\n",
      " - 0s - loss: 5020.5508 - accuracy: 0.5090 - accuracy_1: 0.5090\n",
      "Epoch 14/100\n",
      " - 0s - loss: 4663.9370 - accuracy: 0.4990 - accuracy_1: 0.4990\n",
      "Epoch 15/100\n",
      " - 0s - loss: 4981.0088 - accuracy: 0.5000 - accuracy_1: 0.5000\n",
      "Epoch 16/100\n",
      " - 0s - loss: 4393.6851 - accuracy: 0.4990 - accuracy_1: 0.4990\n",
      "Epoch 17/100\n",
      " - 0s - loss: 4709.9517 - accuracy: 0.4920 - accuracy_1: 0.4920\n",
      "Epoch 18/100\n",
      " - 0s - loss: 4444.7568 - accuracy: 0.4780 - accuracy_1: 0.4780\n",
      "Epoch 19/100\n",
      " - 0s - loss: 4269.3740 - accuracy: 0.4780 - accuracy_1: 0.4780\n",
      "Epoch 20/100\n",
      " - 0s - loss: 4327.9990 - accuracy: 0.5010 - accuracy_1: 0.5010\n",
      "Epoch 21/100\n",
      " - 0s - loss: 4715.5771 - accuracy: 0.4650 - accuracy_1: 0.4650\n",
      "Epoch 22/100\n",
      " - 0s - loss: 4181.2681 - accuracy: 0.4970 - accuracy_1: 0.4970\n",
      "Epoch 23/100\n",
      " - 0s - loss: 3442.3752 - accuracy: 0.5410 - accuracy_1: 0.5410\n",
      "Epoch 24/100\n",
      " - 0s - loss: 4392.8057 - accuracy: 0.4820 - accuracy_1: 0.4820\n",
      "Epoch 25/100\n",
      " - 0s - loss: 3708.2329 - accuracy: 0.5110 - accuracy_1: 0.5110\n",
      "Epoch 26/100\n",
      " - 0s - loss: 3783.8904 - accuracy: 0.4990 - accuracy_1: 0.4990\n"
     ]
    },
    {
     "data": {
      "text/plain": [
       "<keras.callbacks.callbacks.History at 0x1510e74e0>"
      ]
     },
     "execution_count": 320,
     "metadata": {},
     "output_type": "execute_result"
    }
   ],
   "source": [
    "#downsampled dataset with disparate impact remover\n",
    "FNN_rp_ds = create_model(rp_train.features[:, 2:]) #first two columns dropped since sex and minority\n",
    "FNN_rp_ds.fit(rp_train_ds.features[:, 2:], rp_train_ds.labels, epochs=100, batch_size=1000, \n",
    "           shuffle=True, verbose=2, callbacks=[es_callback])"
   ]
  },
  {
   "cell_type": "code",
   "execution_count": 321,
   "metadata": {},
   "outputs": [
    {
     "data": {
      "text/html": [
       "<div>\n",
       "<style scoped>\n",
       "    .dataframe tbody tr th:only-of-type {\n",
       "        vertical-align: middle;\n",
       "    }\n",
       "\n",
       "    .dataframe tbody tr th {\n",
       "        vertical-align: top;\n",
       "    }\n",
       "\n",
       "    .dataframe thead th {\n",
       "        text-align: right;\n",
       "    }\n",
       "</style>\n",
       "<table border=\"1\" class=\"dataframe\">\n",
       "  <thead>\n",
       "    <tr style=\"text-align: right;\">\n",
       "      <th></th>\n",
       "      <th>minority</th>\n",
       "      <th>preds</th>\n",
       "    </tr>\n",
       "  </thead>\n",
       "  <tbody>\n",
       "    <tr>\n",
       "      <th>0</th>\n",
       "      <td>1.0</td>\n",
       "      <td>0.0</td>\n",
       "    </tr>\n",
       "    <tr>\n",
       "      <th>1</th>\n",
       "      <td>0.0</td>\n",
       "      <td>0.0</td>\n",
       "    </tr>\n",
       "    <tr>\n",
       "      <th>2</th>\n",
       "      <td>0.0</td>\n",
       "      <td>0.0</td>\n",
       "    </tr>\n",
       "    <tr>\n",
       "      <th>3</th>\n",
       "      <td>1.0</td>\n",
       "      <td>0.0</td>\n",
       "    </tr>\n",
       "    <tr>\n",
       "      <th>4</th>\n",
       "      <td>1.0</td>\n",
       "      <td>0.0</td>\n",
       "    </tr>\n",
       "  </tbody>\n",
       "</table>\n",
       "</div>"
      ],
      "text/plain": [
       "   minority  preds\n",
       "0       1.0    0.0\n",
       "1       0.0    0.0\n",
       "2       0.0    0.0\n",
       "3       1.0    0.0\n",
       "4       1.0    0.0"
      ]
     },
     "execution_count": 321,
     "metadata": {},
     "output_type": "execute_result"
    }
   ],
   "source": [
    "#predict default rate\n",
    "di_preds_ds = FNN_rp_ds.predict(rp_test.features[:, 2:])\n",
    "\n",
    "#concat predictions with minority\n",
    "di_pred_np_ds = np.concatenate((test[['minority']],\n",
    "                                di_preds_ds), \n",
    "                                axis=1)\n",
    "\n",
    "#convert to dataframe\n",
    "di_pred_df_ds = pd.DataFrame(di_pred_np_ds, columns=['minority', 'preds'])\n",
    "di_pred_df_ds.head()"
   ]
  },
  {
   "cell_type": "code",
   "execution_count": 322,
   "metadata": {},
   "outputs": [
    {
     "data": {
      "text/plain": [
       "0.0"
      ]
     },
     "execution_count": 322,
     "metadata": {},
     "output_type": "execute_result"
    }
   ],
   "source": [
    "#only 1s are predicted\n",
    "di_pred_df_ds['preds'].mean()"
   ]
  },
  {
   "cell_type": "code",
   "execution_count": 327,
   "metadata": {},
   "outputs": [
    {
     "name": "stdout",
     "output_type": "stream",
     "text": [
      "Deep Learning accuracy after disparate impact remover on downsampled dataset: 85.03%\n",
      "\n",
      "              precision    recall  f1-score   support\n",
      "\n",
      "           0       0.85      1.00      0.92    136055\n",
      "           1       0.00      0.00      0.00     23945\n",
      "\n",
      "    accuracy                           0.85    160000\n",
      "   macro avg       0.43      0.50      0.46    160000\n",
      "weighted avg       0.72      0.85      0.78    160000\n",
      "\n",
      "\n",
      "[[136055      0]\n",
      " [ 23945      0]]\n"
     ]
    }
   ],
   "source": [
    "#use model not trained disparate impact remover\n",
    "#predict using test transformed by disparate impact remover\n",
    "y_pred_dl_ds_di = FNN_rp_ds.predict_classes(rp_test.features[:, 2:], verbose=0)\n",
    "\n",
    "accuracy_dl_ds_di = accuracy_score(y_pred_dl_ds_di, y_test)\n",
    "\n",
    "#print accuracy\n",
    "print('Deep Learning accuracy after disparate impact remover on downsampled dataset: ' + \n",
    "      str(round(accuracy_dl_ds_di*100,2)) + '%')\n",
    "print()\n",
    "\n",
    "print(classification_report(y_test, y_pred_dl_ds_di))\n",
    "\n",
    "print()\n",
    "print(confusion_matrix(y_test, y_pred_dl_ds_di))"
   ]
  },
  {
   "cell_type": "code",
   "execution_count": null,
   "metadata": {},
   "outputs": [],
   "source": []
  }
 ],
 "metadata": {
  "kernelspec": {
   "display_name": "Python 3",
   "language": "python",
   "name": "python3"
  },
  "language_info": {
   "codemirror_mode": {
    "name": "ipython",
    "version": 3
   },
   "file_extension": ".py",
   "mimetype": "text/x-python",
   "name": "python",
   "nbconvert_exporter": "python",
   "pygments_lexer": "ipython3",
   "version": "3.7.3"
  }
 },
 "nbformat": 4,
 "nbformat_minor": 2
}
