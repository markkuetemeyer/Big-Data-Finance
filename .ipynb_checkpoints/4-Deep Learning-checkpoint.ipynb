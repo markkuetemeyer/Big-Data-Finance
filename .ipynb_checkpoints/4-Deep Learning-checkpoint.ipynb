{
 "cells": [
  {
   "cell_type": "markdown",
   "metadata": {},
   "source": [
    "# Submission 2: Deep learning and bias"
   ]
  },
  {
   "cell_type": "markdown",
   "metadata": {},
   "source": [
    "This document aims to explain how the data was used to draw conclusions, which techniques and models were used to analyze and solve our problem. Our main goal was twofold. We wanted to identify if there is bias in a dataset and how to handle it. The structure of this paper represents our thinking and working process. We began by building several models, then analyzing the fairness of the model under consideration of specific metrics and finally showing two possibilities of how to handle bias in data. Last but not least we describe what implications for businesses this work has. "
   ]
  },
  {
   "cell_type": "markdown",
   "metadata": {},
   "source": [
    "Based on the exploratory data analysis in submission 1, we believe four variables:\n",
    "1. ZIP\n",
    "2. rent\n",
    "3. job stability\n",
    "4. occupation)\n",
    "cause the bias. \n",
    "\n",
    "Thus, our hypothesis is: \n",
    "\n",
    "**does removing these four variables reduce bias?**"
   ]
  },
  {
   "cell_type": "code",
   "execution_count": 18,
   "metadata": {},
   "outputs": [],
   "source": [
    "#import libraries\n",
    "import numpy as np\n",
    "import pandas as pd\n",
    "import seaborn as sns\n",
    "\n",
    "from sklearn.metrics import classification_report\n",
    "from sklearn.metrics import accuracy_score\n",
    "from sklearn.metrics import confusion_matrix\n",
    "from sklearn.preprocessing import StandardScaler\n",
    "from sklearn.linear_model import LogisticRegression\n",
    "from sklearn.utils import class_weight\n",
    "from sklearn.utils import resample\n",
    "from sklearn.model_selection import StratifiedKFold\n",
    "\n",
    "import keras\n",
    "from keras.models import Sequential\n",
    "from keras.layers import Activation, Dense, Dropout"
   ]
  },
  {
   "cell_type": "code",
   "execution_count": 19,
   "metadata": {},
   "outputs": [],
   "source": [
    "#%pip install aif360"
   ]
  },
  {
   "cell_type": "code",
   "execution_count": 20,
   "metadata": {},
   "outputs": [
    {
     "name": "stderr",
     "output_type": "stream",
     "text": [
      "/Users/Rolf/anaconda3/lib/python3.7/site-packages/aif360/algorithms/preprocessing/lfr_helpers/helpers.py:2: NumbaDeprecationWarning: \u001b[1mAn import was requested from a module that has moved location.\n",
      "Import requested from: 'numba.decorators', please update to use 'numba.core.decorators' or pin to Numba version 0.48.0. This alias will not be present in Numba version 0.50.0.\u001b[0m\n",
      "  from numba.decorators import jit\n",
      "/Users/Rolf/anaconda3/lib/python3.7/site-packages/aif360/algorithms/preprocessing/lfr_helpers/helpers.py:2: NumbaDeprecationWarning: \u001b[1mAn import was requested from a module that has moved location.\n",
      "Import of 'jit' requested from: 'numba.decorators', please update to use 'numba.core.decorators' or pin to Numba version 0.48.0. This alias will not be present in Numba version 0.50.0.\u001b[0m\n",
      "  from numba.decorators import jit\n"
     ]
    }
   ],
   "source": [
    "from aif360.algorithms.preprocessing import DisparateImpactRemover\n",
    "from aif360.datasets import BinaryLabelDataset\n",
    "from aif360.metrics import BinaryLabelDatasetMetric\n",
    "from numba.core.decorators import jit"
   ]
  },
  {
   "cell_type": "code",
   "execution_count": 21,
   "metadata": {},
   "outputs": [],
   "source": [
    "#set a random seed\n",
    "seed = 123\n",
    "np.random.seed(seed)"
   ]
  },
  {
   "cell_type": "markdown",
   "metadata": {},
   "source": [
    "### Import train and test dataset"
   ]
  },
  {
   "cell_type": "code",
   "execution_count": 22,
   "metadata": {},
   "outputs": [
    {
     "name": "stdout",
     "output_type": "stream",
     "text": [
      "train shape: (471136, 13)\n"
     ]
    },
    {
     "data": {
      "text/html": [
       "<div>\n",
       "<style scoped>\n",
       "    .dataframe tbody tr th:only-of-type {\n",
       "        vertical-align: middle;\n",
       "    }\n",
       "\n",
       "    .dataframe tbody tr th {\n",
       "        vertical-align: top;\n",
       "    }\n",
       "\n",
       "    .dataframe thead th {\n",
       "        text-align: right;\n",
       "    }\n",
       "</style>\n",
       "<table border=\"1\" class=\"dataframe\">\n",
       "  <thead>\n",
       "    <tr style=\"text-align: right;\">\n",
       "      <th></th>\n",
       "      <th>minority</th>\n",
       "      <th>sex</th>\n",
       "      <th>ZIP</th>\n",
       "      <th>rent</th>\n",
       "      <th>education</th>\n",
       "      <th>age</th>\n",
       "      <th>income</th>\n",
       "      <th>loan_size</th>\n",
       "      <th>payment_timing</th>\n",
       "      <th>year</th>\n",
       "      <th>job_stability</th>\n",
       "      <th>occupation</th>\n",
       "      <th>default</th>\n",
       "    </tr>\n",
       "  </thead>\n",
       "  <tbody>\n",
       "    <tr>\n",
       "      <th>0</th>\n",
       "      <td>1</td>\n",
       "      <td>0</td>\n",
       "      <td>1</td>\n",
       "      <td>1</td>\n",
       "      <td>57.230650</td>\n",
       "      <td>36.050927</td>\n",
       "      <td>205168.022244</td>\n",
       "      <td>7600.292199</td>\n",
       "      <td>3.302193</td>\n",
       "      <td>0</td>\n",
       "      <td>3.015554</td>\n",
       "      <td>1</td>\n",
       "      <td>1</td>\n",
       "    </tr>\n",
       "    <tr>\n",
       "      <th>1</th>\n",
       "      <td>1</td>\n",
       "      <td>0</td>\n",
       "      <td>1</td>\n",
       "      <td>1</td>\n",
       "      <td>45.891343</td>\n",
       "      <td>59.525251</td>\n",
       "      <td>187530.409981</td>\n",
       "      <td>5534.271289</td>\n",
       "      <td>3.843058</td>\n",
       "      <td>0</td>\n",
       "      <td>5.938132</td>\n",
       "      <td>1</td>\n",
       "      <td>1</td>\n",
       "    </tr>\n",
       "    <tr>\n",
       "      <th>2</th>\n",
       "      <td>1</td>\n",
       "      <td>0</td>\n",
       "      <td>1</td>\n",
       "      <td>1</td>\n",
       "      <td>46.775489</td>\n",
       "      <td>67.338108</td>\n",
       "      <td>196912.006690</td>\n",
       "      <td>2009.903438</td>\n",
       "      <td>2.059034</td>\n",
       "      <td>0</td>\n",
       "      <td>2.190777</td>\n",
       "      <td>1</td>\n",
       "      <td>1</td>\n",
       "    </tr>\n",
       "    <tr>\n",
       "      <th>3</th>\n",
       "      <td>1</td>\n",
       "      <td>0</td>\n",
       "      <td>1</td>\n",
       "      <td>1</td>\n",
       "      <td>41.784839</td>\n",
       "      <td>24.067401</td>\n",
       "      <td>132911.650615</td>\n",
       "      <td>3112.280893</td>\n",
       "      <td>3.936169</td>\n",
       "      <td>0</td>\n",
       "      <td>1.725860</td>\n",
       "      <td>1</td>\n",
       "      <td>1</td>\n",
       "    </tr>\n",
       "    <tr>\n",
       "      <th>4</th>\n",
       "      <td>1</td>\n",
       "      <td>0</td>\n",
       "      <td>1</td>\n",
       "      <td>1</td>\n",
       "      <td>41.744838</td>\n",
       "      <td>47.496605</td>\n",
       "      <td>161162.551205</td>\n",
       "      <td>1372.077093</td>\n",
       "      <td>3.709910</td>\n",
       "      <td>0</td>\n",
       "      <td>0.883104</td>\n",
       "      <td>1</td>\n",
       "      <td>1</td>\n",
       "    </tr>\n",
       "  </tbody>\n",
       "</table>\n",
       "</div>"
      ],
      "text/plain": [
       "   minority  sex  ZIP  rent  education        age         income    loan_size  \\\n",
       "0         1    0    1     1  57.230650  36.050927  205168.022244  7600.292199   \n",
       "1         1    0    1     1  45.891343  59.525251  187530.409981  5534.271289   \n",
       "2         1    0    1     1  46.775489  67.338108  196912.006690  2009.903438   \n",
       "3         1    0    1     1  41.784839  24.067401  132911.650615  3112.280893   \n",
       "4         1    0    1     1  41.744838  47.496605  161162.551205  1372.077093   \n",
       "\n",
       "   payment_timing  year  job_stability  occupation  default  \n",
       "0        3.302193     0       3.015554           1        1  \n",
       "1        3.843058     0       5.938132           1        1  \n",
       "2        2.059034     0       2.190777           1        1  \n",
       "3        3.936169     0       1.725860           1        1  \n",
       "4        3.709910     0       0.883104           1        1  "
      ]
     },
     "execution_count": 22,
     "metadata": {},
     "output_type": "execute_result"
    }
   ],
   "source": [
    "#import pre_processed train dataset\n",
    "train = pd.read_csv('train_preprocessed.csv', index_col=0)\n",
    "print('train shape: ' + str(train.shape))\n",
    "train.head()"
   ]
  },
  {
   "cell_type": "code",
   "execution_count": 23,
   "metadata": {},
   "outputs": [
    {
     "name": "stdout",
     "output_type": "stream",
     "text": [
      "test shape: (160000, 13)\n"
     ]
    },
    {
     "data": {
      "text/html": [
       "<div>\n",
       "<style scoped>\n",
       "    .dataframe tbody tr th:only-of-type {\n",
       "        vertical-align: middle;\n",
       "    }\n",
       "\n",
       "    .dataframe tbody tr th {\n",
       "        vertical-align: top;\n",
       "    }\n",
       "\n",
       "    .dataframe thead th {\n",
       "        text-align: right;\n",
       "    }\n",
       "</style>\n",
       "<table border=\"1\" class=\"dataframe\">\n",
       "  <thead>\n",
       "    <tr style=\"text-align: right;\">\n",
       "      <th></th>\n",
       "      <th>minority</th>\n",
       "      <th>sex</th>\n",
       "      <th>ZIP</th>\n",
       "      <th>rent</th>\n",
       "      <th>education</th>\n",
       "      <th>age</th>\n",
       "      <th>income</th>\n",
       "      <th>loan_size</th>\n",
       "      <th>payment_timing</th>\n",
       "      <th>job_stability</th>\n",
       "      <th>year</th>\n",
       "      <th>occupation</th>\n",
       "      <th>default</th>\n",
       "    </tr>\n",
       "  </thead>\n",
       "  <tbody>\n",
       "    <tr>\n",
       "      <th>0</th>\n",
       "      <td>1</td>\n",
       "      <td>0</td>\n",
       "      <td>1</td>\n",
       "      <td>1</td>\n",
       "      <td>51.265723</td>\n",
       "      <td>25.710781</td>\n",
       "      <td>166455.209729</td>\n",
       "      <td>8064.951996</td>\n",
       "      <td>3.874735</td>\n",
       "      <td>43.764963</td>\n",
       "      <td>30</td>\n",
       "      <td>1</td>\n",
       "      <td>1</td>\n",
       "    </tr>\n",
       "    <tr>\n",
       "      <th>1</th>\n",
       "      <td>0</td>\n",
       "      <td>0</td>\n",
       "      <td>1</td>\n",
       "      <td>0</td>\n",
       "      <td>58.882849</td>\n",
       "      <td>39.689510</td>\n",
       "      <td>216752.885725</td>\n",
       "      <td>7166.701945</td>\n",
       "      <td>3.809001</td>\n",
       "      <td>46.903977</td>\n",
       "      <td>30</td>\n",
       "      <td>0</td>\n",
       "      <td>0</td>\n",
       "    </tr>\n",
       "    <tr>\n",
       "      <th>2</th>\n",
       "      <td>0</td>\n",
       "      <td>0</td>\n",
       "      <td>1</td>\n",
       "      <td>0</td>\n",
       "      <td>56.504545</td>\n",
       "      <td>25.847324</td>\n",
       "      <td>183764.480788</td>\n",
       "      <td>3322.045258</td>\n",
       "      <td>3.497214</td>\n",
       "      <td>63.453467</td>\n",
       "      <td>30</td>\n",
       "      <td>0</td>\n",
       "      <td>0</td>\n",
       "    </tr>\n",
       "    <tr>\n",
       "      <th>3</th>\n",
       "      <td>1</td>\n",
       "      <td>0</td>\n",
       "      <td>1</td>\n",
       "      <td>1</td>\n",
       "      <td>47.074111</td>\n",
       "      <td>26.381109</td>\n",
       "      <td>154057.004978</td>\n",
       "      <td>15.223904</td>\n",
       "      <td>3.535370</td>\n",
       "      <td>56.243840</td>\n",
       "      <td>30</td>\n",
       "      <td>1</td>\n",
       "      <td>0</td>\n",
       "    </tr>\n",
       "    <tr>\n",
       "      <th>4</th>\n",
       "      <td>1</td>\n",
       "      <td>0</td>\n",
       "      <td>1</td>\n",
       "      <td>1</td>\n",
       "      <td>48.916960</td>\n",
       "      <td>18.779902</td>\n",
       "      <td>143463.038107</td>\n",
       "      <td>7860.534547</td>\n",
       "      <td>3.663330</td>\n",
       "      <td>49.884194</td>\n",
       "      <td>30</td>\n",
       "      <td>1</td>\n",
       "      <td>0</td>\n",
       "    </tr>\n",
       "  </tbody>\n",
       "</table>\n",
       "</div>"
      ],
      "text/plain": [
       "   minority  sex  ZIP  rent  education        age         income    loan_size  \\\n",
       "0         1    0    1     1  51.265723  25.710781  166455.209729  8064.951996   \n",
       "1         0    0    1     0  58.882849  39.689510  216752.885725  7166.701945   \n",
       "2         0    0    1     0  56.504545  25.847324  183764.480788  3322.045258   \n",
       "3         1    0    1     1  47.074111  26.381109  154057.004978    15.223904   \n",
       "4         1    0    1     1  48.916960  18.779902  143463.038107  7860.534547   \n",
       "\n",
       "   payment_timing  job_stability  year  occupation  default  \n",
       "0        3.874735      43.764963    30           1        1  \n",
       "1        3.809001      46.903977    30           0        0  \n",
       "2        3.497214      63.453467    30           0        0  \n",
       "3        3.535370      56.243840    30           1        0  \n",
       "4        3.663330      49.884194    30           1        0  "
      ]
     },
     "execution_count": 23,
     "metadata": {},
     "output_type": "execute_result"
    }
   ],
   "source": [
    "#import pre_processed test dataset\n",
    "test = pd.read_csv('test_preprocessed.csv', index_col=0)\n",
    "print('test shape: ' + str(test.shape))\n",
    "test.head()"
   ]
  },
  {
   "cell_type": "markdown",
   "metadata": {},
   "source": [
    "### Modify train and test dataset\n",
    "\n",
    "**Terminology:**\n",
    "- Bias dataset = dataset that contains ZIP, rent, job_stability and occupation variables\n",
    "- Non-Bias dataset = dataset that does **NOT** contain ZIP, rent, jot_stability and occupation variables\n",
    "- default variable = is our target variables\n",
    "- minority variable = is our protected group (we're trying to identify bias caused by minority)\n",
    "\n",
    "**Note**\n",
    "- We drop sex variable since it is a protected group. Thus, we're not allowed to use sex in our model. Also, we're focusing on bias caused by minority and not sex."
   ]
  },
  {
   "cell_type": "code",
   "execution_count": 24,
   "metadata": {},
   "outputs": [],
   "source": [
    "#train dataset\n",
    "X_tr_nob = train.drop(['default', 'minority', 'rent', 'job_stability', 'occupation', 'sex', 'ZIP'], axis=1)\n",
    "X_tr_bias = train.drop(['default', 'minority', 'sex'], axis=1)\n",
    "y_train= train['default']\n",
    "\n",
    "#test dataset\n",
    "X_te_nob = test.drop(['default', 'minority', 'rent', 'job_stability', 'occupation', 'sex', 'ZIP'], axis=1)\n",
    "X_te_bias = test.drop(['default', 'minority', 'sex'], axis=1)\n",
    "y_test = test['default']"
   ]
  },
  {
   "cell_type": "code",
   "execution_count": 25,
   "metadata": {},
   "outputs": [],
   "source": [
    "#Scale X train/test Bias\n",
    "scaler = StandardScaler()\n",
    "X_fit_bias = scaler.fit(X_tr_bias)\n",
    "\n",
    "X_train_bias = X_fit_bias.transform(X_tr_bias)\n",
    "X_test_bias = X_fit_bias.transform(X_te_bias)\n",
    "\n",
    "#Scale X train/test Non-Bias\n",
    "X_fit_nob = scaler.fit(X_tr_nob)\n",
    "\n",
    "X_train_nob = X_fit_nob.transform(X_tr_nob)\n",
    "X_test_nob = X_fit_nob.transform(X_te_nob)"
   ]
  },
  {
   "cell_type": "markdown",
   "metadata": {},
   "source": [
    "# 1. Linear classification: Base Model\n",
    "\n",
    "Linear classification (LogisticRegression) will serve as our base model. We will compare results (accuracy) to deep learning model"
   ]
  },
  {
   "cell_type": "code",
   "execution_count": 26,
   "metadata": {},
   "outputs": [
    {
     "name": "stdout",
     "output_type": "stream",
     "text": [
      "Accuracy with bias: 37.01%\n",
      "Accuracy with no bias: 41.49%\n"
     ]
    }
   ],
   "source": [
    "#bias\n",
    "lr_bias = LogisticRegression(solver='lbfgs', random_state=seed)\n",
    "lr_bias.fit(X_train_bias, y_train)\n",
    "\n",
    "y_pred_lr_bias = lr_bias.predict(X_test_bias)\n",
    "accuracy_lr_bias = accuracy_score(y_pred_lr_bias, y_test)\n",
    "\n",
    "\n",
    "#no bias\n",
    "lr_nob = LogisticRegression(solver='lbfgs', random_state=seed)\n",
    "lr_nob.fit(X_train_nob, y_train)\n",
    "\n",
    "y_pred_lr_nob = lr_nob.predict(X_test_nob)\n",
    "accuracy_lr_nob = accuracy_score(y_pred_lr_nob, y_test)\n",
    "\n",
    "#print accuracy\n",
    "print('Accuracy with bias: ' + str(round(accuracy_lr_bias*100,2)) + '%')\n",
    "print('Accuracy with no bias: ' + str(round(accuracy_lr_nob*100,2)) + '%')"
   ]
  },
  {
   "cell_type": "code",
   "execution_count": 27,
   "metadata": {},
   "outputs": [
    {
     "name": "stdout",
     "output_type": "stream",
     "text": [
      "Bias classification report\n",
      "              precision    recall  f1-score   support\n",
      "\n",
      "           0       0.82      0.33      0.47    136055\n",
      "           1       0.13      0.58      0.22     23945\n",
      "\n",
      "    accuracy                           0.37    160000\n",
      "   macro avg       0.48      0.46      0.34    160000\n",
      "weighted avg       0.72      0.37      0.44    160000\n",
      "\n"
     ]
    }
   ],
   "source": [
    "#print classification report - BIAS\n",
    "print('Bias classification report')\n",
    "print(classification_report(y_test, y_pred_lr_bias))"
   ]
  },
  {
   "cell_type": "code",
   "execution_count": 28,
   "metadata": {},
   "outputs": [
    {
     "name": "stdout",
     "output_type": "stream",
     "text": [
      "Non-Bias classification report\n",
      "              precision    recall  f1-score   support\n",
      "\n",
      "           0       0.84      0.38      0.53    136055\n",
      "           1       0.14      0.59      0.23     23945\n",
      "\n",
      "    accuracy                           0.41    160000\n",
      "   macro avg       0.49      0.49      0.38    160000\n",
      "weighted avg       0.74      0.41      0.48    160000\n",
      "\n"
     ]
    }
   ],
   "source": [
    "#print classification report - NO BIAS\n",
    "print('Non-Bias classification report')\n",
    "print(classification_report(y_test, y_pred_lr_nob))"
   ]
  },
  {
   "cell_type": "markdown",
   "metadata": {},
   "source": [
    "# 2. Deep Learning"
   ]
  },
  {
   "cell_type": "code",
   "execution_count": 29,
   "metadata": {},
   "outputs": [],
   "source": [
    "import keras\n",
    "from keras.models import Sequential\n",
    "from keras.layers import Activation, Dense, Dropout"
   ]
  },
  {
   "cell_type": "code",
   "execution_count": 30,
   "metadata": {},
   "outputs": [
    {
     "name": "stderr",
     "output_type": "stream",
     "text": [
      "/Users/Rolf/anaconda3/lib/python3.7/site-packages/sklearn/utils/validation.py:71: FutureWarning: Pass classes=[0 1], y=0       1\n",
      "1       1\n",
      "2       1\n",
      "3       1\n",
      "4       1\n",
      "       ..\n",
      "7995    0\n",
      "7996    0\n",
      "7997    0\n",
      "7998    0\n",
      "7999    0\n",
      "Name: default, Length: 471136, dtype: int64 as keyword args. From version 0.25 passing these as positional arguments will result in an error\n",
      "  FutureWarning)\n"
     ]
    }
   ],
   "source": [
    "#stop if no improvement in loss after 3 epochs\n",
    "es_callback = keras.callbacks.EarlyStopping(monitor='loss', patience=5)\n",
    "\n",
    "#class weight\n",
    "class_weights = class_weight.compute_class_weight('balanced',\n",
    "                                                 np.unique(y_train),\n",
    "                                                 y_train)"
   ]
  },
  {
   "cell_type": "code",
   "execution_count": 44,
   "metadata": {},
   "outputs": [],
   "source": [
    "def create_model(df):\n",
    "    ## Initialize model.\n",
    "    model = Sequential() #if you want a recurrent NN, then specify here Recurrent()\n",
    "\n",
    "    ## 1st Layer\n",
    "    model.add(Dense(64, input_dim=df.shape[1]))\n",
    "    model.add(Activation('relu'))\n",
    "    model.add(Dropout(0.6)) #50% of neurons are de-activated randomly per batch. helps with generalisation.\n",
    "\n",
    "    ## 2nd Layer\n",
    "    model.add(Dense(32))\n",
    "    model.add(Activation('relu'))\n",
    "    model.add(Dropout(0.5)) #dropout number is arbitrary. trail and error. \n",
    "\n",
    "    ## Adding Softmax Layer\n",
    "    model.add(Dense(1))\n",
    "    model.add(Activation('sigmoid')) #softmax used for classification. softmax = [0,1]\n",
    "\n",
    "    ## Define loss function\n",
    "    model.compile(loss='binary_crossentropy', optimizer='adam', metrics=['accuracy'], weighted_metrics=['accuracy'])\n",
    "\n",
    "    return model"
   ]
  },
  {
   "cell_type": "markdown",
   "metadata": {},
   "source": [
    "### Cross-validation\n",
    "\n",
    "Inspired by the code on this website: \n",
    "https://machinelearningmastery.com/evaluate-performance-deep-learning-models-keras/"
   ]
  },
  {
   "cell_type": "code",
   "execution_count": 15,
   "metadata": {},
   "outputs": [],
   "source": [
    "#Cross-validation\n",
    "\n",
    "# define 5-fold cross validation test harness\n",
    "kfold = StratifiedKFold(n_splits=5, shuffle=True, random_state=seed)\n",
    "\n",
    "def kfold_validation(X, y):\n",
    "\n",
    "    X_df = pd.DataFrame(X)\n",
    "    cvscores = []\n",
    "    \n",
    "    for train, test in kfold.split(X_df, y):\n",
    "        model = create_model(X_df)\n",
    "        model.fit(X_df.iloc[train], y.iloc[train], epochs=20, batch_size=1000, shuffle=True, verbose=0, \n",
    "                  callbacks=[es_callback], class_weight=class_weights)\n",
    "        scores = model.evaluate(X_df.iloc[test], y.iloc[test], verbose=0)\n",
    "        \n",
    "        print(\"%s: %.2f%%\" % (model.metrics_names[1], scores[1]*100))\n",
    "        cvscores.append(scores[1] * 100)\n",
    "        \n",
    "    print(\"%.2f%% (+/- %.2f%%)\" % (np.mean(cvscores), np.std(cvscores)))\n",
    "    \n",
    "    return model"
   ]
  },
  {
   "cell_type": "markdown",
   "metadata": {},
   "source": [
    "## Model with BIAS"
   ]
  },
  {
   "cell_type": "code",
   "execution_count": 16,
   "metadata": {},
   "outputs": [
    {
     "name": "stdout",
     "output_type": "stream",
     "text": [
      "accuracy: 99.98%\n",
      "accuracy: 99.98%\n",
      "accuracy: 99.98%\n",
      "accuracy: 99.99%\n",
      "accuracy: 99.99%\n",
      "99.98% (+/- 0.00%)\n"
     ]
    }
   ],
   "source": [
    "#cross-validaiton\n",
    "FNN_bias = kfold_validation(X_train_bias, y_train)"
   ]
  },
  {
   "cell_type": "code",
   "execution_count": 37,
   "metadata": {
    "collapsed": true
   },
   "outputs": [
    {
     "name": "stdout",
     "output_type": "stream",
     "text": [
      "Train on 471136 samples, validate on 160000 samples\n",
      "Epoch 1/20\n",
      " - 2s - loss: 0.0550 - accuracy: 0.9841 - accuracy_1: 0.9841 - val_loss: 3.0682 - val_accuracy: 0.4860 - val_accuracy_1: 0.4860\n",
      "Epoch 2/20\n",
      " - 2s - loss: 0.0037 - accuracy: 0.9996 - accuracy_1: 0.9996 - val_loss: 4.2869 - val_accuracy: 0.4570 - val_accuracy_1: 0.4570\n",
      "Epoch 3/20\n",
      " - 2s - loss: 0.0029 - accuracy: 0.9997 - accuracy_1: 0.9997 - val_loss: 4.2766 - val_accuracy: 0.4787 - val_accuracy_1: 0.4787\n",
      "Epoch 4/20\n",
      " - 2s - loss: 0.0024 - accuracy: 0.9998 - accuracy_1: 0.9998 - val_loss: 5.3033 - val_accuracy: 0.4643 - val_accuracy_1: 0.4643\n",
      "Epoch 5/20\n",
      " - 2s - loss: 0.0023 - accuracy: 0.9998 - accuracy_1: 0.9998 - val_loss: 4.7763 - val_accuracy: 0.5062 - val_accuracy_1: 0.5062\n",
      "Epoch 6/20\n",
      " - 2s - loss: 0.0022 - accuracy: 0.9998 - accuracy_1: 0.9998 - val_loss: 5.6940 - val_accuracy: 0.4838 - val_accuracy_1: 0.4838\n",
      "Epoch 7/20\n",
      " - 2s - loss: 0.0022 - accuracy: 0.9998 - accuracy_1: 0.9998 - val_loss: 5.0810 - val_accuracy: 0.5272 - val_accuracy_1: 0.5272\n",
      "Epoch 8/20\n",
      " - 2s - loss: 0.0020 - accuracy: 0.9998 - accuracy_1: 0.9998 - val_loss: 6.8031 - val_accuracy: 0.4662 - val_accuracy_1: 0.4662\n",
      "Epoch 9/20\n",
      " - 2s - loss: 0.0019 - accuracy: 0.9998 - accuracy_1: 0.9998 - val_loss: 6.8790 - val_accuracy: 0.4714 - val_accuracy_1: 0.4714\n",
      "Epoch 10/20\n",
      " - 2s - loss: 0.0019 - accuracy: 0.9998 - accuracy_1: 0.9998 - val_loss: 6.5213 - val_accuracy: 0.4707 - val_accuracy_1: 0.4707\n",
      "Epoch 11/20\n",
      " - 2s - loss: 0.0018 - accuracy: 0.9998 - accuracy_1: 0.9998 - val_loss: 6.5398 - val_accuracy: 0.4909 - val_accuracy_1: 0.4909\n",
      "Epoch 12/20\n",
      " - 2s - loss: 0.0019 - accuracy: 0.9998 - accuracy_1: 0.9998 - val_loss: 5.7946 - val_accuracy: 0.5370 - val_accuracy_1: 0.5370\n",
      "Epoch 13/20\n",
      " - 2s - loss: 0.0017 - accuracy: 0.9998 - accuracy_1: 0.9998 - val_loss: 6.1182 - val_accuracy: 0.5315 - val_accuracy_1: 0.5315\n",
      "Epoch 14/20\n",
      " - 2s - loss: 0.0017 - accuracy: 0.9998 - accuracy_1: 0.9998 - val_loss: 6.6931 - val_accuracy: 0.5194 - val_accuracy_1: 0.5194\n",
      "Epoch 15/20\n",
      " - 2s - loss: 0.0017 - accuracy: 0.9998 - accuracy_1: 0.9998 - val_loss: 5.9434 - val_accuracy: 0.5642 - val_accuracy_1: 0.5642\n",
      "Epoch 16/20\n",
      " - 2s - loss: 0.0016 - accuracy: 0.9998 - accuracy_1: 0.9998 - val_loss: 5.9261 - val_accuracy: 0.5797 - val_accuracy_1: 0.5797\n",
      "Epoch 17/20\n",
      " - 2s - loss: 0.0016 - accuracy: 0.9998 - accuracy_1: 0.9998 - val_loss: 6.5161 - val_accuracy: 0.5517 - val_accuracy_1: 0.5517\n",
      "Epoch 18/20\n",
      " - 2s - loss: 0.0016 - accuracy: 0.9998 - accuracy_1: 0.9998 - val_loss: 7.4560 - val_accuracy: 0.5152 - val_accuracy_1: 0.5152\n",
      "Epoch 19/20\n",
      " - 2s - loss: 0.0015 - accuracy: 0.9998 - accuracy_1: 0.9998 - val_loss: 5.9173 - val_accuracy: 0.5830 - val_accuracy_1: 0.5830\n",
      "Epoch 20/20\n",
      " - 2s - loss: 0.0014 - accuracy: 0.9998 - accuracy_1: 0.9998 - val_loss: 5.5788 - val_accuracy: 0.6047 - val_accuracy_1: 0.6047\n"
     ]
    },
    {
     "data": {
      "text/plain": [
       "<keras.callbacks.callbacks.History at 0x14be3ef98>"
      ]
     },
     "execution_count": 37,
     "metadata": {},
     "output_type": "execute_result"
    }
   ],
   "source": [
    "#the kfold model is giving wierd results. \n",
    "#thus, switching to this model\n",
    "#I think issue stems from stratifiedKfold not working, i.e. I'm doing something wrong\n",
    "FNN_bias = create_model(X_train_bias)\n",
    "FNN_bias.fit(X_train_bias, y_train, epochs=20, batch_size=1000, shuffle=True, verbose=2, callbacks=[es_callback],\n",
    "           class_weight=class_weights, validation_data=(X_test_bias, y_test))"
   ]
  },
  {
   "cell_type": "code",
   "execution_count": 38,
   "metadata": {},
   "outputs": [
    {
     "name": "stdout",
     "output_type": "stream",
     "text": [
      "Bias classification report\n",
      "              precision    recall  f1-score   support\n",
      "\n",
      "           0       0.87      0.63      0.73    136055\n",
      "           1       0.17      0.44      0.25     23945\n",
      "\n",
      "    accuracy                           0.60    160000\n",
      "   macro avg       0.52      0.54      0.49    160000\n",
      "weighted avg       0.76      0.60      0.66    160000\n",
      "\n"
     ]
    }
   ],
   "source": [
    "#predict default with test dataset\n",
    "y_pred_bias = FNN_bias.predict_classes(X_test_bias)\n",
    "\n",
    "print('Bias classification report')\n",
    "print(classification_report(y_test, y_pred_bias))\n",
    "print()\n",
    "\n",
    "print('Bias confusion matrix')\n",
    "print(confusion_matrix(y_test, y_pred_nob))"
   ]
  },
  {
   "cell_type": "markdown",
   "metadata": {},
   "source": [
    "## Model with NO-BIAS"
   ]
  },
  {
   "cell_type": "code",
   "execution_count": 19,
   "metadata": {},
   "outputs": [
    {
     "name": "stdout",
     "output_type": "stream",
     "text": [
      "accuracy: 50.02%\n",
      "accuracy: 50.01%\n",
      "accuracy: 50.01%\n",
      "accuracy: 50.02%\n",
      "accuracy: 49.78%\n",
      "49.97% (+/- 0.09%)\n"
     ]
    }
   ],
   "source": [
    "#cross-validation\n",
    "FNN_nob = kfold_validation(X_train_nob, y_train)"
   ]
  },
  {
   "cell_type": "code",
   "execution_count": 52,
   "metadata": {
    "collapsed": true
   },
   "outputs": [
    {
     "name": "stdout",
     "output_type": "stream",
     "text": [
      "WARNING:tensorflow:Large dropout rate: 0.6 (>0.5). In TensorFlow 2.x, dropout() uses dropout rate instead of keep_prob. Please ensure that this is intended.\n",
      "Train on 471136 samples, validate on 160000 samples\n",
      "Epoch 1/5\n",
      " - 2s - loss: 0.6980 - accuracy: 0.4992 - accuracy_1: 0.4992 - val_loss: 0.6980 - val_accuracy: 0.1924 - val_accuracy_1: 0.1924\n",
      "Epoch 2/5\n",
      " - 2s - loss: 0.6934 - accuracy: 0.5005 - accuracy_1: 0.5005 - val_loss: 0.6989 - val_accuracy: 0.1497 - val_accuracy_1: 0.1497\n",
      "Epoch 3/5\n",
      " - 2s - loss: 0.6932 - accuracy: 0.4992 - accuracy_1: 0.4992 - val_loss: 0.6923 - val_accuracy: 0.6156 - val_accuracy_1: 0.6156\n",
      "Epoch 4/5\n",
      " - 2s - loss: 0.6932 - accuracy: 0.4988 - accuracy_1: 0.4988 - val_loss: 0.6913 - val_accuracy: 0.8377 - val_accuracy_1: 0.8377\n",
      "Epoch 5/5\n",
      " - 2s - loss: 0.6932 - accuracy: 0.5001 - accuracy_1: 0.5001 - val_loss: 0.6921 - val_accuracy: 0.8321 - val_accuracy_1: 0.8321\n"
     ]
    },
    {
     "data": {
      "text/plain": [
       "<keras.callbacks.callbacks.History at 0x14f63feb8>"
      ]
     },
     "execution_count": 52,
     "metadata": {},
     "output_type": "execute_result"
    }
   ],
   "source": [
    "#the kfold model is giving wierd results. \n",
    "#thus, switching to this model\n",
    "#I think issue stems from stratifiedKfold not working, i.e. I'm doing something wrong\n",
    "FNN_nob_ = create_model(X_train_nob)\n",
    "FNN_nob_.fit(X_train_nob, y_train,  epochs=5, shuffle=True, batch_size=1000, verbose=2, callbacks=[es_callback],\n",
    "            validation_data=(X_test_nob, y_test))"
   ]
  },
  {
   "cell_type": "code",
   "execution_count": 50,
   "metadata": {},
   "outputs": [
    {
     "name": "stdout",
     "output_type": "stream",
     "text": [
      "Non-Bias classification report\n",
      "              precision    recall  f1-score   support\n",
      "\n",
      "           0       0.85      1.00      0.92    136055\n",
      "           1       0.00      0.00      0.00     23945\n",
      "\n",
      "    accuracy                           0.85    160000\n",
      "   macro avg       0.43      0.50      0.46    160000\n",
      "weighted avg       0.72      0.85      0.78    160000\n",
      "\n",
      "\n",
      "Non-Bias confusion matrix\n",
      "[[136055      0]\n",
      " [ 23945      0]]\n"
     ]
    }
   ],
   "source": [
    "#predict default with test dataset\n",
    "y_pred_nob = FNN_nob.predict_classes(X_test_nob)\n",
    "\n",
    "print('Non-Bias classification report')\n",
    "print(classification_report(y_test, y_pred_nob))\n",
    "print()\n",
    "\n",
    "print('Non-Bias confusion matrix')\n",
    "print(confusion_matrix(y_test, y_pred_nob))"
   ]
  },
  {
   "cell_type": "markdown",
   "metadata": {},
   "source": [
    "# 3. Fairness of model \n",
    "\n",
    "We will use three metrics to identify bias:\n",
    "1. Demographic Parity \n",
    "    - Positive rate\n",
    "2. Equal Opportunity \n",
    "    - True positive rate\n",
    "3. Equalised Odds \n",
    "    - Combination of true positive rate and true negative rate"
   ]
  },
  {
   "cell_type": "code",
   "execution_count": 62,
   "metadata": {},
   "outputs": [],
   "source": [
    "#function to split train and test dataset into 4 groups\n",
    "# Minority + Default\n",
    "# Minority + No-default\n",
    "# Non-Minority + Default\n",
    "# Non-Minority + No-default\n",
    "\n",
    "#these groups are needed to calculate fairness metrics\n",
    "\n",
    "\n",
    "def bias_analysis(X_test_df, y_test_df, df_column_names, model, bias, minority):\n",
    "    \"\"\" \n",
    "    X_test_df = X_test after StandardScaler transformation\n",
    "    y_test_df = y_test \n",
    "    df_columns_names = X_test dataframe before StandardScaler transformation\n",
    "    model = deep learning model\n",
    "    bias = 0 or 1\n",
    "    minority = 0 or 1\n",
    "    \"\"\"\n",
    "    \n",
    "    #join minority variable to X and y dataframes to differentiate between minority and non-minority\n",
    "    X_test_min = np.concatenate((X_test_df, \n",
    "                                 test['minority'].values.reshape(-1,1)), \n",
    "                                axis=1)\n",
    "    y_test_min = np.concatenate((y_test_df.values.reshape(-1,1),\n",
    "                                 test['minority'].values.reshape(-1,1)), \n",
    "                                axis=1)\n",
    "    \n",
    "    #column headings for dataframe that will be converted from array\n",
    "    columns = np.insert(df_column_names.columns, X_test_df.shape[1], 'minority')\n",
    "    \n",
    "    #convert numpy array to dataframe\n",
    "    df_X_test = pd.DataFrame(X_test_min, columns=columns)\n",
    "    df_y_test = pd.DataFrame(y_test_min, columns=['default','minority'])\n",
    "    \n",
    "    #subset minority==1, minority group\n",
    "    X_minority = df_X_test[df_X_test['minority']==minority].values\n",
    "    y_minority = df_y_test[df_y_test['minority']==minority].values\n",
    "    \n",
    "    #predict y\n",
    "    y_pred_minority = model.predict_classes(X_minority[:,:X_test_df.shape[1]])\n",
    "\n",
    "    #evaluate accuracy\n",
    "    loss_dl_min, accuracy_dl_min, accuracy_weighted_dl_min = model.evaluate(X_minority[:,:X_test_df.shape[1]], \n",
    "                                                                            y_minority[:,0])\n",
    "    \n",
    "    confusion = confusion_matrix(y_minority[:,0], y_pred_minority)\n",
    "    \n",
    "    if bias == 1:\n",
    "        if minority == 1:\n",
    "        \n",
    "            print('Test loss bias minority: ' + str(round(loss_dl_min, 2)))\n",
    "            print('Test accuracy bias minority: ' + str(round(accuracy_dl_min*100, 2)) + '%')\n",
    "\n",
    "            print()\n",
    "\n",
    "            return confusion\n",
    "\n",
    "        else:\n",
    "\n",
    "            print('Test loss bias non-minority: ' + str(round(loss_dl_min, 2)))\n",
    "            print('Test accuracy bias non-minority: ' + str(round(accuracy_dl_min*100, 2)) + '%')\n",
    "\n",
    "            print()\n",
    "\n",
    "            return confusion\n",
    "      \n",
    "    #bias=0\n",
    "    if bias == 0:\n",
    "        if minority == 1:\n",
    "\n",
    "            print('Test loss non-bias minority: ' + str(round(loss_dl_min, 2)))\n",
    "            print('Test accuracy non-bias minority: ' + str(round(accuracy_dl_min*100, 2)) + '%')\n",
    "\n",
    "            print()\n",
    "\n",
    "            return confusion\n",
    "\n",
    "        else:\n",
    "            \n",
    "            print('Test loss non-bias non-minority: ' + str(round(loss_dl_min, 2)))\n",
    "            print('Test accuracy non-bias non-minority: ' + str(round(accuracy_dl_min*100, 2)) + '%')\n",
    "\n",
    "            print()\n",
    "\n",
    "            return confusion\n",
    "        \n",
    "    if bias==2:\n",
    "                    \n",
    "            print('Test loss downsampled non-minority: ' + str(round(loss_dl_min, 2)))\n",
    "            print('Test accuracy downsampled non-minority: ' + str(round(accuracy_dl_min*100, 2)) + '%')\n",
    "\n",
    "            print()\n",
    "\n",
    "            return confusion"
   ]
  },
  {
   "cell_type": "code",
   "execution_count": 63,
   "metadata": {},
   "outputs": [],
   "source": [
    "#function to reduce confusion regarding which variales to use in bias_analysis function\n",
    "\n",
    "def bias_check(bias, minority):\n",
    "    \"\"\"\n",
    "    bias = 0 or 1\n",
    "        bias==1 means dataset is biased\n",
    "    minority = 0 or 1\n",
    "        minority==1 means minority is analysed\n",
    "        \n",
    "    bias ==2 \n",
    "        when train dataset has been downsampled\n",
    "\n",
    "    \"\"\"\n",
    "    \n",
    "    if bias == 1:\n",
    "        result = bias_analysis(X_test_bias, y_test, X_te_bias, FNN_bias, bias=bias, minority=minority)\n",
    "        return result\n",
    "    \n",
    "    if bias == 0:\n",
    "        result = bias_analysis(X_test_nob, y_test, X_te_nob, FNN_nob, bias=bias, minority=minority)\n",
    "        return result\n",
    "    \n",
    "    if bias == 2:\n",
    "        result = bias_analysis(X_test_bias, y_test, X_te_bias, FNN_ds, bias=bias, minority=minority)"
   ]
  },
  {
   "cell_type": "markdown",
   "metadata": {},
   "source": [
    "### Calculate confusion martrix\n",
    "\n",
    "Confusion matrix is needed to calculate fp, tn, fn, tp, which are needed to calculate fairness metrics"
   ]
  },
  {
   "cell_type": "code",
   "execution_count": null,
   "metadata": {},
   "outputs": [],
   "source": [
    "#confusion matrix for BIAS and Minority\n",
    "confusion_bias_minority = bias_check(bias=1, minority=1)"
   ]
  },
  {
   "cell_type": "code",
   "execution_count": null,
   "metadata": {},
   "outputs": [],
   "source": [
    "#confusion matrix for BIAS and Non-Minority\n",
    "confusion_bias_non_minority = bias_check(bias=1, minority=0)"
   ]
  },
  {
   "cell_type": "code",
   "execution_count": null,
   "metadata": {},
   "outputs": [],
   "source": [
    "#confusion matrix for Non-BIAS and Minority\n",
    "confusion_non_bias_minority = bias_check(bias=0, minority=1)"
   ]
  },
  {
   "cell_type": "code",
   "execution_count": null,
   "metadata": {},
   "outputs": [],
   "source": [
    "#confusion matrix for Non-Bias and Non-Minority\n",
    "confusion_non_bias_non_minority = bias_check(bias=0, minority=0)"
   ]
  },
  {
   "cell_type": "markdown",
   "metadata": {},
   "source": [
    "# Demographic Parity"
   ]
  },
  {
   "cell_type": "markdown",
   "metadata": {},
   "source": [
    "Demographic parity is achieved when the positive rate in minority and non-minority are similar. Positive in our case means default. We assume a 5% difference between minority and non-minority to mean that they are similar. \n",
    "\n",
    "According to Demographic Parity:\n",
    "- **Bias** dataset is not fair.\n",
    "\n",
    "- **Non-Bias** dataset is fair."
   ]
  },
  {
   "cell_type": "markdown",
   "metadata": {},
   "source": [
    "Really good article explaining fairness measures in ML\n",
    "https://towardsdatascience.com/how-to-define-fairness-to-detect-and-prevent-discriminatory-outcomes-in-machine-learning-ef23fd408ef2"
   ]
  },
  {
   "cell_type": "markdown",
   "metadata": {},
   "source": [
    "<img src=images/demographic_parity.png>"
   ]
  },
  {
   "cell_type": "code",
   "execution_count": 64,
   "metadata": {},
   "outputs": [],
   "source": [
    "#function to calculate demographic parity\n",
    "\n",
    "def demographic_parity(result, bias=0, minority=0):\n",
    "    \"\"\"\n",
    "    bias = 0 or 1\n",
    "        bias==1 means dataset is biased\n",
    "    minority = 0 or 1\n",
    "        minority==1 means minority is analysed\n",
    "\n",
    "    \"\"\"\n",
    "    \n",
    "    tn, fp, fn, tp = result.ravel()\n",
    "    #tn, fp, fn, tp = bias_check(bias, minority).ravel()\n",
    "    \n",
    "    temp = (fp + tp) / (tn + fp + fn + tp)\n",
    "    demo_parity = round(temp*100, 2) \n",
    "    \n",
    "    if bias == 1:\n",
    "        if minority == 0:\n",
    "            print('Demographic parity for bias non-minority: ' + str(demo_parity) + '%')\n",
    "\n",
    "        \n",
    "        else: \n",
    "            print('Demographic parity for bias minority: ' + str(demo_parity) + '%')\n",
    "   \n",
    "    if bias == 0:\n",
    "        if minority == 0:\n",
    "            print('Demographic parity for non-bias non-minority: ' + str(demo_parity) + '%')    \n",
    "            \n",
    "        else: \n",
    "            print('Demographic parity for non-bias minority: ' + str(demo_parity) + '%')  \n",
    "            \n",
    "    if bias == 2:\n",
    "        if minority == 0:\n",
    "            print('Demographic parity for downsampled non-minority: ' + str(demo_parity) + '%')    \n",
    "            \n",
    "        else: \n",
    "            print('Demographic parity for downsampled minority: ' + str(demo_parity) + '%')  \n",
    "            "
   ]
  },
  {
   "cell_type": "code",
   "execution_count": 65,
   "metadata": {},
   "outputs": [
    {
     "ename": "NameError",
     "evalue": "name 'confusion_bias_minority' is not defined",
     "output_type": "error",
     "traceback": [
      "\u001b[0;31m---------------------------------------------------------------------------\u001b[0m",
      "\u001b[0;31mNameError\u001b[0m                                 Traceback (most recent call last)",
      "\u001b[0;32m<ipython-input-65-267b7ef76bd2>\u001b[0m in \u001b[0;36m<module>\u001b[0;34m\u001b[0m\n\u001b[1;32m      1\u001b[0m \u001b[0;31m#BIAS\u001b[0m\u001b[0;34m\u001b[0m\u001b[0;34m\u001b[0m\u001b[0;34m\u001b[0m\u001b[0m\n\u001b[0;32m----> 2\u001b[0;31m \u001b[0mdemographic_parity\u001b[0m\u001b[0;34m(\u001b[0m\u001b[0mconfusion_bias_minority\u001b[0m\u001b[0;34m,\u001b[0m \u001b[0mbias\u001b[0m\u001b[0;34m=\u001b[0m\u001b[0;36m1\u001b[0m\u001b[0;34m,\u001b[0m \u001b[0mminority\u001b[0m\u001b[0;34m=\u001b[0m\u001b[0;36m1\u001b[0m\u001b[0;34m)\u001b[0m\u001b[0;34m\u001b[0m\u001b[0;34m\u001b[0m\u001b[0m\n\u001b[0m\u001b[1;32m      3\u001b[0m \u001b[0mdemographic_parity\u001b[0m\u001b[0;34m(\u001b[0m\u001b[0mconfusion_bias_non_minority\u001b[0m\u001b[0;34m,\u001b[0m \u001b[0mbias\u001b[0m\u001b[0;34m=\u001b[0m\u001b[0;36m1\u001b[0m\u001b[0;34m,\u001b[0m \u001b[0mminority\u001b[0m\u001b[0;34m=\u001b[0m\u001b[0;36m0\u001b[0m\u001b[0;34m)\u001b[0m\u001b[0;34m\u001b[0m\u001b[0;34m\u001b[0m\u001b[0m\n",
      "\u001b[0;31mNameError\u001b[0m: name 'confusion_bias_minority' is not defined"
     ]
    }
   ],
   "source": [
    "#BIAS\n",
    "demographic_parity(confusion_bias_minority, bias=1, minority=1)\n",
    "demographic_parity(confusion_bias_non_minority, bias=1, minority=0)"
   ]
  },
  {
   "cell_type": "code",
   "execution_count": null,
   "metadata": {},
   "outputs": [],
   "source": [
    "#Non-BIAS\n",
    "demographic_parity(confusion_non_bias_minority, bias=0, minority=1)\n",
    "demographic_parity(confusion_non_bias_non_minority, bias=0, minority=0)"
   ]
  },
  {
   "cell_type": "markdown",
   "metadata": {},
   "source": [
    "# Equal Opportunity"
   ]
  },
  {
   "cell_type": "markdown",
   "metadata": {},
   "source": [
    "Equal Opportunity is achieved when the true positive rate in minority and non-minority are similar. Positive in our case means default. We assume a 5% difference between minority and non-minority to mean that they are similar. \n",
    "\n",
    "According to Equal Opportunity:\n",
    "- **Bias** dataset is not fair.\n",
    "\n",
    "- **Non-Bias** dataset is fair."
   ]
  },
  {
   "cell_type": "markdown",
   "metadata": {},
   "source": [
    "<img src=images/equal_opportunity.png>"
   ]
  },
  {
   "cell_type": "code",
   "execution_count": 66,
   "metadata": {},
   "outputs": [],
   "source": [
    "#function to calculate equal opportunity\n",
    "def equal_opportunity(result, bias=0, minority=0):\n",
    "    \"\"\"\n",
    "    bias = 0 or 1\n",
    "        bias==1 means dataset is biased\n",
    "    minority = 0 or 1\n",
    "        minority==1 means minority is analysed\n",
    "\n",
    "    \"\"\"\n",
    "    \n",
    "    tn, fp, fn, tp = result.ravel()\n",
    "    #tn, fp, fn, tp = bias_check(bias, minority).ravel()\n",
    "    \n",
    "    temp = tp / (fn + tp)\n",
    "    equal_opportunity = round(temp*100, 2) \n",
    "    \n",
    "    if bias == 1:\n",
    "        if minority == 0:\n",
    "            print('Equal opportunity for bias non-minority: ' + str(equal_opportunity) + '%')\n",
    "\n",
    "        \n",
    "        else: \n",
    "            print('Equal opportunity for bias minority: ' + str(equal_opportunity) + '%')\n",
    "\n",
    "    \n",
    "    if bias == 0:\n",
    "        if minority == 0:\n",
    "            print('Equal opportunity for non-bias non-minority: ' + str(equal_opportunity) + '%')\n",
    "\n",
    "        \n",
    "        else: \n",
    "            print('Equal opportunity for non-bias minority: ' + str(equal_opportunity) + '%')\n",
    "\n",
    "        \n",
    "    if bias==2:\n",
    "        if minority == 0:\n",
    "            print('Equal opportunity for downsampled non-minority: ' + str(equal_opportunity) + '%')\n",
    "\n",
    "        \n",
    "        else: \n",
    "            print('Equal opportunity for downsampled minority: ' + str(equal_opportunity) + '%')\n"
   ]
  },
  {
   "cell_type": "code",
   "execution_count": null,
   "metadata": {},
   "outputs": [],
   "source": [
    "#BIAS\n",
    "equal_opportunity(confusion_bias_minority, bias=1, minority=1)\n",
    "equal_opportunity(confusion_bias_non_minority, bias=1, minority=0)"
   ]
  },
  {
   "cell_type": "code",
   "execution_count": null,
   "metadata": {},
   "outputs": [],
   "source": [
    "#Non-BIAS\n",
    "equal_opportunity(confusion_non_bias_minority, bias=0, minority=1)\n",
    "equal_opportunity(confusion_non_bias_non_minority, bias=0, minority=0)"
   ]
  },
  {
   "cell_type": "markdown",
   "metadata": {},
   "source": [
    "# Equalised Odds"
   ]
  },
  {
   "cell_type": "markdown",
   "metadata": {},
   "source": [
    "Equalised Odds is achieved when the true positive rate and the true negative rate in minority and non-minority are similar. Positive in our case means default. We assume a 5% difference between minority and non-minority to mean that they are similar. \n",
    "\n",
    "According to Equalised Odds:\n",
    "- **Bias** dataset is not fair.\n",
    "\n",
    "- **Non-Bias** dataset is fair."
   ]
  },
  {
   "cell_type": "markdown",
   "metadata": {},
   "source": [
    "<img src=images/equalised_odds.png>"
   ]
  },
  {
   "cell_type": "code",
   "execution_count": 67,
   "metadata": {},
   "outputs": [],
   "source": [
    "#function to calculate equlaised odds\n",
    "def equalised_odds(result, bias=0, minority=0):\n",
    "    \"\"\"\n",
    "    bias = 0 or 1\n",
    "        bias==1 means dataset is biased\n",
    "    minority = 0 or 1\n",
    "        minority==1 means minority is analysed\n",
    "\n",
    "    \"\"\"\n",
    "    \n",
    "    tn, fp, fn, tp = result.ravel()\n",
    "    #tn, fp, fn, tp = bias_check(bias, minority).ravel()\n",
    "    \n",
    "    temp = tp / (fn + tp)\n",
    "    true_positive_rate = round(temp*100, 2)\n",
    "    \n",
    "    temp = tn / (fp + tn)\n",
    "    true_negative_rate = round(temp*100, 2)\n",
    "    \n",
    "    if bias == 1:\n",
    "        if minority == 0:\n",
    "            print()\n",
    "            print('True positive rate for bias non-minority: ' + str(true_positive_rate) + '%')\n",
    "            print('True negative rate for bias non-minority: ' + str(true_negative_rate) + '%')\n",
    "\n",
    "        \n",
    "        else: \n",
    "            print()\n",
    "            print('True positive rate for bias minority: ' + str(true_positive_rate) + '%')\n",
    "            print('True negative rate for bias minority: ' + str(true_negative_rate) + '%')\n",
    "\n",
    "    \n",
    "    if bias == 0:\n",
    "        if minority == 0:\n",
    "            print()\n",
    "            print('True positive rate for non-bias non-minority: ' + str(true_positive_rate) + '%')\n",
    "            print('True negative rate for non-bias non-minority: ' + str(true_negative_rate) + '%')\n",
    "\n",
    "        \n",
    "        else: \n",
    "            print()\n",
    "            print('True positive rate for non-bias minority: ' + str(true_positive_rate) + '%')\n",
    "            print('True negative rate for non-bias minority: ' + str(true_negative_rate) + '%')\n",
    "\n",
    "        \n",
    "    if bias==2:\n",
    "        if minority == 0:\n",
    "            print()\n",
    "            print('True positive rate for downsampled non-minority: ' + str(true_positive_rate) + '%')\n",
    "            print('True negative rate for downsampled non-minority: ' + str(true_negative_rate) + '%')\n",
    "\n",
    "        \n",
    "        else: \n",
    "            print()\n",
    "            print('True positive rate for downsampled minority: ' + str(true_positive_rate) + '%')\n",
    "            print('True negative rate for downsampled minority: ' + str(true_negative_rate) + '%')        "
   ]
  },
  {
   "cell_type": "code",
   "execution_count": null,
   "metadata": {},
   "outputs": [],
   "source": [
    "#BIAS\n",
    "equalised_odds(confusion_bias_minority, bias=1, minority=1)\n",
    "equalised_odds(confusion_bias_non_minority, bias=1, minority=0)\n",
    "\n",
    "#Non-BIAS\n",
    "equalised_odds(confusion_non_bias_minority, bias=0, minority=1)\n",
    "equalised_odds(confusion_non_bias_non_minority, bias=0, minority=0)"
   ]
  },
  {
   "cell_type": "markdown",
   "metadata": {},
   "source": [
    "# Results Discussion\n",
    "\n",
    "Overall, the bias dataset is biased (not fair) since none of the above metrics (demographic parity, equal opportunity, or equalised odds) are within 5% difference. \n",
    "\n",
    "The non-bias dataset is deemed to be fair according to the above metrics (demographic parity, equal opportunity, and equalised odds) since all results are within 5% difference. This proves our hypothesis that removing the biased variables (ZIP, rent, job_stability and occupation) does remove bias, i.e. makes the model fairer. \n",
    "\n",
    "However, removing four variables might reduce accuracy (lose signal) and not be in a business's interest. Therefore, we will try another approach, down-sampling, to reduce bias and keep the four variables."
   ]
  },
  {
   "cell_type": "code",
   "execution_count": null,
   "metadata": {},
   "outputs": [],
   "source": []
  },
  {
   "cell_type": "markdown",
   "metadata": {},
   "source": [
    "# 4. Down-sampled Train Dataset\n",
    "\n",
    "With down-sampling, we aim to retain the four variables (ZIP, rent, job_stability and occupation), which are the cause of bias in our train dataset, and at the same time reduce bias.\n",
    "\n",
    "We hope to reduce bias by down-sampling the train dataset to have 50% positive rate (default rate) in minority and non-minority group. To achieve this we will down-sample the following to 250 cases (we use 250 cases sine it is the small common denominator among the four groups):\n",
    "- Minority and default = 250 cases\n",
    "- Minority and non-default = 250 cases\n",
    "- Non-Minority and default = 250 cases\n",
    "- Non-Minority and default = 250 cases\n",
    "\n",
    "Overall, we will have a down-sampled train dataset with 1'000 cases (rows). "
   ]
  },
  {
   "cell_type": "markdown",
   "metadata": {},
   "source": [
    "Inspired by this website for downsampling:\n",
    "https://elitedatascience.com/imbalanced-classes"
   ]
  },
  {
   "cell_type": "code",
   "execution_count": 53,
   "metadata": {},
   "outputs": [
    {
     "name": "stdout",
     "output_type": "stream",
     "text": [
      "1    500\n",
      "0    500\n",
      "Name: minority, dtype: int64\n"
     ]
    },
    {
     "data": {
      "text/plain": [
       "minority  default\n",
       "0         0          250\n",
       "          1          250\n",
       "1         0          250\n",
       "          1          250\n",
       "Name: minority, dtype: int64"
      ]
     },
     "execution_count": 53,
     "metadata": {},
     "output_type": "execute_result"
    }
   ],
   "source": [
    "#downsampling\n",
    "\n",
    "\n",
    "# Separate majority and minority classes\n",
    "df_non_minority_0 = train[(train['minority']==0) & (train['default']==0)]\n",
    "df_non_minority_1 = train[(train['minority']==0) & (train['default']==1)]\n",
    "\n",
    "df_minority_0 = train[(train['minority']==1) & (train['default']==0)]\n",
    "df_minority_1 = train[(train['minority']==1) & (train['default']==1)]\n",
    " \n",
    "\n",
    "# Downsample non_minority, default == 0\n",
    "df_non_minority_0_downsampled = resample(df_non_minority_0, \n",
    "                                         replace=False,    # sample without replacement\n",
    "                                         n_samples=250,     # to match minority class\n",
    "                                         random_state=seed) # reproducible results\n",
    "\n",
    "# Downsample non_minority, default == 1\n",
    "df_non_minority_1_downsampled = resample(df_non_minority_1, \n",
    "                                         replace=False,    # sample without replacement\n",
    "                                         n_samples=250,     # to match minority class\n",
    "                                         random_state=seed) # reproducible results\n",
    "\n",
    "# Downsample minority, default == 1\n",
    "df_minority_1_downsampled = resample(df_minority_1, \n",
    "                                         replace=False,    # sample without replacement\n",
    "                                         n_samples=250,     # to match minority class\n",
    "                                         random_state=seed) # reproducible results\n",
    "\n",
    "# Combine minority class with downsampled majority class\n",
    "df_downsampled = pd.concat([df_non_minority_0_downsampled,\n",
    "                            df_non_minority_1_downsampled,\n",
    "                            df_minority_0,\n",
    "                            df_minority_1_downsampled\n",
    "                           ])\n",
    " \n",
    "# Display new class counts\n",
    "print(df_downsampled['minority'].value_counts())\n",
    "\n",
    "#Display distribution for minority, default\n",
    "df_downsampled.groupby([\"minority\", \"default\"])[\"minority\"].count()"
   ]
  },
  {
   "cell_type": "code",
   "execution_count": 55,
   "metadata": {},
   "outputs": [],
   "source": [
    "#create dataframe with independent variables (X) and indepedent variable (y)\n",
    "X_ds = df_downsampled.drop(['default', 'minority', 'sex'], axis=1)\n",
    "y_downsampled = df_downsampled['default']\n",
    "\n",
    "#Scale X train/test bias\n",
    "scaler = StandardScaler()\n",
    "X_fit_bias_ds = scaler.fit(X_ds)\n",
    "\n",
    "X_downsampled = X_fit_bias_ds.transform(X_ds)"
   ]
  },
  {
   "cell_type": "markdown",
   "metadata": {},
   "source": [
    "## LogisticRegression - Down-sampled"
   ]
  },
  {
   "cell_type": "code",
   "execution_count": 56,
   "metadata": {},
   "outputs": [
    {
     "name": "stdout",
     "output_type": "stream",
     "text": [
      "LogisticRegression accuracy with downsampled dataset: 36.82%\n",
      "\n",
      "              precision    recall  f1-score   support\n",
      "\n",
      "           0       0.84      0.32      0.46    136055\n",
      "           1       0.14      0.65      0.24     23945\n",
      "\n",
      "    accuracy                           0.37    160000\n",
      "   macro avg       0.49      0.48      0.35    160000\n",
      "weighted avg       0.73      0.37      0.43    160000\n",
      "\n"
     ]
    }
   ],
   "source": [
    "#Logistic Regression\n",
    "\n",
    "lr_ds = LogisticRegression(solver='lbfgs')\n",
    "lr_ds.fit(X_downsampled, y_downsampled)\n",
    "\n",
    "y_pred_ds = lr_ds.predict(X_test_bias)\n",
    "accuracy_lr_ds = accuracy_score(y_pred_ds, y_test)\n",
    "\n",
    "\n",
    "#print accuracy\n",
    "print('LogisticRegression accuracy with downsampled dataset: ' + str(round(accuracy_lr_ds*100,2)) + '%')\n",
    "print()\n",
    "\n",
    "#print classification report\n",
    "print(classification_report(y_test, y_pred_ds))"
   ]
  },
  {
   "cell_type": "markdown",
   "metadata": {},
   "source": [
    "## Deep learning - Down-sampled"
   ]
  },
  {
   "cell_type": "code",
   "execution_count": 57,
   "metadata": {},
   "outputs": [
    {
     "ename": "NameError",
     "evalue": "name 'kfold_validation' is not defined",
     "output_type": "error",
     "traceback": [
      "\u001b[0;31m---------------------------------------------------------------------------\u001b[0m",
      "\u001b[0;31mNameError\u001b[0m                                 Traceback (most recent call last)",
      "\u001b[0;32m<ipython-input-57-433518847951>\u001b[0m in \u001b[0;36m<module>\u001b[0;34m\u001b[0m\n\u001b[1;32m      1\u001b[0m \u001b[0;31m#train deep learning model with 5-kfold validation\u001b[0m\u001b[0;34m\u001b[0m\u001b[0;34m\u001b[0m\u001b[0;34m\u001b[0m\u001b[0m\n\u001b[0;32m----> 2\u001b[0;31m \u001b[0mFNN_ds\u001b[0m \u001b[0;34m=\u001b[0m \u001b[0mkfold_validation\u001b[0m\u001b[0;34m(\u001b[0m\u001b[0mX_downsampled\u001b[0m\u001b[0;34m,\u001b[0m \u001b[0my_downsampled\u001b[0m\u001b[0;34m)\u001b[0m\u001b[0;34m\u001b[0m\u001b[0;34m\u001b[0m\u001b[0m\n\u001b[0m",
      "\u001b[0;31mNameError\u001b[0m: name 'kfold_validation' is not defined"
     ]
    }
   ],
   "source": [
    "#train deep learning model with 5-kfold validation\n",
    "FNN_ds = kfold_validation(X_downsampled, y_downsampled)"
   ]
  },
  {
   "cell_type": "code",
   "execution_count": 59,
   "metadata": {
    "collapsed": true
   },
   "outputs": [
    {
     "name": "stdout",
     "output_type": "stream",
     "text": [
      "Train on 1000 samples, validate on 160000 samples\n",
      "Epoch 1/100\n",
      " - 0s - loss: 0.6863 - accuracy: 0.5730 - accuracy_1: 0.5730 - val_loss: 0.7013 - val_accuracy: 0.4620 - val_accuracy_1: 0.4620\n",
      "Epoch 2/100\n",
      " - 0s - loss: 0.6903 - accuracy: 0.5790 - accuracy_1: 0.5790 - val_loss: 0.6923 - val_accuracy: 0.5118 - val_accuracy_1: 0.5118\n",
      "Epoch 3/100\n",
      " - 0s - loss: 0.6756 - accuracy: 0.5830 - accuracy_1: 0.5830 - val_loss: 0.6821 - val_accuracy: 0.5647 - val_accuracy_1: 0.5647\n",
      "Epoch 4/100\n",
      " - 0s - loss: 0.6577 - accuracy: 0.6270 - accuracy_1: 0.6270 - val_loss: 0.6727 - val_accuracy: 0.6112 - val_accuracy_1: 0.6112\n",
      "Epoch 5/100\n",
      " - 0s - loss: 0.6747 - accuracy: 0.5950 - accuracy_1: 0.5950 - val_loss: 0.6642 - val_accuracy: 0.6492 - val_accuracy_1: 0.6492\n",
      "Epoch 6/100\n",
      " - 0s - loss: 0.6476 - accuracy: 0.6470 - accuracy_1: 0.6470 - val_loss: 0.6558 - val_accuracy: 0.6781 - val_accuracy_1: 0.6781\n",
      "Epoch 7/100\n",
      " - 0s - loss: 0.6294 - accuracy: 0.6360 - accuracy_1: 0.6360 - val_loss: 0.6476 - val_accuracy: 0.6981 - val_accuracy_1: 0.6981\n",
      "Epoch 8/100\n",
      " - 0s - loss: 0.6366 - accuracy: 0.6590 - accuracy_1: 0.6590 - val_loss: 0.6394 - val_accuracy: 0.7112 - val_accuracy_1: 0.7112\n",
      "Epoch 9/100\n",
      " - 0s - loss: 0.6087 - accuracy: 0.6770 - accuracy_1: 0.6770 - val_loss: 0.6312 - val_accuracy: 0.7196 - val_accuracy_1: 0.7196\n",
      "Epoch 10/100\n",
      " - 0s - loss: 0.6097 - accuracy: 0.6920 - accuracy_1: 0.6920 - val_loss: 0.6237 - val_accuracy: 0.7247 - val_accuracy_1: 0.7247\n",
      "Epoch 11/100\n",
      " - 0s - loss: 0.6206 - accuracy: 0.6590 - accuracy_1: 0.6590 - val_loss: 0.6171 - val_accuracy: 0.7279 - val_accuracy_1: 0.7279\n",
      "Epoch 12/100\n",
      " - 0s - loss: 0.6195 - accuracy: 0.6660 - accuracy_1: 0.6660 - val_loss: 0.6106 - val_accuracy: 0.7305 - val_accuracy_1: 0.7305\n",
      "Epoch 13/100\n",
      " - 0s - loss: 0.6005 - accuracy: 0.6780 - accuracy_1: 0.6780 - val_loss: 0.6039 - val_accuracy: 0.7331 - val_accuracy_1: 0.7331\n",
      "Epoch 14/100\n",
      " - 0s - loss: 0.5895 - accuracy: 0.6840 - accuracy_1: 0.6840 - val_loss: 0.5980 - val_accuracy: 0.7346 - val_accuracy_1: 0.7346\n",
      "Epoch 15/100\n",
      " - 0s - loss: 0.5676 - accuracy: 0.7280 - accuracy_1: 0.7280 - val_loss: 0.5930 - val_accuracy: 0.7353 - val_accuracy_1: 0.7353\n",
      "Epoch 16/100\n",
      " - 0s - loss: 0.5757 - accuracy: 0.7160 - accuracy_1: 0.7160 - val_loss: 0.5877 - val_accuracy: 0.7362 - val_accuracy_1: 0.7362\n",
      "Epoch 17/100\n",
      " - 0s - loss: 0.5493 - accuracy: 0.7180 - accuracy_1: 0.7180 - val_loss: 0.5826 - val_accuracy: 0.7370 - val_accuracy_1: 0.7370\n",
      "Epoch 18/100\n",
      " - 0s - loss: 0.5614 - accuracy: 0.7150 - accuracy_1: 0.7150 - val_loss: 0.5777 - val_accuracy: 0.7375 - val_accuracy_1: 0.7375\n",
      "Epoch 19/100\n",
      " - 0s - loss: 0.5611 - accuracy: 0.7230 - accuracy_1: 0.7230 - val_loss: 0.5736 - val_accuracy: 0.7379 - val_accuracy_1: 0.7379\n",
      "Epoch 20/100\n",
      " - 0s - loss: 0.5642 - accuracy: 0.7370 - accuracy_1: 0.7370 - val_loss: 0.5699 - val_accuracy: 0.7378 - val_accuracy_1: 0.7378\n",
      "Epoch 21/100\n",
      " - 0s - loss: 0.5419 - accuracy: 0.7470 - accuracy_1: 0.7470 - val_loss: 0.5669 - val_accuracy: 0.7373 - val_accuracy_1: 0.7373\n",
      "Epoch 22/100\n",
      " - 0s - loss: 0.5143 - accuracy: 0.7830 - accuracy_1: 0.7830 - val_loss: 0.5643 - val_accuracy: 0.7367 - val_accuracy_1: 0.7367\n",
      "Epoch 23/100\n",
      " - 0s - loss: 0.5227 - accuracy: 0.7540 - accuracy_1: 0.7540 - val_loss: 0.5616 - val_accuracy: 0.7362 - val_accuracy_1: 0.7362\n",
      "Epoch 24/100\n",
      " - 0s - loss: 0.5151 - accuracy: 0.7550 - accuracy_1: 0.7550 - val_loss: 0.5588 - val_accuracy: 0.7360 - val_accuracy_1: 0.7360\n",
      "Epoch 25/100\n",
      " - 0s - loss: 0.5006 - accuracy: 0.7710 - accuracy_1: 0.7710 - val_loss: 0.5568 - val_accuracy: 0.7352 - val_accuracy_1: 0.7352\n",
      "Epoch 26/100\n",
      " - 0s - loss: 0.4900 - accuracy: 0.7990 - accuracy_1: 0.7990 - val_loss: 0.5550 - val_accuracy: 0.7346 - val_accuracy_1: 0.7346\n",
      "Epoch 27/100\n",
      " - 0s - loss: 0.5047 - accuracy: 0.7780 - accuracy_1: 0.7780 - val_loss: 0.5532 - val_accuracy: 0.7339 - val_accuracy_1: 0.7339\n",
      "Epoch 28/100\n",
      " - 0s - loss: 0.4930 - accuracy: 0.7930 - accuracy_1: 0.7930 - val_loss: 0.5516 - val_accuracy: 0.7333 - val_accuracy_1: 0.7333\n",
      "Epoch 29/100\n",
      " - 0s - loss: 0.4781 - accuracy: 0.8070 - accuracy_1: 0.8070 - val_loss: 0.5500 - val_accuracy: 0.7327 - val_accuracy_1: 0.7327\n",
      "Epoch 30/100\n",
      " - 0s - loss: 0.4833 - accuracy: 0.7900 - accuracy_1: 0.7900 - val_loss: 0.5491 - val_accuracy: 0.7320 - val_accuracy_1: 0.7320\n",
      "Epoch 31/100\n",
      " - 0s - loss: 0.4753 - accuracy: 0.8010 - accuracy_1: 0.8010 - val_loss: 0.5483 - val_accuracy: 0.7313 - val_accuracy_1: 0.7313\n",
      "Epoch 32/100\n",
      " - 0s - loss: 0.4732 - accuracy: 0.8090 - accuracy_1: 0.8090 - val_loss: 0.5476 - val_accuracy: 0.7307 - val_accuracy_1: 0.7307\n",
      "Epoch 33/100\n",
      " - 0s - loss: 0.4721 - accuracy: 0.8020 - accuracy_1: 0.8020 - val_loss: 0.5472 - val_accuracy: 0.7302 - val_accuracy_1: 0.7302\n",
      "Epoch 34/100\n",
      " - 0s - loss: 0.4595 - accuracy: 0.8130 - accuracy_1: 0.8130 - val_loss: 0.5471 - val_accuracy: 0.7294 - val_accuracy_1: 0.7294\n",
      "Epoch 35/100\n",
      " - 0s - loss: 0.4552 - accuracy: 0.8110 - accuracy_1: 0.8110 - val_loss: 0.5475 - val_accuracy: 0.7289 - val_accuracy_1: 0.7289\n",
      "Epoch 36/100\n",
      " - 0s - loss: 0.4489 - accuracy: 0.8140 - accuracy_1: 0.8140 - val_loss: 0.5482 - val_accuracy: 0.7281 - val_accuracy_1: 0.7281\n",
      "Epoch 37/100\n",
      " - 0s - loss: 0.4356 - accuracy: 0.8190 - accuracy_1: 0.8190 - val_loss: 0.5492 - val_accuracy: 0.7275 - val_accuracy_1: 0.7275\n",
      "Epoch 38/100\n",
      " - 0s - loss: 0.4457 - accuracy: 0.8290 - accuracy_1: 0.8290 - val_loss: 0.5505 - val_accuracy: 0.7266 - val_accuracy_1: 0.7266\n",
      "Epoch 39/100\n",
      " - 0s - loss: 0.4384 - accuracy: 0.8310 - accuracy_1: 0.8310 - val_loss: 0.5516 - val_accuracy: 0.7261 - val_accuracy_1: 0.7261\n",
      "Epoch 40/100\n",
      " - 0s - loss: 0.4264 - accuracy: 0.8470 - accuracy_1: 0.8470 - val_loss: 0.5535 - val_accuracy: 0.7254 - val_accuracy_1: 0.7254\n",
      "Epoch 41/100\n",
      " - 0s - loss: 0.4171 - accuracy: 0.8490 - accuracy_1: 0.8490 - val_loss: 0.5554 - val_accuracy: 0.7247 - val_accuracy_1: 0.7247\n",
      "Epoch 42/100\n",
      " - 0s - loss: 0.4198 - accuracy: 0.8410 - accuracy_1: 0.8410 - val_loss: 0.5573 - val_accuracy: 0.7242 - val_accuracy_1: 0.7242\n",
      "Epoch 43/100\n",
      " - 0s - loss: 0.3903 - accuracy: 0.8580 - accuracy_1: 0.8580 - val_loss: 0.5601 - val_accuracy: 0.7234 - val_accuracy_1: 0.7234\n",
      "Epoch 44/100\n",
      " - 0s - loss: 0.3833 - accuracy: 0.8570 - accuracy_1: 0.8570 - val_loss: 0.5634 - val_accuracy: 0.7226 - val_accuracy_1: 0.7226\n",
      "Epoch 45/100\n",
      " - 0s - loss: 0.3927 - accuracy: 0.8410 - accuracy_1: 0.8410 - val_loss: 0.5667 - val_accuracy: 0.7219 - val_accuracy_1: 0.7219\n",
      "Epoch 46/100\n",
      " - 0s - loss: 0.3817 - accuracy: 0.8430 - accuracy_1: 0.8430 - val_loss: 0.5705 - val_accuracy: 0.7213 - val_accuracy_1: 0.7213\n",
      "Epoch 47/100\n",
      " - 0s - loss: 0.3933 - accuracy: 0.8520 - accuracy_1: 0.8520 - val_loss: 0.5751 - val_accuracy: 0.7205 - val_accuracy_1: 0.7205\n",
      "Epoch 48/100\n",
      " - 0s - loss: 0.3872 - accuracy: 0.8490 - accuracy_1: 0.8490 - val_loss: 0.5799 - val_accuracy: 0.7198 - val_accuracy_1: 0.7198\n",
      "Epoch 49/100\n",
      " - 0s - loss: 0.3924 - accuracy: 0.8510 - accuracy_1: 0.8510 - val_loss: 0.5844 - val_accuracy: 0.7192 - val_accuracy_1: 0.7192\n",
      "Epoch 50/100\n",
      " - 0s - loss: 0.3614 - accuracy: 0.8730 - accuracy_1: 0.8730 - val_loss: 0.5880 - val_accuracy: 0.7186 - val_accuracy_1: 0.7186\n",
      "Epoch 51/100\n",
      " - 0s - loss: 0.3563 - accuracy: 0.8610 - accuracy_1: 0.8610 - val_loss: 0.5930 - val_accuracy: 0.7180 - val_accuracy_1: 0.7180\n",
      "Epoch 52/100\n",
      " - 0s - loss: 0.3704 - accuracy: 0.8630 - accuracy_1: 0.8630 - val_loss: 0.5980 - val_accuracy: 0.7175 - val_accuracy_1: 0.7175\n",
      "Epoch 53/100\n",
      " - 0s - loss: 0.3698 - accuracy: 0.8730 - accuracy_1: 0.8730 - val_loss: 0.6035 - val_accuracy: 0.7168 - val_accuracy_1: 0.7168\n",
      "Epoch 54/100\n",
      " - 0s - loss: 0.3421 - accuracy: 0.8730 - accuracy_1: 0.8730 - val_loss: 0.6083 - val_accuracy: 0.7160 - val_accuracy_1: 0.7160\n",
      "Epoch 55/100\n",
      " - 0s - loss: 0.3551 - accuracy: 0.8680 - accuracy_1: 0.8680 - val_loss: 0.6132 - val_accuracy: 0.7154 - val_accuracy_1: 0.7154\n",
      "Epoch 56/100\n",
      " - 0s - loss: 0.3559 - accuracy: 0.8630 - accuracy_1: 0.8630 - val_loss: 0.6178 - val_accuracy: 0.7146 - val_accuracy_1: 0.7146\n",
      "Epoch 57/100\n",
      " - 0s - loss: 0.3483 - accuracy: 0.8610 - accuracy_1: 0.8610 - val_loss: 0.6222 - val_accuracy: 0.7140 - val_accuracy_1: 0.7140\n",
      "Epoch 58/100\n",
      " - 0s - loss: 0.3446 - accuracy: 0.8740 - accuracy_1: 0.8740 - val_loss: 0.6260 - val_accuracy: 0.7136 - val_accuracy_1: 0.7136\n"
     ]
    },
    {
     "name": "stdout",
     "output_type": "stream",
     "text": [
      "Epoch 59/100\n",
      " - 0s - loss: 0.3342 - accuracy: 0.8720 - accuracy_1: 0.8720 - val_loss: 0.6290 - val_accuracy: 0.7134 - val_accuracy_1: 0.7134\n",
      "Epoch 60/100\n",
      " - 0s - loss: 0.3173 - accuracy: 0.8870 - accuracy_1: 0.8870 - val_loss: 0.6331 - val_accuracy: 0.7129 - val_accuracy_1: 0.7129\n",
      "Epoch 61/100\n",
      " - 0s - loss: 0.3374 - accuracy: 0.8650 - accuracy_1: 0.8650 - val_loss: 0.6368 - val_accuracy: 0.7123 - val_accuracy_1: 0.7123\n",
      "Epoch 62/100\n",
      " - 0s - loss: 0.3194 - accuracy: 0.8730 - accuracy_1: 0.8730 - val_loss: 0.6404 - val_accuracy: 0.7119 - val_accuracy_1: 0.7119\n",
      "Epoch 63/100\n",
      " - 0s - loss: 0.3072 - accuracy: 0.8720 - accuracy_1: 0.8720 - val_loss: 0.6435 - val_accuracy: 0.7117 - val_accuracy_1: 0.7117\n",
      "Epoch 64/100\n",
      " - 0s - loss: 0.3181 - accuracy: 0.8770 - accuracy_1: 0.8770 - val_loss: 0.6473 - val_accuracy: 0.7112 - val_accuracy_1: 0.7112\n",
      "Epoch 65/100\n",
      " - 0s - loss: 0.3052 - accuracy: 0.8770 - accuracy_1: 0.8770 - val_loss: 0.6508 - val_accuracy: 0.7107 - val_accuracy_1: 0.7107\n",
      "Epoch 66/100\n",
      " - 0s - loss: 0.2903 - accuracy: 0.8820 - accuracy_1: 0.8820 - val_loss: 0.6552 - val_accuracy: 0.7102 - val_accuracy_1: 0.7102\n",
      "Epoch 67/100\n",
      " - 0s - loss: 0.3231 - accuracy: 0.8780 - accuracy_1: 0.8780 - val_loss: 0.6590 - val_accuracy: 0.7097 - val_accuracy_1: 0.7097\n",
      "Epoch 68/100\n",
      " - 0s - loss: 0.2996 - accuracy: 0.8800 - accuracy_1: 0.8800 - val_loss: 0.6637 - val_accuracy: 0.7089 - val_accuracy_1: 0.7089\n",
      "Epoch 69/100\n",
      " - 0s - loss: 0.2933 - accuracy: 0.8870 - accuracy_1: 0.8870 - val_loss: 0.6678 - val_accuracy: 0.7084 - val_accuracy_1: 0.7084\n",
      "Epoch 70/100\n",
      " - 0s - loss: 0.3060 - accuracy: 0.8710 - accuracy_1: 0.8710 - val_loss: 0.6723 - val_accuracy: 0.7076 - val_accuracy_1: 0.7076\n",
      "Epoch 71/100\n",
      " - 0s - loss: 0.2973 - accuracy: 0.8760 - accuracy_1: 0.8760 - val_loss: 0.6774 - val_accuracy: 0.7067 - val_accuracy_1: 0.7067\n"
     ]
    },
    {
     "data": {
      "text/plain": [
       "<keras.callbacks.callbacks.History at 0x14f951ef0>"
      ]
     },
     "execution_count": 59,
     "metadata": {},
     "output_type": "execute_result"
    }
   ],
   "source": [
    "#the kfold model is giving wierd results. \n",
    "#thus, switching to this model\n",
    "#I think issue stems from stratifiedKfold not working, i.e. I'm doing something wrong\n",
    "FNN_ds = create_model(X_downsampled)\n",
    "FNN_ds.fit(X_downsampled, y_downsampled, epochs=100, batch_size=1000, shuffle=True, verbose=2, callbacks=[es_callback],\n",
    "           class_weight=class_weights, validation_data=(X_test_bias, y_test))"
   ]
  },
  {
   "cell_type": "code",
   "execution_count": 60,
   "metadata": {
    "collapsed": true
   },
   "outputs": [
    {
     "name": "stdout",
     "output_type": "stream",
     "text": [
      "Deep Learning accuracy with downsampled dataset: 70.67%\n",
      "\n",
      "              precision    recall  f1-score   support\n",
      "\n",
      "           0       0.90      0.74      0.81    136055\n",
      "           1       0.26      0.54      0.35     23945\n",
      "\n",
      "    accuracy                           0.71    160000\n",
      "   macro avg       0.58      0.64      0.58    160000\n",
      "weighted avg       0.80      0.71      0.74    160000\n",
      "\n",
      "\n",
      "Down-sampled confusion matrix\n",
      "[[136055      0]\n",
      " [ 23945      0]]\n"
     ]
    }
   ],
   "source": [
    "#accuracy of downsampled dataset on test dataset\n",
    "y_pred_dl_ds = FNN_ds.predict_classes(X_test_bias, verbose=0)\n",
    "\n",
    "accuracy_dl_ds = accuracy_score(y_pred_dl_ds, y_test)\n",
    "\n",
    "#print accuracy\n",
    "print('Deep Learning accuracy with downsampled dataset: ' + str(round(accuracy_dl_ds*100,2)) + '%')\n",
    "print()\n",
    "\n",
    "print(classification_report(y_test, y_pred_dl_ds))\n",
    "\n",
    "print()\n",
    "\n",
    "print('Down-sampled confusion matrix')\n",
    "print(confusion_matrix(y_test, y_pred_nob))"
   ]
  },
  {
   "cell_type": "markdown",
   "metadata": {},
   "source": [
    "## Fairness - Identifying Bias"
   ]
  },
  {
   "cell_type": "code",
   "execution_count": 68,
   "metadata": {},
   "outputs": [
    {
     "name": "stdout",
     "output_type": "stream",
     "text": [
      "80348/80348 [==============================] - 2s 19us/step\n",
      "Test loss downsampled non-minority: 0.55\n",
      "Test accuracy downsampled non-minority: 72.67%\n",
      "\n"
     ]
    }
   ],
   "source": [
    "#calculate confusion matrix\n",
    "confusion_ds_minority = bias_analysis(X_test_bias, y_test, X_te_bias, FNN_ds, bias=2, minority=1)"
   ]
  },
  {
   "cell_type": "code",
   "execution_count": 69,
   "metadata": {},
   "outputs": [
    {
     "name": "stdout",
     "output_type": "stream",
     "text": [
      "79652/79652 [==============================] - 2s 21us/step\n",
      "Test loss downsampled non-minority: 0.81\n",
      "Test accuracy downsampled non-minority: 68.65%\n",
      "\n"
     ]
    }
   ],
   "source": [
    "confusion_ds_non_minority = bias_analysis(X_test_bias, y_test, X_te_bias, FNN_ds, bias=2, minority=0)"
   ]
  },
  {
   "cell_type": "markdown",
   "metadata": {},
   "source": [
    "### Demographic Parity - Downsampled"
   ]
  },
  {
   "cell_type": "code",
   "execution_count": 70,
   "metadata": {},
   "outputs": [
    {
     "name": "stdout",
     "output_type": "stream",
     "text": [
      "Demographic parity for downsampled minority: 25.88%\n"
     ]
    }
   ],
   "source": [
    "#demographic parity for downsampled minority\n",
    "demographic_parity(confusion_ds_minority, bias=2, minority=1)"
   ]
  },
  {
   "cell_type": "code",
   "execution_count": 71,
   "metadata": {},
   "outputs": [
    {
     "name": "stdout",
     "output_type": "stream",
     "text": [
      "Demographic parity for downsampled non-minority: 34.93%\n"
     ]
    }
   ],
   "source": [
    "#demographic parity for downsampled non-minority\n",
    "demographic_parity(confusion_ds_non_minority, bias=2, minority=0)"
   ]
  },
  {
   "cell_type": "markdown",
   "metadata": {},
   "source": [
    "### Equal Opportunity - Downsampled"
   ]
  },
  {
   "cell_type": "code",
   "execution_count": 72,
   "metadata": {},
   "outputs": [
    {
     "name": "stdout",
     "output_type": "stream",
     "text": [
      "Equal opportunity for downsampled minority: 45.18%\n"
     ]
    }
   ],
   "source": [
    "#equal opportunity for downsampled minority. \n",
    "equal_opportunity(confusion_ds_minority, bias=2, minority=1)"
   ]
  },
  {
   "cell_type": "code",
   "execution_count": 73,
   "metadata": {},
   "outputs": [
    {
     "name": "stdout",
     "output_type": "stream",
     "text": [
      "Equal opportunity for downsampled non-minority: 61.99%\n"
     ]
    }
   ],
   "source": [
    "#equal opportunity for downsampled non-minority. \n",
    "equal_opportunity(confusion_ds_non_minority, bias=2, minority=0)"
   ]
  },
  {
   "cell_type": "markdown",
   "metadata": {},
   "source": [
    "### Equalised Odds - Downsampled"
   ]
  },
  {
   "cell_type": "code",
   "execution_count": 74,
   "metadata": {},
   "outputs": [
    {
     "name": "stdout",
     "output_type": "stream",
     "text": [
      "\n",
      "True positive rate for downsampled minority: 45.18%\n",
      "True negative rate for downsampled minority: 77.54%\n"
     ]
    }
   ],
   "source": [
    "#equalised odds for downsampled minority\n",
    "equalised_odds(confusion_ds_minority, bias=2, minority=1)"
   ]
  },
  {
   "cell_type": "code",
   "execution_count": 75,
   "metadata": {},
   "outputs": [
    {
     "name": "stdout",
     "output_type": "stream",
     "text": [
      "\n",
      "True positive rate for downsampled non-minority: 61.99%\n",
      "True negative rate for downsampled non-minority: 69.81%\n"
     ]
    }
   ],
   "source": [
    "#equalised odds for donwsampled non-minority\n",
    "equalised_odds(confusion_ds_non_minority, bias=2, minority=0)"
   ]
  },
  {
   "cell_type": "markdown",
   "metadata": {},
   "source": [
    "# Results Discussion - Down-Sampled\n",
    "\n",
    "According to demographic parity, equal opportunity and equalised odds, the down-sampled reduces bias compared to the bias dataset, however, bias still exists in the down-sampled dataset. None of the metrics have a differences between minority and non-minority of less than 5%. \n",
    "\n",
    "Down-sampling a dataset from +450'000 rows to only 1'000 is drastic and not ideal. Therefore, we will try to use disparate impact remover to remove the bias from the train dataset. "
   ]
  },
  {
   "cell_type": "markdown",
   "metadata": {},
   "source": [
    "# 5. Disparate Impact Remover\n",
    "\n",
    "Disparate impact remover on bias dataset did not work, since it only predicts 1s at an accuracy of 15%. "
   ]
  },
  {
   "cell_type": "markdown",
   "metadata": {},
   "source": [
    "Notebook on how to remove bias in a variable: https://nbviewer.jupyter.org/github/srnghn/bias-mitigation-examples/blob/master/Bias%20Mitigation%20with%20Disparate%20Impact%20Remover.ipynb"
   ]
  },
  {
   "cell_type": "code",
   "execution_count": null,
   "metadata": {},
   "outputs": [],
   "source": []
  },
  {
   "cell_type": "code",
   "execution_count": null,
   "metadata": {},
   "outputs": [],
   "source": []
  },
  {
   "cell_type": "code",
   "execution_count": 76,
   "metadata": {},
   "outputs": [],
   "source": [
    "#create dataset and prepare for disparate impact remover\n",
    "train_BLD = BinaryLabelDataset(favorable_label='1',\n",
    "                                unfavorable_label='0',\n",
    "                                df=train,\n",
    "                                label_names=['default'],\n",
    "                                protected_attribute_names=['minority'],\n",
    "                                unprivileged_protected_attributes=['1'])\n",
    "test_BLD = BinaryLabelDataset(favorable_label='1',\n",
    "                                unfavorable_label='0',\n",
    "                                df=test,\n",
    "                                label_names=['default'],\n",
    "                                protected_attribute_names=['minority'],\n",
    "                                unprivileged_protected_attributes=['1'])"
   ]
  },
  {
   "cell_type": "code",
   "execution_count": 77,
   "metadata": {},
   "outputs": [],
   "source": [
    "#transform dataset to remove disparate impact\n",
    "di = DisparateImpactRemover(repair_level=1.0)\n",
    "rp_train = di.fit_transform(train_BLD)\n",
    "rp_test = di.fit_transform(test_BLD)"
   ]
  },
  {
   "cell_type": "code",
   "execution_count": 78,
   "metadata": {
    "collapsed": true
   },
   "outputs": [
    {
     "name": "stdout",
     "output_type": "stream",
     "text": [
      "Epoch 1/100\n",
      " - 2s - loss: 684.6993 - accuracy: 0.5000 - accuracy_1: 0.5000\n",
      "Epoch 2/100\n",
      " - 1s - loss: 7.2448 - accuracy: 0.5003 - accuracy_1: 0.5003\n",
      "Epoch 3/100\n",
      " - 1s - loss: 2.7276 - accuracy: 0.5002 - accuracy_1: 0.5002\n",
      "Epoch 4/100\n",
      " - 1s - loss: 1.8268 - accuracy: 0.4993 - accuracy_1: 0.4993\n",
      "Epoch 5/100\n",
      " - 1s - loss: 1.2412 - accuracy: 0.4990 - accuracy_1: 0.4990\n",
      "Epoch 6/100\n",
      " - 1s - loss: 1.0107 - accuracy: 0.4996 - accuracy_1: 0.4996\n",
      "Epoch 7/100\n",
      " - 1s - loss: 0.8283 - accuracy: 0.4999 - accuracy_1: 0.4999\n",
      "Epoch 8/100\n",
      " - 2s - loss: 0.8074 - accuracy: 0.4994 - accuracy_1: 0.4994\n",
      "Epoch 9/100\n",
      " - 2s - loss: 0.8132 - accuracy: 0.4997 - accuracy_1: 0.4997\n",
      "Epoch 10/100\n",
      " - 2s - loss: 0.7941 - accuracy: 0.5007 - accuracy_1: 0.5007\n",
      "Epoch 11/100\n",
      " - 1s - loss: 0.7514 - accuracy: 0.4993 - accuracy_1: 0.4993\n",
      "Epoch 12/100\n",
      " - 2s - loss: 0.8171 - accuracy: 0.5000 - accuracy_1: 0.5000\n",
      "Epoch 13/100\n",
      " - 1s - loss: 0.7250 - accuracy: 0.4996 - accuracy_1: 0.4996\n",
      "Epoch 14/100\n",
      " - 1s - loss: 0.7399 - accuracy: 0.4992 - accuracy_1: 0.4992\n",
      "Epoch 15/100\n",
      " - 1s - loss: 0.7250 - accuracy: 0.4995 - accuracy_1: 0.4995\n",
      "Epoch 16/100\n",
      " - 1s - loss: 0.7222 - accuracy: 0.5005 - accuracy_1: 0.5005\n",
      "Epoch 17/100\n",
      " - 1s - loss: 0.7117 - accuracy: 0.4997 - accuracy_1: 0.4997\n",
      "Epoch 18/100\n",
      " - 2s - loss: 0.7052 - accuracy: 0.5006 - accuracy_1: 0.5006\n",
      "Epoch 19/100\n",
      " - 1s - loss: 0.7168 - accuracy: 0.4999 - accuracy_1: 0.4999\n",
      "Epoch 20/100\n",
      " - 1s - loss: 0.7052 - accuracy: 0.4978 - accuracy_1: 0.4978\n",
      "Epoch 21/100\n",
      " - 1s - loss: 0.7089 - accuracy: 0.5000 - accuracy_1: 0.5000\n",
      "Epoch 22/100\n",
      " - 1s - loss: 0.7076 - accuracy: 0.5001 - accuracy_1: 0.5001\n",
      "Epoch 23/100\n",
      " - 2s - loss: 0.6982 - accuracy: 0.4992 - accuracy_1: 0.4992\n",
      "Epoch 24/100\n",
      " - 2s - loss: 0.6994 - accuracy: 0.5004 - accuracy_1: 0.5004\n",
      "Epoch 25/100\n",
      " - 2s - loss: 0.7022 - accuracy: 0.5000 - accuracy_1: 0.5000\n",
      "Epoch 26/100\n",
      " - 2s - loss: 0.6951 - accuracy: 0.5013 - accuracy_1: 0.5013\n",
      "Epoch 27/100\n",
      " - 1s - loss: 0.6987 - accuracy: 0.4992 - accuracy_1: 0.4992\n",
      "Epoch 28/100\n",
      " - 2s - loss: 0.6940 - accuracy: 0.4994 - accuracy_1: 0.4994\n",
      "Epoch 29/100\n",
      " - 2s - loss: 0.6933 - accuracy: 0.4997 - accuracy_1: 0.4997\n",
      "Epoch 30/100\n",
      " - 2s - loss: 0.6960 - accuracy: 0.4990 - accuracy_1: 0.4990\n",
      "Epoch 31/100\n",
      " - 2s - loss: 0.6945 - accuracy: 0.4992 - accuracy_1: 0.4992\n",
      "Epoch 32/100\n",
      " - 2s - loss: 0.6950 - accuracy: 0.5006 - accuracy_1: 0.5006\n",
      "Epoch 33/100\n",
      " - 1s - loss: 0.6938 - accuracy: 0.4988 - accuracy_1: 0.4988\n",
      "Epoch 34/100\n",
      " - 1s - loss: 0.6933 - accuracy: 0.4992 - accuracy_1: 0.4992\n",
      "Epoch 35/100\n",
      " - 1s - loss: 0.6947 - accuracy: 0.4994 - accuracy_1: 0.4994\n",
      "Epoch 36/100\n",
      " - 2s - loss: 0.6932 - accuracy: 0.5004 - accuracy_1: 0.5004\n",
      "Epoch 37/100\n",
      " - 1s - loss: 0.6953 - accuracy: 0.4996 - accuracy_1: 0.4996\n",
      "Epoch 38/100\n",
      " - 2s - loss: 0.6934 - accuracy: 0.5001 - accuracy_1: 0.5001\n",
      "Epoch 39/100\n",
      " - 2s - loss: 0.6955 - accuracy: 0.5002 - accuracy_1: 0.5002\n",
      "Epoch 40/100\n",
      " - 1s - loss: 0.6935 - accuracy: 0.4988 - accuracy_1: 0.4988\n",
      "Epoch 41/100\n",
      " - 1s - loss: 0.6932 - accuracy: 0.5003 - accuracy_1: 0.5003\n",
      "Epoch 42/100\n",
      " - 1s - loss: 0.6933 - accuracy: 0.5006 - accuracy_1: 0.5006\n",
      "Epoch 43/100\n",
      " - 1s - loss: 0.6932 - accuracy: 0.4998 - accuracy_1: 0.4998\n",
      "Epoch 44/100\n",
      " - 2s - loss: 0.6961 - accuracy: 0.4994 - accuracy_1: 0.4994\n",
      "Epoch 45/100\n",
      " - 2s - loss: 0.6932 - accuracy: 0.4993 - accuracy_1: 0.4993\n",
      "Epoch 46/100\n",
      " - 2s - loss: 0.6942 - accuracy: 0.5000 - accuracy_1: 0.5000\n",
      "Epoch 47/100\n",
      " - 1s - loss: 0.6933 - accuracy: 0.4989 - accuracy_1: 0.4989\n",
      "Epoch 48/100\n",
      " - 1s - loss: 0.6931 - accuracy: 0.4996 - accuracy_1: 0.4996\n",
      "Epoch 49/100\n",
      " - 1s - loss: 0.6933 - accuracy: 0.4995 - accuracy_1: 0.4995\n",
      "Epoch 50/100\n",
      " - 1s - loss: 0.6932 - accuracy: 0.5005 - accuracy_1: 0.5005\n",
      "Epoch 51/100\n",
      " - 1s - loss: 0.6932 - accuracy: 0.4997 - accuracy_1: 0.4997\n",
      "Epoch 52/100\n",
      " - 1s - loss: 0.6933 - accuracy: 0.5006 - accuracy_1: 0.5006\n",
      "Epoch 53/100\n",
      " - 2s - loss: 0.6940 - accuracy: 0.5001 - accuracy_1: 0.5001\n"
     ]
    },
    {
     "data": {
      "text/plain": [
       "<keras.callbacks.callbacks.History at 0x16d482be0>"
      ]
     },
     "execution_count": 78,
     "metadata": {},
     "output_type": "execute_result"
    }
   ],
   "source": [
    "#train deep learning model\n",
    "FNN_rp = create_model(rp_train.features[:, 2:]) #first two columns dropped since sex and minority\n",
    "FNN_rp.fit(rp_train.features[:, 2:], rp_train.labels, epochs=100, batch_size=1000, shuffle=True, verbose=2, \n",
    "           callbacks=[es_callback], validation_data=(rp_test.features[:, 2:], y_test))"
   ]
  },
  {
   "cell_type": "code",
   "execution_count": 79,
   "metadata": {},
   "outputs": [],
   "source": [
    "#predict labels\n",
    "di_preds = FNN_rp.predict(rp_test.features[:, 2:])"
   ]
  },
  {
   "cell_type": "code",
   "execution_count": 80,
   "metadata": {},
   "outputs": [
    {
     "data": {
      "text/html": [
       "<div>\n",
       "<style scoped>\n",
       "    .dataframe tbody tr th:only-of-type {\n",
       "        vertical-align: middle;\n",
       "    }\n",
       "\n",
       "    .dataframe tbody tr th {\n",
       "        vertical-align: top;\n",
       "    }\n",
       "\n",
       "    .dataframe thead th {\n",
       "        text-align: right;\n",
       "    }\n",
       "</style>\n",
       "<table border=\"1\" class=\"dataframe\">\n",
       "  <thead>\n",
       "    <tr style=\"text-align: right;\">\n",
       "      <th></th>\n",
       "      <th>minority</th>\n",
       "      <th>preds</th>\n",
       "    </tr>\n",
       "  </thead>\n",
       "  <tbody>\n",
       "    <tr>\n",
       "      <th>0</th>\n",
       "      <td>1.0</td>\n",
       "      <td>0.501026</td>\n",
       "    </tr>\n",
       "    <tr>\n",
       "      <th>1</th>\n",
       "      <td>0.0</td>\n",
       "      <td>0.501026</td>\n",
       "    </tr>\n",
       "    <tr>\n",
       "      <th>2</th>\n",
       "      <td>0.0</td>\n",
       "      <td>0.501026</td>\n",
       "    </tr>\n",
       "    <tr>\n",
       "      <th>3</th>\n",
       "      <td>1.0</td>\n",
       "      <td>0.501026</td>\n",
       "    </tr>\n",
       "    <tr>\n",
       "      <th>4</th>\n",
       "      <td>1.0</td>\n",
       "      <td>0.501026</td>\n",
       "    </tr>\n",
       "  </tbody>\n",
       "</table>\n",
       "</div>"
      ],
      "text/plain": [
       "   minority     preds\n",
       "0       1.0  0.501026\n",
       "1       0.0  0.501026\n",
       "2       0.0  0.501026\n",
       "3       1.0  0.501026\n",
       "4       1.0  0.501026"
      ]
     },
     "execution_count": 80,
     "metadata": {},
     "output_type": "execute_result"
    }
   ],
   "source": [
    "#create dataframe with labels and minority\n",
    "di_pred_np = np.concatenate((test[['minority']],\n",
    "                                di_preds), \n",
    "                                axis=1)\n",
    "di_pred_df = pd.DataFrame(di_pred_np, columns=['minority', 'preds'])\n",
    "di_pred_df.head()"
   ]
  },
  {
   "cell_type": "code",
   "execution_count": 81,
   "metadata": {},
   "outputs": [
    {
     "data": {
      "text/plain": [
       "0.5010262131690979"
      ]
     },
     "execution_count": 81,
     "metadata": {},
     "output_type": "execute_result"
    }
   ],
   "source": [
    "#only 0.5s are predicted\n",
    "#input in Sigmoid function is too close to 0, thus, 0.5 returned. \n",
    "di_pred_df['preds'].mean()"
   ]
  },
  {
   "cell_type": "code",
   "execution_count": 82,
   "metadata": {},
   "outputs": [
    {
     "name": "stdout",
     "output_type": "stream",
     "text": [
      "Deep Learning accuracy after disparate impact remover on bias dataset: 14.97%\n",
      "\n",
      "              precision    recall  f1-score   support\n",
      "\n",
      "           0       0.00      0.00      0.00    136055\n",
      "           1       0.15      1.00      0.26     23945\n",
      "\n",
      "    accuracy                           0.15    160000\n",
      "   macro avg       0.07      0.50      0.13    160000\n",
      "weighted avg       0.02      0.15      0.04    160000\n",
      "\n",
      "\n"
     ]
    },
    {
     "name": "stderr",
     "output_type": "stream",
     "text": [
      "/Users/Rolf/anaconda3/lib/python3.7/site-packages/sklearn/metrics/_classification.py:1221: UndefinedMetricWarning: Precision and F-score are ill-defined and being set to 0.0 in labels with no predicted samples. Use `zero_division` parameter to control this behavior.\n",
      "  _warn_prf(average, modifier, msg_start, len(result))\n"
     ]
    },
    {
     "name": "stdout",
     "output_type": "stream",
     "text": [
      "[[     0 136055]\n",
      " [     0  23945]]\n"
     ]
    }
   ],
   "source": [
    "#use model not trained disparate impact remover\n",
    "#predict using test transformed by disparate impact remover\n",
    "y_pred_dl_bias_di = FNN_rp.predict_classes(rp_test.features[:, 2:], verbose=0)\n",
    "\n",
    "accuracy_dl_bias_di = accuracy_score(y_pred_dl_bias_di, y_test)\n",
    "\n",
    "#print accuracy\n",
    "print('Deep Learning accuracy after disparate impact remover on bias dataset: ' + \n",
    "      str(round(accuracy_dl_bias_di*100,2)) + '%')\n",
    "print()\n",
    "\n",
    "print(classification_report(y_test, y_pred_dl_bias_di))\n",
    "\n",
    "print()\n",
    "\n",
    "print(confusion_matrix(y_test, y_pred_dl_bias_di))"
   ]
  },
  {
   "cell_type": "markdown",
   "metadata": {},
   "source": [
    "## Disparate Impact Remover - Down-sampled\n",
    "\n",
    "The results for disparate impact remover on bias dataset are disappointing. Therefore, we apply disparate impact remover to down-sampled dataset.\n",
    "\n",
    "On the down-sampled dataset, after applying disparate impact remover, only 0s (no default) are predicted for an accuracy of 85%. However, a model that only predicts 0s is not useful i.e. the model is not generalising."
   ]
  },
  {
   "cell_type": "code",
   "execution_count": 83,
   "metadata": {},
   "outputs": [],
   "source": [
    "#create disparate impact remover\n",
    "#preparation for next code cell below\n",
    "train_BLD_ds = BinaryLabelDataset(favorable_label='1',\n",
    "                                unfavorable_label='0',\n",
    "                                df=df_downsampled,\n",
    "                                label_names=['default'],\n",
    "                                protected_attribute_names=['minority'],\n",
    "                                unprivileged_protected_attributes=['1'])"
   ]
  },
  {
   "cell_type": "code",
   "execution_count": 84,
   "metadata": {},
   "outputs": [],
   "source": [
    "#fit disaparate impact remover on train\n",
    "di = DisparateImpactRemover(repair_level=1.0)\n",
    "rp_train_ds = di.fit_transform(train_BLD_ds)"
   ]
  },
  {
   "cell_type": "code",
   "execution_count": 90,
   "metadata": {
    "collapsed": true
   },
   "outputs": [
    {
     "name": "stdout",
     "output_type": "stream",
     "text": [
      "Train on 1000 samples, validate on 160000 samples\n",
      "Epoch 1/100\n",
      " - 0s - loss: 14782.0479 - accuracy: 0.5070 - accuracy_1: 0.5070 - val_loss: 7010.2436 - val_accuracy: 0.8503 - val_accuracy_1: 0.8503\n",
      "Epoch 2/100\n",
      " - 0s - loss: 14681.7500 - accuracy: 0.4980 - accuracy_1: 0.4980 - val_loss: 6370.9055 - val_accuracy: 0.8503 - val_accuracy_1: 0.8503\n",
      "Epoch 3/100\n",
      " - 0s - loss: 12820.4355 - accuracy: 0.5090 - accuracy_1: 0.5090 - val_loss: 5722.6716 - val_accuracy: 0.8503 - val_accuracy_1: 0.8503\n",
      "Epoch 4/100\n",
      " - 0s - loss: 13107.8896 - accuracy: 0.4940 - accuracy_1: 0.4940 - val_loss: 5118.0326 - val_accuracy: 0.8503 - val_accuracy_1: 0.8503\n",
      "Epoch 5/100\n",
      " - 0s - loss: 12994.8340 - accuracy: 0.4850 - accuracy_1: 0.4850 - val_loss: 4490.4253 - val_accuracy: 0.8503 - val_accuracy_1: 0.8503\n",
      "Epoch 6/100\n",
      " - 0s - loss: 11480.8379 - accuracy: 0.5120 - accuracy_1: 0.5120 - val_loss: 3890.1686 - val_accuracy: 0.8503 - val_accuracy_1: 0.8503\n",
      "Epoch 7/100\n",
      " - 0s - loss: 12221.4717 - accuracy: 0.4980 - accuracy_1: 0.4980 - val_loss: 3313.4926 - val_accuracy: 0.8503 - val_accuracy_1: 0.8503\n",
      "Epoch 8/100\n",
      " - 0s - loss: 10460.5479 - accuracy: 0.5110 - accuracy_1: 0.5110 - val_loss: 2763.3833 - val_accuracy: 0.8503 - val_accuracy_1: 0.8503\n",
      "Epoch 9/100\n",
      " - 0s - loss: 10310.9961 - accuracy: 0.5080 - accuracy_1: 0.5080 - val_loss: 2234.6429 - val_accuracy: 0.8503 - val_accuracy_1: 0.8503\n",
      "Epoch 10/100\n",
      " - 0s - loss: 9812.9863 - accuracy: 0.4940 - accuracy_1: 0.4940 - val_loss: 1725.9352 - val_accuracy: 0.8503 - val_accuracy_1: 0.8503\n",
      "Epoch 11/100\n",
      " - 0s - loss: 10047.6787 - accuracy: 0.5260 - accuracy_1: 0.5260 - val_loss: 1234.3311 - val_accuracy: 0.8503 - val_accuracy_1: 0.8503\n",
      "Epoch 12/100\n",
      " - 0s - loss: 9802.3936 - accuracy: 0.4750 - accuracy_1: 0.4750 - val_loss: 816.5765 - val_accuracy: 0.8503 - val_accuracy_1: 0.8503\n",
      "Epoch 13/100\n",
      " - 0s - loss: 8954.2305 - accuracy: 0.4970 - accuracy_1: 0.4970 - val_loss: 441.4319 - val_accuracy: 0.8503 - val_accuracy_1: 0.8503\n",
      "Epoch 14/100\n",
      " - 0s - loss: 8331.5381 - accuracy: 0.4980 - accuracy_1: 0.4980 - val_loss: 95.7742 - val_accuracy: 0.8503 - val_accuracy_1: 0.8503\n",
      "Epoch 15/100\n",
      " - 0s - loss: 8195.2578 - accuracy: 0.4940 - accuracy_1: 0.4940 - val_loss: 1124.5964 - val_accuracy: 0.1497 - val_accuracy_1: 0.1497\n",
      "Epoch 16/100\n",
      " - 0s - loss: 7826.6333 - accuracy: 0.5000 - accuracy_1: 0.5000 - val_loss: 2590.8110 - val_accuracy: 0.1497 - val_accuracy_1: 0.1497\n",
      "Epoch 17/100\n",
      " - 0s - loss: 8193.6084 - accuracy: 0.5150 - accuracy_1: 0.5150 - val_loss: 3856.5269 - val_accuracy: 0.1497 - val_accuracy_1: 0.1497\n",
      "Epoch 18/100\n",
      " - 0s - loss: 7948.4712 - accuracy: 0.4920 - accuracy_1: 0.4920 - val_loss: 4940.5334 - val_accuracy: 0.1497 - val_accuracy_1: 0.1497\n",
      "Epoch 19/100\n",
      " - 0s - loss: 7678.6108 - accuracy: 0.5020 - accuracy_1: 0.5020 - val_loss: 5795.5709 - val_accuracy: 0.1497 - val_accuracy_1: 0.1497\n",
      "Epoch 20/100\n",
      " - 0s - loss: 8629.3018 - accuracy: 0.4870 - accuracy_1: 0.4870 - val_loss: 6398.4332 - val_accuracy: 0.1497 - val_accuracy_1: 0.1497\n",
      "Epoch 21/100\n",
      " - 0s - loss: 8803.5859 - accuracy: 0.5180 - accuracy_1: 0.5180 - val_loss: 6735.2516 - val_accuracy: 0.1497 - val_accuracy_1: 0.1497\n",
      "Epoch 22/100\n",
      " - 0s - loss: 7783.0220 - accuracy: 0.5410 - accuracy_1: 0.5410 - val_loss: 6913.0559 - val_accuracy: 0.1497 - val_accuracy_1: 0.1497\n",
      "Epoch 23/100\n",
      " - 0s - loss: 8276.3135 - accuracy: 0.4920 - accuracy_1: 0.4920 - val_loss: 6971.0934 - val_accuracy: 0.1497 - val_accuracy_1: 0.1497\n",
      "Epoch 24/100\n",
      " - 0s - loss: 7328.4619 - accuracy: 0.5160 - accuracy_1: 0.5160 - val_loss: 6895.5860 - val_accuracy: 0.1497 - val_accuracy_1: 0.1497\n",
      "Epoch 25/100\n",
      " - 0s - loss: 8024.2866 - accuracy: 0.4770 - accuracy_1: 0.4770 - val_loss: 6705.7223 - val_accuracy: 0.1497 - val_accuracy_1: 0.1497\n",
      "Epoch 26/100\n",
      " - 0s - loss: 7304.6362 - accuracy: 0.5080 - accuracy_1: 0.5080 - val_loss: 6475.3721 - val_accuracy: 0.1497 - val_accuracy_1: 0.1497\n",
      "Epoch 27/100\n",
      " - 0s - loss: 7081.1001 - accuracy: 0.5300 - accuracy_1: 0.5300 - val_loss: 6219.1233 - val_accuracy: 0.1497 - val_accuracy_1: 0.1497\n",
      "Epoch 28/100\n",
      " - 0s - loss: 7028.5093 - accuracy: 0.4930 - accuracy_1: 0.4930 - val_loss: 5896.3742 - val_accuracy: 0.1497 - val_accuracy_1: 0.1497\n",
      "Epoch 29/100\n",
      " - 0s - loss: 7249.5420 - accuracy: 0.4940 - accuracy_1: 0.4940 - val_loss: 5505.5493 - val_accuracy: 0.1497 - val_accuracy_1: 0.1497\n",
      "Epoch 30/100\n",
      " - 0s - loss: 5957.9717 - accuracy: 0.5360 - accuracy_1: 0.5360 - val_loss: 5094.1386 - val_accuracy: 0.1497 - val_accuracy_1: 0.1497\n",
      "Epoch 31/100\n",
      " - 0s - loss: 6070.2612 - accuracy: 0.5080 - accuracy_1: 0.5080 - val_loss: 4635.1401 - val_accuracy: 0.1497 - val_accuracy_1: 0.1497\n",
      "Epoch 32/100\n",
      " - 0s - loss: 6127.8535 - accuracy: 0.5380 - accuracy_1: 0.5380 - val_loss: 4163.4294 - val_accuracy: 0.1497 - val_accuracy_1: 0.1497\n",
      "Epoch 33/100\n",
      " - 0s - loss: 5921.5239 - accuracy: 0.5120 - accuracy_1: 0.5120 - val_loss: 3679.7122 - val_accuracy: 0.1497 - val_accuracy_1: 0.1497\n",
      "Epoch 34/100\n",
      " - 0s - loss: 6459.7451 - accuracy: 0.5020 - accuracy_1: 0.5020 - val_loss: 3232.9542 - val_accuracy: 0.1497 - val_accuracy_1: 0.1497\n",
      "Epoch 35/100\n",
      " - 0s - loss: 6173.2910 - accuracy: 0.5170 - accuracy_1: 0.5170 - val_loss: 2802.6700 - val_accuracy: 0.1497 - val_accuracy_1: 0.1497\n",
      "Epoch 36/100\n",
      " - 0s - loss: 5966.6382 - accuracy: 0.5370 - accuracy_1: 0.5370 - val_loss: 2374.2219 - val_accuracy: 0.1497 - val_accuracy_1: 0.1497\n",
      "Epoch 37/100\n",
      " - 0s - loss: 6017.5220 - accuracy: 0.5220 - accuracy_1: 0.5220 - val_loss: 1976.8376 - val_accuracy: 0.1497 - val_accuracy_1: 0.1497\n",
      "Epoch 38/100\n",
      " - 0s - loss: 5740.4551 - accuracy: 0.5370 - accuracy_1: 0.5370 - val_loss: 1591.2953 - val_accuracy: 0.1497 - val_accuracy_1: 0.1497\n",
      "Epoch 39/100\n",
      " - 0s - loss: 5798.8330 - accuracy: 0.5100 - accuracy_1: 0.5100 - val_loss: 1223.2627 - val_accuracy: 0.1497 - val_accuracy_1: 0.1497\n",
      "Epoch 40/100\n",
      " - 0s - loss: 5911.1411 - accuracy: 0.5390 - accuracy_1: 0.5390 - val_loss: 942.6411 - val_accuracy: 0.1497 - val_accuracy_1: 0.1497\n",
      "Epoch 41/100\n",
      " - 0s - loss: 5462.6533 - accuracy: 0.5160 - accuracy_1: 0.5160 - val_loss: 753.4689 - val_accuracy: 0.1497 - val_accuracy_1: 0.1497\n",
      "Epoch 42/100\n",
      " - 0s - loss: 5303.5430 - accuracy: 0.5230 - accuracy_1: 0.5230 - val_loss: 563.1358 - val_accuracy: 0.1497 - val_accuracy_1: 0.1497\n",
      "Epoch 43/100\n",
      " - 0s - loss: 4551.8042 - accuracy: 0.5220 - accuracy_1: 0.5220 - val_loss: 405.9131 - val_accuracy: 0.1497 - val_accuracy_1: 0.1497\n",
      "Epoch 44/100\n",
      " - 0s - loss: 5322.1963 - accuracy: 0.5240 - accuracy_1: 0.5240 - val_loss: 275.2824 - val_accuracy: 0.1514 - val_accuracy_1: 0.1514\n",
      "Epoch 45/100\n",
      " - 0s - loss: 4802.2778 - accuracy: 0.4990 - accuracy_1: 0.4990 - val_loss: 159.8946 - val_accuracy: 0.1889 - val_accuracy_1: 0.1889\n",
      "Epoch 46/100\n",
      " - 0s - loss: 4721.8579 - accuracy: 0.5050 - accuracy_1: 0.5050 - val_loss: 57.4752 - val_accuracy: 0.4303 - val_accuracy_1: 0.4303\n",
      "Epoch 47/100\n",
      " - 0s - loss: 5001.8760 - accuracy: 0.5010 - accuracy_1: 0.5010 - val_loss: 20.1119 - val_accuracy: 0.7067 - val_accuracy_1: 0.7067\n",
      "Epoch 48/100\n",
      " - 0s - loss: 4888.1382 - accuracy: 0.4940 - accuracy_1: 0.4940 - val_loss: 24.1836 - val_accuracy: 0.8503 - val_accuracy_1: 0.8503\n"
     ]
    },
    {
     "data": {
      "text/plain": [
       "<keras.callbacks.callbacks.History at 0x170657f60>"
      ]
     },
     "execution_count": 90,
     "metadata": {},
     "output_type": "execute_result"
    }
   ],
   "source": [
    "#downsampled dataset with disparate impact remover\n",
    "FNN_rp_ds = create_model(rp_train.features[:, 2:]) #first two columns dropped since sex and minority\n",
    "FNN_rp_ds.fit(rp_train_ds.features[:, 2:], rp_train_ds.labels, epochs=100, batch_size=1000, \n",
    "           shuffle=True, verbose=2, callbacks=[es_callback], validation_data=(rp_test.features[:, 2:], y_test))"
   ]
  },
  {
   "cell_type": "code",
   "execution_count": 91,
   "metadata": {},
   "outputs": [
    {
     "data": {
      "text/html": [
       "<div>\n",
       "<style scoped>\n",
       "    .dataframe tbody tr th:only-of-type {\n",
       "        vertical-align: middle;\n",
       "    }\n",
       "\n",
       "    .dataframe tbody tr th {\n",
       "        vertical-align: top;\n",
       "    }\n",
       "\n",
       "    .dataframe thead th {\n",
       "        text-align: right;\n",
       "    }\n",
       "</style>\n",
       "<table border=\"1\" class=\"dataframe\">\n",
       "  <thead>\n",
       "    <tr style=\"text-align: right;\">\n",
       "      <th></th>\n",
       "      <th>minority</th>\n",
       "      <th>preds</th>\n",
       "    </tr>\n",
       "  </thead>\n",
       "  <tbody>\n",
       "    <tr>\n",
       "      <th>0</th>\n",
       "      <td>1.0</td>\n",
       "      <td>0.000000e+00</td>\n",
       "    </tr>\n",
       "    <tr>\n",
       "      <th>1</th>\n",
       "      <td>0.0</td>\n",
       "      <td>0.000000e+00</td>\n",
       "    </tr>\n",
       "    <tr>\n",
       "      <th>2</th>\n",
       "      <td>0.0</td>\n",
       "      <td>0.000000e+00</td>\n",
       "    </tr>\n",
       "    <tr>\n",
       "      <th>3</th>\n",
       "      <td>1.0</td>\n",
       "      <td>5.170019e-21</td>\n",
       "    </tr>\n",
       "    <tr>\n",
       "      <th>4</th>\n",
       "      <td>1.0</td>\n",
       "      <td>0.000000e+00</td>\n",
       "    </tr>\n",
       "  </tbody>\n",
       "</table>\n",
       "</div>"
      ],
      "text/plain": [
       "   minority         preds\n",
       "0       1.0  0.000000e+00\n",
       "1       0.0  0.000000e+00\n",
       "2       0.0  0.000000e+00\n",
       "3       1.0  5.170019e-21\n",
       "4       1.0  0.000000e+00"
      ]
     },
     "execution_count": 91,
     "metadata": {},
     "output_type": "execute_result"
    }
   ],
   "source": [
    "#predict default rate\n",
    "di_preds_ds = FNN_rp_ds.predict(rp_test.features[:, 2:])\n",
    "\n",
    "#concat predictions with minority\n",
    "di_pred_np_ds = np.concatenate((test[['minority']],\n",
    "                                di_preds_ds), \n",
    "                                axis=1)\n",
    "\n",
    "#convert to dataframe\n",
    "di_pred_df_ds = pd.DataFrame(di_pred_np_ds, columns=['minority', 'preds'])\n",
    "di_pred_df_ds.head()"
   ]
  },
  {
   "cell_type": "code",
   "execution_count": 92,
   "metadata": {},
   "outputs": [
    {
     "data": {
      "text/plain": [
       "2.569148472727722e-16"
      ]
     },
     "execution_count": 92,
     "metadata": {},
     "output_type": "execute_result"
    }
   ],
   "source": [
    "#only 1s are predicted\n",
    "di_pred_df_ds['preds'].mean()"
   ]
  },
  {
   "cell_type": "code",
   "execution_count": 93,
   "metadata": {},
   "outputs": [
    {
     "name": "stdout",
     "output_type": "stream",
     "text": [
      "Deep Learning accuracy after disparate impact remover on downsampled dataset: 85.03%\n",
      "\n",
      "              precision    recall  f1-score   support\n",
      "\n",
      "           0       0.85      1.00      0.92    136055\n",
      "           1       0.00      0.00      0.00     23945\n",
      "\n",
      "    accuracy                           0.85    160000\n",
      "   macro avg       0.43      0.50      0.46    160000\n",
      "weighted avg       0.72      0.85      0.78    160000\n",
      "\n",
      "\n"
     ]
    },
    {
     "name": "stderr",
     "output_type": "stream",
     "text": [
      "/Users/Rolf/anaconda3/lib/python3.7/site-packages/sklearn/metrics/_classification.py:1221: UndefinedMetricWarning: Precision and F-score are ill-defined and being set to 0.0 in labels with no predicted samples. Use `zero_division` parameter to control this behavior.\n",
      "  _warn_prf(average, modifier, msg_start, len(result))\n"
     ]
    },
    {
     "name": "stdout",
     "output_type": "stream",
     "text": [
      "[[136055      0]\n",
      " [ 23945      0]]\n"
     ]
    }
   ],
   "source": [
    "#use model not trained disparate impact remover\n",
    "#predict using test transformed by disparate impact remover\n",
    "y_pred_dl_ds_di = FNN_rp_ds.predict_classes(rp_test.features[:, 2:], verbose=0)\n",
    "\n",
    "accuracy_dl_ds_di = accuracy_score(y_pred_dl_ds_di, y_test)\n",
    "\n",
    "#print accuracy\n",
    "print('Deep Learning accuracy after disparate impact remover on downsampled dataset: ' + \n",
    "      str(round(accuracy_dl_ds_di*100,2)) + '%')\n",
    "print()\n",
    "\n",
    "print(classification_report(y_test, y_pred_dl_ds_di))\n",
    "\n",
    "print()\n",
    "print(confusion_matrix(y_test, y_pred_dl_ds_di))"
   ]
  },
  {
   "cell_type": "code",
   "execution_count": null,
   "metadata": {},
   "outputs": [],
   "source": []
  }
 ],
 "metadata": {
  "kernelspec": {
   "display_name": "Python 3",
   "language": "python",
   "name": "python3"
  },
  "language_info": {
   "codemirror_mode": {
    "name": "ipython",
    "version": 3
   },
   "file_extension": ".py",
   "mimetype": "text/x-python",
   "name": "python",
   "nbconvert_exporter": "python",
   "pygments_lexer": "ipython3",
   "version": "3.7.3"
  }
 },
 "nbformat": 4,
 "nbformat_minor": 2
}
